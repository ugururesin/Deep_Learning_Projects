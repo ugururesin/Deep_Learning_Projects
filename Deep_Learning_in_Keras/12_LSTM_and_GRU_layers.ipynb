{
 "cells": [
  {
   "cell_type": "markdown",
   "id": "a8c611d5",
   "metadata": {},
   "source": [
    "# Deep-Learning with Keras\n",
    "\n",
    "#### Ugur URESIN, AI Engineer | Data Scientist\n",
    "#### Mail: uresin.ugur@gmail.com\n",
    "\n",
    "## Chapter 12. LSTM and GRU LAYERS"
   ]
  },
  {
   "cell_type": "markdown",
   "id": "ecf497b5",
   "metadata": {},
   "source": [
    "SimpleRNN is generally **too simplistic** to be of real use.   \n",
    "SimpleRNN has a major issue: although it should theoretically be able to retain at time t information about inputs seen many timesteps before.  \n",
    "In practice, **such long-term dependencies are impossible to learn**.  \n",
    "\n",
    "This is due to the vanishing gradient problem, an effect that is similar to what is observed with non-recurrent networks (feedforward networks) that are many layers deep: as you keep adding layers to a network, the network eventually becomes untrainable.\n",
    "    \n",
    "The theoretical reasons for this effect were studied by Hochreiter, Schmidhuber, and Bengio in the early 1990s.  \n",
    "The **LSTM and GRU layers are designed to solve this problem**.\n",
    "\n",
    "The underlying **Long Short-Term Memory (LSTM) algorithm** was developed by Hochreiter and Schmidhuber in 1997.  \n",
    "It was the culmination of their research on the vanishing gradient problem."
   ]
  },
  {
   "cell_type": "markdown",
   "id": "8f0e33c3",
   "metadata": {},
   "source": [
    "### LSTM LAYER"
   ]
  },
  {
   "cell_type": "markdown",
   "id": "66798a9f",
   "metadata": {},
   "source": [
    "Let’s add to SimpleRNN an additional data flow that carries information across time-steps.  \n",
    "Call its **values at different timesteps Ct**, where C stands for carry.  \n",
    "\n",
    "This information will have the following impact on the cell:  \n",
    "it will be combined with the input connection and the recurrent connection  \n",
    "(via a dense transformation: a dot product with a weight matrix followed by a bias add and the application of an activation function),  \n",
    "and it will affect the state being sent to the next timestep (via an activation function an a multiplication operation).\n",
    "\n",
    "Conceptually, the carry dataflow is a way to modulate the next output and the next state."
   ]
  },
  {
   "cell_type": "markdown",
   "id": "d05ea86f",
   "metadata": {},
   "source": [
    "![LSTM](./img/lstm.png \"LSTM\")"
   ]
  },
  {
   "cell_type": "markdown",
   "id": "9d46a560",
   "metadata": {},
   "source": [
    "Now the subtlety: the way the next value of the carry dataflow is computed.  \n",
    "It involves **three distinct** transformations.  \n",
    "All **three have the form of a SimpleRNN cell**:  \n",
    "\n",
    "y = activation(dot(state_t, U) + dot(input_t, W) + b)  \n",
    "\n",
    "But all three transformations **have their own weight matrices**, which you’ll index with the letters i, f, and k.  "
   ]
  },
  {
   "cell_type": "markdown",
   "id": "0b262bbb",
   "metadata": {},
   "source": [
    "#### Pseudocode of LSTM"
   ]
  },
  {
   "cell_type": "raw",
   "id": "d5207b94",
   "metadata": {},
   "source": [
    "output_t = activation(dot(state_t, Uo) + dot(input_t, Wo) + dot(C_t, Vo) + bo)\n",
    "\n",
    "i_t = activation(dot(state_t, Ui) + dot(input_t, Wi) + bi)  \n",
    "f_t = activation(dot(state_t, Uf) + dot(input_t, Wf) + bf)  \n",
    "k_t = activation(dot(state_t, Uk) + dot(input_t, Wk) + bk)\n",
    "\n",
    "\n",
    "c_t+1 = i_t * k_t + c_t * f_t"
   ]
  },
  {
   "cell_type": "markdown",
   "id": "4a324750",
   "metadata": {},
   "source": [
    "**Multiplying c_t and f_t** is a way to deliberately **forget irrelevant information** in the carry dataflow.  \n",
    "**i_t and k_t** provide information **about the present, updating the carry** track with new information."
   ]
  },
  {
   "cell_type": "markdown",
   "id": "3bd6b376",
   "metadata": {},
   "source": [
    "### LSTM in KERAS (IMDB Dataset)"
   ]
  },
  {
   "cell_type": "code",
   "execution_count": 4,
   "id": "a7df673f",
   "metadata": {},
   "outputs": [
    {
     "name": "stderr",
     "output_type": "stream",
     "text": [
      "Using TensorFlow backend.\n"
     ]
    },
    {
     "name": "stdout",
     "output_type": "stream",
     "text": [
      "Loading data...\n"
     ]
    },
    {
     "name": "stderr",
     "output_type": "stream",
     "text": [
      "/Users/ugururessn/opt/anaconda3/envs/tensorflow/lib/python3.7/site-packages/keras/datasets/imdb.py:101: VisibleDeprecationWarning: Creating an ndarray from ragged nested sequences (which is a list-or-tuple of lists-or-tuples-or ndarrays with different lengths or shapes) is deprecated. If you meant to do this, you must specify 'dtype=object' when creating the ndarray\n",
      "  x_train, y_train = np.array(xs[:idx]), np.array(labels[:idx])\n",
      "/Users/ugururessn/opt/anaconda3/envs/tensorflow/lib/python3.7/site-packages/keras/datasets/imdb.py:102: VisibleDeprecationWarning: Creating an ndarray from ragged nested sequences (which is a list-or-tuple of lists-or-tuples-or ndarrays with different lengths or shapes) is deprecated. If you meant to do this, you must specify 'dtype=object' when creating the ndarray\n",
      "  x_test, y_test = np.array(xs[idx:]), np.array(labels[idx:])\n"
     ]
    },
    {
     "name": "stdout",
     "output_type": "stream",
     "text": [
      "25000 train sequences\n",
      "25000 test sequences\n",
      "Pad sequences (samples x time)\n",
      "input_train shape: (25000, 500)\n",
      "input_test shape: (25000, 500)\n"
     ]
    }
   ],
   "source": [
    "from keras.datasets import imdb\n",
    "from keras.preprocessing import sequence\n",
    "\n",
    "max_features = 10000 #Number of words to consider as features\n",
    "maxlen = 500 #Cuts off texts after this many words (among the max_features most common words)\n",
    "batch_size = 32\n",
    "\n",
    "print('Loading data...')\n",
    "(input_train, y_train), (input_test, y_test) = imdb.load_data(num_words=max_features)\n",
    "print(len(input_train), 'train sequences')\n",
    "print(len(input_test), 'test sequences')\n",
    "print('Pad sequences (samples x time)')\n",
    "\n",
    "input_train = sequence.pad_sequences(input_train, maxlen=maxlen)\n",
    "input_test = sequence.pad_sequences(input_test, maxlen=maxlen)\n",
    "\n",
    "print('input_train shape:', input_train.shape)\n",
    "print('input_test shape:', input_test.shape)"
   ]
  },
  {
   "cell_type": "code",
   "execution_count": 9,
   "id": "3904276d",
   "metadata": {},
   "outputs": [
    {
     "name": "stderr",
     "output_type": "stream",
     "text": [
      "2021-09-26 08:06:18.144301: I tensorflow/core/platform/cpu_feature_guard.cc:145] This TensorFlow binary is optimized with Intel(R) MKL-DNN to use the following CPU instructions in performance critical operations:  SSE4.1 SSE4.2 AVX AVX2 FMA\n",
      "To enable them in non-MKL-DNN operations, rebuild TensorFlow with the appropriate compiler flags.\n",
      "2021-09-26 08:06:18.154761: I tensorflow/core/common_runtime/process_util.cc:115] Creating new thread pool with default inter op setting: 4. Tune using inter_op_parallelism_threads for best performance.\n",
      "/Users/ugururessn/opt/anaconda3/envs/tensorflow/lib/python3.7/site-packages/tensorflow_core/python/framework/indexed_slices.py:424: UserWarning: Converting sparse IndexedSlices to a dense Tensor of unknown shape. This may consume a large amount of memory.\n",
      "  \"Converting sparse IndexedSlices to a dense Tensor of unknown shape. \"\n"
     ]
    },
    {
     "name": "stdout",
     "output_type": "stream",
     "text": [
      "Train on 20000 samples, validate on 5000 samples\n",
      "Epoch 1/10\n",
      "20000/20000 [==============================] - 1611s 81ms/step - loss: 0.5019 - acc: 0.7662 - val_loss: 0.3374 - val_acc: 0.8600\n",
      "Epoch 2/10\n",
      "20000/20000 [==============================] - 3968s 198ms/step - loss: 0.2985 - acc: 0.8828 - val_loss: 0.2804 - val_acc: 0.8890\n",
      "Epoch 3/10\n",
      "20000/20000 [==============================] - 219s 11ms/step - loss: 0.2359 - acc: 0.9126 - val_loss: 0.3170 - val_acc: 0.8772\n",
      "Epoch 4/10\n",
      "20000/20000 [==============================] - 219s 11ms/step - loss: 0.2028 - acc: 0.9249 - val_loss: 0.2999 - val_acc: 0.8952\n",
      "Epoch 5/10\n",
      "20000/20000 [==============================] - 224s 11ms/step - loss: 0.1773 - acc: 0.9363 - val_loss: 0.2829 - val_acc: 0.8922\n",
      "Epoch 6/10\n",
      "20000/20000 [==============================] - 225s 11ms/step - loss: 0.1556 - acc: 0.9433 - val_loss: 0.3919 - val_acc: 0.8640\n",
      "Epoch 7/10\n",
      "20000/20000 [==============================] - 221s 11ms/step - loss: 0.1470 - acc: 0.9489 - val_loss: 0.2979 - val_acc: 0.8842\n",
      "Epoch 8/10\n",
      "20000/20000 [==============================] - 225s 11ms/step - loss: 0.1330 - acc: 0.9546 - val_loss: 0.3207 - val_acc: 0.8866\n",
      "Epoch 9/10\n",
      "20000/20000 [==============================] - 220s 11ms/step - loss: 0.1210 - acc: 0.9582 - val_loss: 0.5939 - val_acc: 0.8198\n",
      "Epoch 10/10\n",
      "20000/20000 [==============================] - 224s 11ms/step - loss: 0.1154 - acc: 0.9603 - val_loss: 0.4033 - val_acc: 0.8404\n"
     ]
    }
   ],
   "source": [
    "from keras.models import Sequential\n",
    "\n",
    "from keras.layers import Embedding\n",
    "from keras.layers import Dense\n",
    "from keras.layers import LSTM\n",
    "\n",
    "## Model Creation\n",
    "model = Sequential()\n",
    "model.add(Embedding(max_features,32))\n",
    "model.add(LSTM(32))\n",
    "model.add(Dense(1, activation=\"sigmoid\"))\n",
    "\n",
    "## Model Compilation\n",
    "model.compile(optimizer='rmsprop', loss='binary_crossentropy', metrics=['acc'])\n",
    "\n",
    "## Training\n",
    "history = model.fit(input_train, y_train, epochs=10, batch_size=128, validation_split=0.2)"
   ]
  },
  {
   "cell_type": "markdown",
   "id": "084823bd",
   "metadata": {},
   "source": [
    "#### Visualizing the Results"
   ]
  },
  {
   "cell_type": "code",
   "execution_count": 10,
   "id": "224de154",
   "metadata": {},
   "outputs": [
    {
     "data": {
      "image/png": "[encoded data removed]",
      "text/plain": [
       "<Figure size 432x288 with 1 Axes>"
      ]
     },
     "metadata": {
      "needs_background": "light"
     },
     "output_type": "display_data"
    },
    {
     "data": {
      "image/png": "[encoded data removed]",
      "text/plain": [
       "<Figure size 432x288 with 1 Axes>"
      ]
     },
     "metadata": {
      "needs_background": "light"
     },
     "output_type": "display_data"
    }
   ],
   "source": [
    "import matplotlib.pyplot as plt\n",
    "\n",
    "acc = history.history['acc']\n",
    "val_acc = history.history['val_acc']\n",
    "loss = history.history['loss']\n",
    "val_loss = history.history['val_loss']\n",
    "\n",
    "epochs = range(1, len(acc) + 1)\n",
    "\n",
    "plt.plot(epochs, acc, 'bo', label='Training acc')\n",
    "plt.plot(epochs, val_acc, 'b', label='Validation acc')\n",
    "plt.title('Training and validation accuracy')\n",
    "plt.legend()\n",
    "\n",
    "plt.figure()\n",
    "plt.plot(epochs, loss, 'bo', label='Training loss')\n",
    "plt.plot(epochs, val_loss, 'b', label='Validation loss')\n",
    "plt.title('Training and validation loss')\n",
    "plt.legend()\n",
    "plt.show()"
   ]
  }
 ],
 "metadata": {
  "kernelspec": {
   "display_name": "Python 3 (ipykernel)",
   "language": "python",
   "name": "python3"
  },
  "language_info": {
   "codemirror_mode": {
    "name": "ipython",
    "version": 3
   },
   "file_extension": ".py",
   "mimetype": "text/x-python",
   "name": "python",
   "nbconvert_exporter": "python",
   "pygments_lexer": "ipython3",
   "version": "3.7.10"
  }
 },
 "nbformat": 4,
 "nbformat_minor": 5
}
