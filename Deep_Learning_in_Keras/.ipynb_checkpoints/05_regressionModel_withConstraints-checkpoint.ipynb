{
 "cells": [
  {
   "cell_type": "markdown",
   "id": "a8c611d5",
   "metadata": {},
   "source": [
    "# Deep-Learning with Keras\n",
    "\n",
    "#### Ugur URESIN, AI Engineer | Data Scientist\n",
    "#### Mail: uresin.ugur@gmail.com\n",
    "\n",
    "## Chapter 05. Neural Networks - Regression with Constraints\n",
    "### Dataset: Randomly created  \n",
    "\n",
    "**The Objective**  \n",
    "Let's say that there are 2 control parameters of a machine (cp1 and cp2).  \n",
    "We would like to find the best parameters to get minimum machining cost.  \n",
    "However, we would not want to get the control parameters that machine works instable.  \n",
    "Let's find how to constraint the neural network that finds the cost-optimum and stable parameters.  \n",
    "\n",
    "### The Steps\n",
    "* **Step01**. Creating a Dataset\n",
    "* **Step02**. Partitioning the Dataset\n",
    "* **Step03**. Normalizimg the Dataset\n",
    "* **Step04**. Building the network architecture\n",
    "* **Step05**. The compilation and Training\n",
    "* **Step06**. Creating a Validation Log"
   ]
  },
  {
   "cell_type": "markdown",
   "id": "e63bdea8",
   "metadata": {},
   "source": [
    "### Step 01. Creating a Dataset"
   ]
  },
  {
   "cell_type": "code",
   "execution_count": 67,
   "id": "fb6687b7",
   "metadata": {},
   "outputs": [],
   "source": [
    "import numpy as np"
   ]
  },
  {
   "cell_type": "code",
   "execution_count": 68,
   "id": "442749eb",
   "metadata": {},
   "outputs": [],
   "source": [
    "## CREATING CONTROL PARAMETERS (WE WILL USE THESE NUMBERS AS INPUTS)\n",
    "cp1 = np.arange(1,11)*100\n",
    "cp2 = np.arange(1,4)"
   ]
  },
  {
   "cell_type": "code",
   "execution_count": 69,
   "id": "36a3e9e3",
   "metadata": {},
   "outputs": [],
   "source": [
    "## COMBINING CONTROL PARAMETERS\n",
    "cp_doe = np.column_stack( (np.repeat(cp1,len(cp2)), np.tile(cp2,len(cp1)) ))"
   ]
  },
  {
   "cell_type": "code",
   "execution_count": 70,
   "id": "24c223f4",
   "metadata": {},
   "outputs": [],
   "source": [
    "## CREATING A COST DATA (Let's say cost = cp1 + cp2*150)\n",
    "costs = np.zeros((cp_doe.shape[0] ))\n",
    "\n",
    "for i in range(0,cp_doe.shape[0]):\n",
    "    cost = cp_doe[i,0] + cp_doe[i,1]*150\n",
    "    costs[i] = cost"
   ]
  },
  {
   "cell_type": "code",
   "execution_count": 71,
   "id": "00c637a1",
   "metadata": {},
   "outputs": [
    {
     "data": {
      "text/plain": [
       "array([[100.,   1., 250.],\n",
       "       [100.,   2., 400.],\n",
       "       [100.,   3., 550.],\n",
       "       [200.,   1., 350.],\n",
       "       [200.,   2., 500.],\n",
       "       [200.,   3., 650.]])"
      ]
     },
     "execution_count": 71,
     "metadata": {},
     "output_type": "execute_result"
    }
   ],
   "source": [
    "### COMBINING ALL DATA\n",
    "all_data = np.column_stack( (cp_doe,costs))\n",
    "all_data[0:6,:]"
   ]
  },
  {
   "cell_type": "markdown",
   "id": "97a44c8d",
   "metadata": {},
   "source": [
    "### Step 02. Partitioning the Dataset"
   ]
  },
  {
   "cell_type": "code",
   "execution_count": 72,
   "id": "797e4872",
   "metadata": {},
   "outputs": [],
   "source": [
    "x = all_data\n",
    "np.random.shuffle(x)\n",
    "nrows = int(x.shape[0]*0.8)\n",
    "\n",
    "train_data, test_data = x[:,0:2][:nrows,:], x[:,0:2][nrows:,:]\n",
    "train_targets, test_targets = x[:,2][:nrows], x[:,2][nrows:]"
   ]
  },
  {
   "cell_type": "code",
   "execution_count": 25,
   "id": "8faa4731",
   "metadata": {},
   "outputs": [
    {
     "name": "stdout",
     "output_type": "stream",
     "text": [
      "Training data size:  (24, 2)\n",
      "Test data size:  (6, 2)\n"
     ]
    }
   ],
   "source": [
    "print('Training data size: ', train_data.shape)\n",
    "print('Test data size: ', test_data.shape)"
   ]
  },
  {
   "cell_type": "code",
   "execution_count": 26,
   "id": "a1188893",
   "metadata": {},
   "outputs": [
    {
     "name": "stdout",
     "output_type": "stream",
     "text": [
      "Training Inputs:\n",
      " [[ 400.    3.]\n",
      " [1000.    1.]\n",
      " [ 900.    1.]]\n",
      "Training Targets:\n",
      " [ 850. 1150. 1050.]\n"
     ]
    }
   ],
   "source": [
    "print(\"Training Inputs:\\n\", train_data[0:3,:])\n",
    "print(\"Training Targets:\\n\", train_targets[0:3])"
   ]
  },
  {
   "cell_type": "code",
   "execution_count": 27,
   "id": "9136e750",
   "metadata": {},
   "outputs": [
    {
     "name": "stdout",
     "output_type": "stream",
     "text": [
      "Test Inputs:\n",
      " [[700.   2.]\n",
      " [300.   3.]\n",
      " [700.   3.]]\n",
      "Test Targets:\n",
      " [1000.  750. 1150.]\n"
     ]
    }
   ],
   "source": [
    "print(\"Test Inputs:\\n\", test_data[0:3,:])\n",
    "print(\"Test Targets:\\n\", test_targets[0:3])"
   ]
  },
  {
   "cell_type": "markdown",
   "id": "1f8964ec",
   "metadata": {},
   "source": [
    "### Step 03. Normalizing the Dataset"
   ]
  },
  {
   "cell_type": "markdown",
   "id": "d3bc2c0f",
   "metadata": {},
   "source": [
    "#### Normalizing the datasets "
   ]
  },
  {
   "cell_type": "markdown",
   "id": "f43854c9",
   "metadata": {},
   "source": [
    "It would be problematic to feed into a neural network values that all take wildly different ranges.  \n",
    "The network might be able to automatically adapt to such heterogeneous data, but it would definitely make learning more difficult.  \n",
    "A widespread best practice to deal with such data is to do **feature-wise normalization**.  \n",
    "\n",
    "For each feature in the input data (a column in the input data matrix),  \n",
    "the mean of the feature is substracted and divided by the standard deviation,  \n",
    "so that the feature is centered around 0 and has a unit standard deviation."
   ]
  },
  {
   "cell_type": "code",
   "execution_count": 28,
   "id": "70481f0b",
   "metadata": {},
   "outputs": [],
   "source": [
    "train_mean = train_data.mean(axis=0)\n",
    "train_std = train_data.std(axis=0)\n",
    "\n",
    "train_data -= train_mean\n",
    "train_data /= train_std\n",
    "\n",
    "test_data -= train_mean\n",
    "test_data /= train_std"
   ]
  },
  {
   "cell_type": "markdown",
   "id": "588f0351",
   "metadata": {},
   "source": [
    "Note that the quantities used **for normalizing the test data** are computed **using the\n",
    "training data**!!!  \n",
    "\n",
    "<span style=\"color:red\">\n",
    "You should **never use any quantity computed on the test data!**  \n",
    "    (Even for something as simple as data normalization)\n",
    "</span>."
   ]
  },
  {
   "cell_type": "code",
   "execution_count": 29,
   "id": "af5645ce",
   "metadata": {},
   "outputs": [
    {
     "name": "stdout",
     "output_type": "stream",
     "text": [
      "Normalized Train Data:\n",
      " [[-0.45979544  1.33377186]\n",
      " [ 1.4875735  -1.12857619]\n",
      " [ 1.16301201 -1.12857619]]\n",
      "Normalized Test Data:\n",
      " [[ 0.51388903  0.10259784]\n",
      " [-0.78435693  1.33377186]\n",
      " [ 0.51388903  1.33377186]]\n"
     ]
    }
   ],
   "source": [
    "print(\"Normalized Train Data:\\n\", train_data[0:3,:])\n",
    "print(\"Normalized Test Data:\\n\", test_data[0:3])"
   ]
  },
  {
   "cell_type": "markdown",
   "id": "d810d688",
   "metadata": {},
   "source": [
    "### Step04. Building the network architecture"
   ]
  },
  {
   "cell_type": "code",
   "execution_count": 30,
   "id": "87378bc3",
   "metadata": {},
   "outputs": [],
   "source": [
    "from keras import models\n",
    "from keras import layers\n",
    "\n",
    "def build_model(ll1,ll2,train_data):\n",
    "    model = models.Sequential()\n",
    "    model.add(layers.Dense(ll1, activation='relu', input_shape=(train_data.shape[1],)))\n",
    "    model.add(layers.Dense(ll2))\n",
    "    model.compile(optimizer='rmsprop', loss='mse', metrics=['mae']) #mae:mean-absolute-error\n",
    "    return model"
   ]
  },
  {
   "cell_type": "markdown",
   "id": "5f0d4289",
   "metadata": {},
   "source": [
    "The network ends with a single unit and **no activation** (it will be a linear layer).   \n",
    "This is a typical setup for scalar regression (a regression where you’re trying to predict a single continuous value).\n",
    "\n",
    "A new metric is monitored during training: **mean absolute error** (MAE).   \n",
    "It’s the absolute value of the difference between the predictions and the targets.  \n",
    "For instance, an MAE of 0.5 on this problem would mean your predictions are off by $500 on average."
   ]
  },
  {
   "cell_type": "markdown",
   "id": "ee8da33c",
   "metadata": {},
   "source": [
    "### Step05. The Compilation and Training"
   ]
  },
  {
   "cell_type": "markdown",
   "id": "59b69718",
   "metadata": {},
   "source": [
    "#### k-fold validation"
   ]
  },
  {
   "cell_type": "markdown",
   "id": "d8b6aa0b",
   "metadata": {},
   "source": [
    "![k-fold validation](./img/kfold_Validation.png \"k-fold validation\")"
   ]
  },
  {
   "cell_type": "code",
   "execution_count": 31,
   "id": "2a78662f",
   "metadata": {},
   "outputs": [
    {
     "name": "stdout",
     "output_type": "stream",
     "text": [
      "processing fold # 1\n",
      "processing fold # 2\n",
      "processing fold # 3\n",
      "processing fold # 4\n",
      "WARNING:tensorflow:5 out of the last 12004 calls to <function Model.make_test_function.<locals>.test_function at 0x000001924422F040> triggered tf.function retracing. Tracing is expensive and the excessive number of tracings could be due to (1) creating @tf.function repeatedly in a loop, (2) passing tensors with different shapes, (3) passing Python objects instead of tensors. For (1), please define your @tf.function outside of the loop. For (2), @tf.function has experimental_relax_shapes=True option that relaxes argument shapes that can avoid unnecessary retracing. For (3), please refer to https://www.tensorflow.org/guide/function#controlling_retracing and https://www.tensorflow.org/api_docs/python/tf/function for  more details.\n"
     ]
    }
   ],
   "source": [
    "k = 4\n",
    "num_val_samples = len(train_data) // k\n",
    "num_epochs = 100\n",
    "all_scores = []\n",
    "\n",
    "for i in range(k):\n",
    "    print('processing fold #', i+1)\n",
    "    \n",
    "    #preparing the validation data, from k'th partition of the data\n",
    "    val_data    = train_data[i*num_val_samples: (i+1)*num_val_samples]\n",
    "    val_targets = train_targets[i*num_val_samples: (i+1)*num_val_samples]\n",
    "    \n",
    "    #preparing the training data: data from all other partitions\n",
    "    partial_train_data = np.concatenate([train_data[:i * num_val_samples],\n",
    "                                         train_data[(i + 1) * num_val_samples:]],\n",
    "                                        axis=0)\n",
    "    \n",
    "    partial_train_targets = np.concatenate([train_targets[:i * num_val_samples],\n",
    "                                            train_targets[(i + 1) * num_val_samples:]],\n",
    "                                           axis=0)\n",
    "    \n",
    "    model = build_model(2,1, train_data)\n",
    "    model.fit(partial_train_data, partial_train_targets, epochs=num_epochs, batch_size=1, verbose=0)\n",
    "    val_mse, val_mae = model.evaluate(val_data, val_targets, verbose=0)\n",
    "    all_scores.append(val_mae)"
   ]
  },
  {
   "cell_type": "code",
   "execution_count": 32,
   "id": "be3cde74",
   "metadata": {},
   "outputs": [
    {
     "name": "stdout",
     "output_type": "stream",
     "text": [
      "Scores:  [985.15673828125, 813.086181640625, 602.8917846679688, 895.7156372070312]\n",
      "Mean score:  824.2125854492188\n"
     ]
    }
   ],
   "source": [
    "print(\"Scores: \", all_scores)\n",
    "print(\"Mean score: \", np.mean(all_scores))"
   ]
  },
  {
   "cell_type": "markdown",
   "id": "aaf4b253",
   "metadata": {},
   "source": [
    "### Step06. Creation a Validation Log"
   ]
  },
  {
   "cell_type": "code",
   "execution_count": 33,
   "id": "3b0268ac",
   "metadata": {},
   "outputs": [
    {
     "name": "stdout",
     "output_type": "stream",
     "text": [
      "processing fold # 1\n",
      "processing fold # 2\n",
      "processing fold # 3\n",
      "processing fold # 4\n"
     ]
    }
   ],
   "source": [
    "num_epochs = 3000\n",
    "\n",
    "all_mae_histories = []\n",
    "\n",
    "for i in range(k):\n",
    "    print('processing fold #', i+1)\n",
    "    \n",
    "    val_data = train_data[i * num_val_samples: (i + 1) * num_val_samples]\n",
    "    val_targets = train_targets[i * num_val_samples: (i + 1) * num_val_samples]\n",
    "    \n",
    "    partial_train_data = np.concatenate([train_data[:i * num_val_samples],\n",
    "                                         train_data[(i + 1) * num_val_samples:]],\n",
    "                                        axis=0)\n",
    "    \n",
    "    partial_train_targets = np.concatenate([train_targets[:i * num_val_samples],\n",
    "                                            train_targets[(i + 1) * num_val_samples:]],\n",
    "                                           axis=0)\n",
    "    \n",
    "    model = build_model(2,1,train_data)\n",
    "    history = model.fit(partial_train_data, partial_train_targets,\n",
    "                        validation_data=(val_data, val_targets),\n",
    "                        epochs=num_epochs, batch_size=1, verbose=0)\n",
    "    \n",
    "    mae_history = history.history['val_mae']\n",
    "    all_mae_histories.append(mae_history)"
   ]
  },
  {
   "cell_type": "markdown",
   "id": "fd6d1421",
   "metadata": {},
   "source": [
    "#### Building the history of successive mean K-fold validation scores"
   ]
  },
  {
   "cell_type": "code",
   "execution_count": 34,
   "id": "013e6860",
   "metadata": {},
   "outputs": [],
   "source": [
    "average_mae_history = [np.mean([x[i] for x in all_mae_histories]) for i in range(num_epochs)]"
   ]
  },
  {
   "cell_type": "markdown",
   "id": "5d05b5f9",
   "metadata": {},
   "source": [
    "#### Plotting validation scores"
   ]
  },
  {
   "cell_type": "code",
   "execution_count": 35,
   "id": "df6a3864",
   "metadata": {},
   "outputs": [
    {
     "data": {
      "image/png": "[encoded data removed]",
      "text/plain": [
       "<Figure size 432x288 with 1 Axes>"
      ]
     },
     "metadata": {
      "needs_background": "light"
     },
     "output_type": "display_data"
    }
   ],
   "source": [
    "import matplotlib.pyplot as plt\n",
    "plt.plot(range(1, len(average_mae_history) + 1), average_mae_history)\n",
    "plt.xlabel('Epochs')\n",
    "plt.ylabel('Validation MAE')\n",
    "plt.show()"
   ]
  },
  {
   "cell_type": "markdown",
   "id": "d163af36",
   "metadata": {},
   "source": [
    "#### Plotting validation scores, excluding the first 10 data points"
   ]
  },
  {
   "cell_type": "code",
   "execution_count": 36,
   "id": "53b2ac36",
   "metadata": {},
   "outputs": [],
   "source": [
    "def smooth_curve(points, factor=0.9):\n",
    "    smoothed_points = []\n",
    "\n",
    "    for point in points:\n",
    "        if smoothed_points:\n",
    "            previous = smoothed_points[-1]\n",
    "            smoothed_points.append(previous * factor + point * (1 - factor))\n",
    "        else:\n",
    "            smoothed_points.append(point)\n",
    "\n",
    "    return smoothed_points"
   ]
  },
  {
   "cell_type": "code",
   "execution_count": 37,
   "id": "dafd0732",
   "metadata": {},
   "outputs": [
    {
     "data": {
      "image/png": "[encoded data removed]",
      "text/plain": [
       "<Figure size 432x288 with 1 Axes>"
      ]
     },
     "metadata": {
      "needs_background": "light"
     },
     "output_type": "display_data"
    }
   ],
   "source": [
    "smooth_mae_history = smooth_curve(average_mae_history[10:])\n",
    "plt.plot(range(1, len(smooth_mae_history) + 1), smooth_mae_history)\n",
    "plt.xlabel('Epochs')\n",
    "plt.ylabel('Validation MAE')\n",
    "plt.show()"
   ]
  },
  {
   "cell_type": "markdown",
   "id": "622e71f4",
   "metadata": {},
   "source": [
    "#### Making Predictions"
   ]
  },
  {
   "cell_type": "code",
   "execution_count": 61,
   "id": "5ec4af96",
   "metadata": {},
   "outputs": [
    {
     "data": {
      "text/plain": [
       "array([-0.13523395, -1.12857619])"
      ]
     },
     "execution_count": 61,
     "metadata": {},
     "output_type": "execute_result"
    }
   ],
   "source": [
    "# cp1=500, cp2=1\n",
    "Xnew = np.array([500.0,1.0])\n",
    "\n",
    "Xnormalized = Xnew - train_mean\n",
    "Xnormalized /= train_std\n",
    "\n",
    "Xnormalized"
   ]
  },
  {
   "cell_type": "code",
   "execution_count": 63,
   "id": "f92dcadd",
   "metadata": {},
   "outputs": [],
   "source": [
    "Xnormalized = np.array([Xnormalized])"
   ]
  },
  {
   "cell_type": "code",
   "execution_count": 64,
   "id": "32d414fb",
   "metadata": {},
   "outputs": [
    {
     "data": {
      "text/plain": [
       "array([[650.0699]], dtype=float32)"
      ]
     },
     "execution_count": 64,
     "metadata": {},
     "output_type": "execute_result"
    }
   ],
   "source": [
    "ynew = model.predict(Xnormalized)\n",
    "ynew"
   ]
  },
  {
   "cell_type": "markdown",
   "id": "abb06e8b",
   "metadata": {},
   "source": [
    "### Step07. Adding Constraint on the Last Layer"
   ]
  },
  {
   "cell_type": "code",
   "execution_count": 52,
   "id": "b32ae11b",
   "metadata": {},
   "outputs": [
    {
     "data": {
      "text/plain": [
       "array([[1105.101]], dtype=float32)"
      ]
     },
     "execution_count": 52,
     "metadata": {},
     "output_type": "execute_result"
    }
   ],
   "source": [
    "def build_model_wc(ll1,ll2,train_data):\n",
    "    model_wc = models.Sequential()\n",
    "    model_wc.add(layers.Dense(ll1, activation='relu', input_shape=(train_data.shape[1],)))\n",
    "    model_wc.add(layers.Dense(ll2))\n",
    "    model_cw.compile(optimizer='rmsprop', loss='mse', metrics=['mae']) #mae:mean-absolute-error\n",
    "    return model"
   ]
  },
  {
   "cell_type": "code",
   "execution_count": null,
   "id": "64b17f75",
   "metadata": {},
   "outputs": [],
   "source": [
    "k = 4\n",
    "num_val_samples = len(train_data) // k\n",
    "num_epochs = 100\n",
    "all_scores = []\n",
    "\n",
    "for i in range(k):\n",
    "    print('processing fold #', i+1)\n",
    "    \n",
    "    #preparing the validation data, from k'th partition of the data\n",
    "    val_data    = train_data[i*num_val_samples: (i+1)*num_val_samples]\n",
    "    val_targets = train_targets[i*num_val_samples: (i+1)*num_val_samples]\n",
    "    \n",
    "    #preparing the training data: data from all other partitions\n",
    "    partial_train_data = np.concatenate([train_data[:i * num_val_samples],\n",
    "                                         train_data[(i + 1) * num_val_samples:]],\n",
    "                                        axis=0)\n",
    "    \n",
    "    partial_train_targets = np.concatenate([train_targets[:i * num_val_samples],\n",
    "                                            train_targets[(i + 1) * num_val_samples:]],\n",
    "                                           axis=0)\n",
    "    \n",
    "    model = build_model(2,1, train_data)\n",
    "    model.fit(partial_train_data, partial_train_targets, epochs=num_epochs, batch_size=1, verbose=0)\n",
    "    val_mse, val_mae = model.evaluate(val_data, val_targets, verbose=0)\n",
    "    all_scores.append(val_mae)"
   ]
  }
 ],
 "metadata": {
  "kernelspec": {
   "display_name": "Python 3",
   "language": "python",
   "name": "python3"
  },
  "language_info": {
   "codemirror_mode": {
    "name": "ipython",
    "version": 3
   },
   "file_extension": ".py",
   "mimetype": "text/x-python",
   "name": "python",
   "nbconvert_exporter": "python",
   "pygments_lexer": "ipython3",
   "version": "3.8.8"
  }
 },
 "nbformat": 4,
 "nbformat_minor": 5
}
