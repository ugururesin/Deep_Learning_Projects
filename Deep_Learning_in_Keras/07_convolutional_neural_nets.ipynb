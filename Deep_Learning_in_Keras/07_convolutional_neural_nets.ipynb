{
 "cells": [
  {
   "cell_type": "markdown",
   "id": "a8c611d5",
   "metadata": {},
   "source": [
    "# Deep-Learning with Keras\n",
    "\n",
    "#### Ugur URESIN, AI Engineer | Data Scientist\n",
    "#### Mail: uresin.ugur@gmail.com\n",
    "\n",
    "## Chapter 07. Convolutional Neural Networks\n",
    "\n",
    "### Dataset: MNIST"
   ]
  },
  {
   "cell_type": "markdown",
   "id": "580aa2e5",
   "metadata": {},
   "source": [
    "#### CREATING A MODEL with ANN"
   ]
  },
  {
   "cell_type": "code",
   "execution_count": 9,
   "id": "bde52a45",
   "metadata": {},
   "outputs": [
    {
     "name": "stdout",
     "output_type": "stream",
     "text": [
      "10000/10000 [==============================] - 1s 66us/step\n",
      "0.9778000116348267\n"
     ]
    }
   ],
   "source": [
    "## LOADING DATASET\n",
    "##################\n",
    "import numpy as np\n",
    "from keras.datasets import mnist\n",
    "(train_images, train_labels), (test_images, test_labels) = mnist.load_data()\n",
    "\n",
    "## PREPARING THE DATASET\n",
    "########################\n",
    "#Re-Shaping the Images\n",
    "train_images = train_images.reshape((60000, 28 * 28))\n",
    "test_images = test_images.reshape((10000, 28 * 28))\n",
    "\n",
    "#Normalizing the Images for Faster Converging\n",
    "train_images = train_images.astype('float32') / 255\n",
    "test_images = test_images.astype('float32') / 255\n",
    "\n",
    "#Preparing the labels (categorical transformation)\n",
    "from keras.utils import to_categorical\n",
    "train_labels = to_categorical(train_labels)\n",
    "test_labels = to_categorical(test_labels)\n",
    "\n",
    "## ANN MODEL CREATION\n",
    "#####################\n",
    "from keras import models\n",
    "from keras import layers\n",
    "'''\n",
    "Here, the network (model) consists of a sequence of two Dense layers.\n",
    "Dense layers are also called fully connected layers.\n",
    "The second layer is a 10-way softmax layer, which means it will return an array of 10 probability scores (sum=1).\n",
    "Each score will be the probability that the current digit image belongs to one of 10 digit classes.\n",
    "'''\n",
    "model = models.Sequential()\n",
    "model.add(layers.Dense(512, activation=\"relu\", input_shape=(28*28,))) \n",
    "model.add(layers.Dense(10, activation=\"softmax\"))\n",
    "\n",
    "## MODEL COMPILATION\n",
    "####################\n",
    "model.compile(optimizer='rmsprop',loss='categorical_crossentropy',metrics=['accuracy'])\n",
    "\n",
    "## MODEL TRAIN\n",
    "##############\n",
    "model.fit(train_images, train_labels, epochs=5, batch_size=64, verbose=False)\n",
    "\n",
    "## TESTING PERFORMANCE\n",
    "######################\n",
    "test_loss, test_acc = model.evaluate(test_images, test_labels)\n",
    "print(test_acc)"
   ]
  },
  {
   "cell_type": "markdown",
   "id": "2c19a6e9",
   "metadata": {},
   "source": [
    "#### CREATING A MODEL with CNN"
   ]
  },
  {
   "cell_type": "code",
   "execution_count": 16,
   "id": "62b6bca3",
   "metadata": {},
   "outputs": [
    {
     "name": "stdout",
     "output_type": "stream",
     "text": [
      "10000/10000 [==============================] - 2s 220us/step\n",
      "0.9914000034332275\n"
     ]
    }
   ],
   "source": [
    "## LOADING DATASET\n",
    "##################\n",
    "import numpy as np\n",
    "from keras.datasets import mnist\n",
    "(train_images, train_labels), (test_images, test_labels) = mnist.load_data()\n",
    "\n",
    "## PREPARING THE DATASET\n",
    "########################\n",
    "#Re-Shaping the Images\n",
    "train_images = train_images.reshape((60000, 28, 28, 1))\n",
    "test_images = test_images.reshape((10000, 28, 28, 1))\n",
    "\n",
    "#Normalizing the Images for Faster Converging\n",
    "train_images = train_images.astype('float32') / 255\n",
    "test_images = test_images.astype('float32') / 255\n",
    "\n",
    "#Preparing the labels (categorical transformation)\n",
    "from keras.utils import to_categorical\n",
    "train_labels = to_categorical(train_labels)\n",
    "test_labels = to_categorical(test_labels)\n",
    "\n",
    "## CNN MODEL CREATION\n",
    "#####################\n",
    "from keras import layers\n",
    "from keras import models\n",
    "\n",
    "#Instantiating a small convnet\n",
    "model2 = models.Sequential()\n",
    "\n",
    "# ConvNet\n",
    "model2.add(layers.Conv2D(32, (3, 3), activation='relu', input_shape=(28, 28, 1)))\n",
    "model2.add(layers.MaxPooling2D((2, 2)))\n",
    "model2.add(layers.Conv2D(64, (3, 3), activation='relu'))\n",
    "model2.add(layers.MaxPooling2D((2, 2)))\n",
    "model2.add(layers.Conv2D(64, (3, 3), activation='relu'))\n",
    "\n",
    "#Adding a classifier on top of the convnet\n",
    "model2.add(layers.Flatten())\n",
    "model2.add(layers.Dense(64, activation='relu'))\n",
    "model2.add(layers.Dense(10, activation='softmax'))\n",
    "\n",
    "## MODEL COMPILATION\n",
    "####################\n",
    "model2.compile(optimizer='rmsprop',loss='categorical_crossentropy',metrics=['accuracy'])\n",
    "\n",
    "## MODEL TRAIN\n",
    "##############\n",
    "model2.fit(train_images, train_labels, epochs=5, batch_size=64, verbose=False)\n",
    "\n",
    "## TESTING PERFORMANCE\n",
    "######################\n",
    "test_loss2, test_acc2 = model2.evaluate(test_images, test_labels)\n",
    "print(test_acc2)"
   ]
  },
  {
   "cell_type": "code",
   "execution_count": 24,
   "id": "6189bcc8",
   "metadata": {},
   "outputs": [
    {
     "name": "stdout",
     "output_type": "stream",
     "text": [
      "Testing accuracy in ANN: 97.8\n",
      "Testing accuracy in CNN: 99.1\n"
     ]
    }
   ],
   "source": [
    "#### ANN vs CNN\n",
    "print(\"Testing accuracy in ANN:\", round(test_acc*100,1))\n",
    "print(\"Testing accuracy in CNN:\", round(test_acc2*100,1))"
   ]
  }
 ],
 "metadata": {
  "kernelspec": {
   "display_name": "Python 3 (ipykernel)",
   "language": "python",
   "name": "python3"
  },
  "language_info": {
   "codemirror_mode": {
    "name": "ipython",
    "version": 3
   },
   "file_extension": ".py",
   "mimetype": "text/x-python",
   "name": "python",
   "nbconvert_exporter": "python",
   "pygments_lexer": "ipython3",
   "version": "3.7.10"
  }
 },
 "nbformat": 4,
 "nbformat_minor": 5
}
