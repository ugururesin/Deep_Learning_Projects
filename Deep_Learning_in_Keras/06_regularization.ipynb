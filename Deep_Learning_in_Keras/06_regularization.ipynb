{
 "cells": [
  {
   "cell_type": "markdown",
   "id": "a8c611d5",
   "metadata": {},
   "source": [
    "# Deep-Learning with Keras\n",
    "\n",
    "#### Ugur URESIN, AI Engineer | Data Scientist\n",
    "#### Mail: uresin.ugur@gmail.com\n",
    "\n",
    "## Chapter 06. Neural Networks - Regularization"
   ]
  },
  {
   "cell_type": "markdown",
   "id": "e63bdea8",
   "metadata": {},
   "source": [
    "### Creating an Example Network using IMDB data"
   ]
  },
  {
   "cell_type": "code",
   "execution_count": 1,
   "id": "bde52a45",
   "metadata": {},
   "outputs": [
    {
     "name": "stderr",
     "output_type": "stream",
     "text": [
      "<__array_function__ internals>:5: VisibleDeprecationWarning: Creating an ndarray from ragged nested sequences (which is a list-or-tuple of lists-or-tuples-or ndarrays with different lengths or shapes) is deprecated. If you meant to do this, you must specify 'dtype=object' when creating the ndarray.\n",
      "C:\\Users\\uuresin\\.conda\\envs\\tensorflow\\lib\\site-packages\\tensorflow\\python\\keras\\datasets\\imdb.py:159: VisibleDeprecationWarning: Creating an ndarray from ragged nested sequences (which is a list-or-tuple of lists-or-tuples-or ndarrays with different lengths or shapes) is deprecated. If you meant to do this, you must specify 'dtype=object' when creating the ndarray.\n",
      "  x_train, y_train = np.array(xs[:idx]), np.array(labels[:idx])\n",
      "C:\\Users\\uuresin\\.conda\\envs\\tensorflow\\lib\\site-packages\\tensorflow\\python\\keras\\datasets\\imdb.py:160: VisibleDeprecationWarning: Creating an ndarray from ragged nested sequences (which is a list-or-tuple of lists-or-tuples-or ndarrays with different lengths or shapes) is deprecated. If you meant to do this, you must specify 'dtype=object' when creating the ndarray.\n",
      "  x_test, y_test = np.array(xs[idx:]), np.array(labels[idx:])\n"
     ]
    },
    {
     "name": "stdout",
     "output_type": "stream",
     "text": [
      "Epoch 1/20\n",
      "30/30 [==============================] - 1s 27ms/step - loss: 0.5102 - binary_accuracy: 0.7901 - val_loss: 0.3848 - val_binary_accuracy: 0.8649\n",
      "Epoch 2/20\n",
      "30/30 [==============================] - 0s 14ms/step - loss: 0.3056 - binary_accuracy: 0.9028 - val_loss: 0.3221 - val_binary_accuracy: 0.8716\n",
      "Epoch 3/20\n",
      "30/30 [==============================] - 0s 14ms/step - loss: 0.2243 - binary_accuracy: 0.9267 - val_loss: 0.2832 - val_binary_accuracy: 0.8880\n",
      "Epoch 4/20\n",
      "30/30 [==============================] - 0s 14ms/step - loss: 0.1743 - binary_accuracy: 0.9433 - val_loss: 0.2768 - val_binary_accuracy: 0.8894\n",
      "Epoch 5/20\n",
      "30/30 [==============================] - 0s 14ms/step - loss: 0.1435 - binary_accuracy: 0.9537 - val_loss: 0.2857 - val_binary_accuracy: 0.8861\n",
      "Epoch 6/20\n",
      "30/30 [==============================] - 0s 14ms/step - loss: 0.1184 - binary_accuracy: 0.9642 - val_loss: 0.2994 - val_binary_accuracy: 0.8815\n",
      "Epoch 7/20\n",
      "30/30 [==============================] - 0s 14ms/step - loss: 0.0989 - binary_accuracy: 0.9705 - val_loss: 0.3111 - val_binary_accuracy: 0.8837\n",
      "Epoch 8/20\n",
      "30/30 [==============================] - 0s 14ms/step - loss: 0.0839 - binary_accuracy: 0.9761 - val_loss: 0.3268 - val_binary_accuracy: 0.8821\n",
      "Epoch 9/20\n",
      "30/30 [==============================] - 0s 14ms/step - loss: 0.0665 - binary_accuracy: 0.9833 - val_loss: 0.3512 - val_binary_accuracy: 0.8808\n",
      "Epoch 10/20\n",
      "30/30 [==============================] - 0s 14ms/step - loss: 0.0569 - binary_accuracy: 0.9861 - val_loss: 0.3742 - val_binary_accuracy: 0.8771\n",
      "Epoch 11/20\n",
      "30/30 [==============================] - 0s 14ms/step - loss: 0.0441 - binary_accuracy: 0.9899 - val_loss: 0.4065 - val_binary_accuracy: 0.8768\n",
      "Epoch 12/20\n",
      "30/30 [==============================] - 0s 14ms/step - loss: 0.0368 - binary_accuracy: 0.9917 - val_loss: 0.4337 - val_binary_accuracy: 0.8738\n",
      "Epoch 13/20\n",
      "30/30 [==============================] - 0s 14ms/step - loss: 0.0303 - binary_accuracy: 0.9934 - val_loss: 0.4648 - val_binary_accuracy: 0.8707\n",
      "Epoch 14/20\n",
      "30/30 [==============================] - 0s 14ms/step - loss: 0.0234 - binary_accuracy: 0.9955 - val_loss: 0.4921 - val_binary_accuracy: 0.8712\n",
      "Epoch 15/20\n",
      "30/30 [==============================] - 0s 15ms/step - loss: 0.0173 - binary_accuracy: 0.9977 - val_loss: 0.5247 - val_binary_accuracy: 0.8710\n",
      "Epoch 16/20\n",
      "30/30 [==============================] - 0s 15ms/step - loss: 0.0124 - binary_accuracy: 0.9989 - val_loss: 0.6919 - val_binary_accuracy: 0.8540\n",
      "Epoch 17/20\n",
      "30/30 [==============================] - 0s 14ms/step - loss: 0.0095 - binary_accuracy: 0.9994 - val_loss: 0.6186 - val_binary_accuracy: 0.8650\n",
      "Epoch 18/20\n",
      "30/30 [==============================] - 0s 15ms/step - loss: 0.0104 - binary_accuracy: 0.9979 - val_loss: 0.6396 - val_binary_accuracy: 0.8655\n",
      "Epoch 19/20\n",
      "30/30 [==============================] - 0s 15ms/step - loss: 0.0061 - binary_accuracy: 0.9993 - val_loss: 0.7281 - val_binary_accuracy: 0.8552\n",
      "Epoch 20/20\n",
      "30/30 [==============================] - 0s 13ms/step - loss: 0.0040 - binary_accuracy: 0.9999 - val_loss: 0.6992 - val_binary_accuracy: 0.8651\n"
     ]
    }
   ],
   "source": [
    "## IMPORTING LIBRARIES\n",
    "import numpy as np\n",
    "from keras.datasets import imdb\n",
    "\n",
    "\n",
    "## IMPORTING DATA\n",
    "(train_data, train_labels), (test_data, test_labels) = imdb.load_data(num_words=10000)\n",
    "\n",
    "\n",
    "## PROCESSING THE DATA\n",
    "'''\n",
    "train_labels and test_labels are lists of 0s and 1s, where\n",
    "- 0 stands for negative  \n",
    "- 1 stands for positive\n",
    "'''\n",
    "\n",
    "# word_index is a dictionary that maps words to an integer index\n",
    "word_index = imdb.get_word_index()\n",
    "\n",
    "# converts integer indices to a word\n",
    "reverse_word_index = dict([(val,key) for (key,val) in word_index.items()])\n",
    "\n",
    "# **Decoding the review**  \n",
    "# Note that the indices are offset by 3 because 0, 1, and 2 are reserved indices\n",
    "# for “padding,” “start of sequence,” and “unknown.”\n",
    "decoded_review = ' '.join(\n",
    "    [reverse_word_index.get(i - 3, '?') for i in train_data[0]])\n",
    "\n",
    "#Encoding the integer sequences into a binary matrix\n",
    "import numpy as np\n",
    "\n",
    "def vectorize_sequences(sequences, dimension=10000):\n",
    "    results = np.zeros((len(sequences), dimension))\n",
    "    for i, sequence in enumerate(sequences):\n",
    "        results[i, sequence] = 1.\n",
    "    return results\n",
    "\n",
    "x_train = vectorize_sequences(train_data)\n",
    "x_test = vectorize_sequences(test_data)\n",
    "\n",
    "# Vectorization of the labels\n",
    "y_train = np.asarray(train_labels).astype('float32')\n",
    "y_test = np.asarray(test_labels).astype('float32')\n",
    "\n",
    "\n",
    "## CREATING THE MODEL\n",
    "from keras import models\n",
    "from keras import layers\n",
    "model = models.Sequential()\n",
    "model.add(layers.Dense(16, activation='relu', input_shape=(10000,)))\n",
    "model.add(layers.Dense(16, activation='relu'))\n",
    "model.add(layers.Dense(1, activation='sigmoid'))\n",
    "\n",
    "# Compilation\n",
    "from keras import losses\n",
    "from keras import metrics\n",
    "from keras import optimizers\n",
    "model.compile(optimizer=optimizers.RMSprop(lr=0.001),\n",
    "              loss=losses.binary_crossentropy,\n",
    "              metrics=[metrics.binary_accuracy])\n",
    "\n",
    "\n",
    "## CREATING A VALIDATION SET\n",
    "x_val = x_train[:10000]\n",
    "partial_x_train = x_train[10000:]\n",
    "y_val = y_train[:10000]\n",
    "partial_y_train = y_train[10000:]\n",
    "\n",
    "\n",
    "## CREATING A HISTORY\n",
    "history = model.fit(partial_x_train,\n",
    "                    partial_y_train,\n",
    "                    epochs=20,\n",
    "                    batch_size=512,\n",
    "                    validation_data=(x_val, y_val))"
   ]
  },
  {
   "cell_type": "code",
   "execution_count": 2,
   "id": "09096e25",
   "metadata": {},
   "outputs": [
    {
     "data": {
      "text/plain": [
       "dict_keys(['loss', 'binary_accuracy', 'val_loss', 'val_binary_accuracy'])"
      ]
     },
     "execution_count": 2,
     "metadata": {},
     "output_type": "execute_result"
    }
   ],
   "source": [
    "history_dict = history.history\n",
    "history_dict.keys()"
   ]
  },
  {
   "cell_type": "code",
   "execution_count": 3,
   "id": "7e9119bc",
   "metadata": {},
   "outputs": [
    {
     "data": {
      "image/png": "[encoded data removed]",
      "text/plain": [
       "<Figure size 432x288 with 1 Axes>"
      ]
     },
     "metadata": {
      "needs_background": "light"
     },
     "output_type": "display_data"
    }
   ],
   "source": [
    "## EVALUATING THE PERFORMANCE\n",
    "#Plotting the training and validation loss\n",
    "import matplotlib.pyplot as plt\n",
    "loss_values = history_dict['loss']\n",
    "val_loss_values = history_dict['val_loss']\n",
    "\n",
    "epochs = range(1, len(history_dict['loss']) + 1)\n",
    "\n",
    "plt.plot(epochs, loss_values, 'bo', label='Training loss') #bo:blue-dot\n",
    "plt.plot(epochs, val_loss_values, 'b', label='Validation loss') #b:solid-blue\n",
    "plt.title('Training and validation loss')\n",
    "plt.xlabel('Epochs')\n",
    "plt.ylabel('Loss')\n",
    "plt.legend()\n",
    "\n",
    "plt.show()"
   ]
  },
  {
   "cell_type": "code",
   "execution_count": 4,
   "id": "ba1dffdf",
   "metadata": {},
   "outputs": [
    {
     "data": {
      "image/png": "[encoded data removed]",
      "text/plain": [
       "<Figure size 432x288 with 1 Axes>"
      ]
     },
     "metadata": {
      "needs_background": "light"
     },
     "output_type": "display_data"
    }
   ],
   "source": [
    "#Plotting the training and validation accuracy\n",
    "acc_values = history_dict['binary_accuracy']\n",
    "val_acc_values = history_dict['val_binary_accuracy']\n",
    "\n",
    "plt.plot(epochs, acc_values, 'bo', label='Training acc')\n",
    "plt.plot(epochs, val_acc_values, 'b', label='Validation acc')\n",
    "plt.title('Training and validation accuracy')\n",
    "plt.xlabel('Epochs')\n",
    "plt.ylabel('Loss')\n",
    "plt.legend()\n",
    "plt.show()"
   ]
  },
  {
   "cell_type": "markdown",
   "id": "a2271d83",
   "metadata": {},
   "source": [
    "### Adding L2 Regularization to the Model"
   ]
  },
  {
   "cell_type": "code",
   "execution_count": 5,
   "id": "92e2a70d",
   "metadata": {},
   "outputs": [],
   "source": [
    "from keras import regularizers\n",
    "model = models.Sequential()\n",
    "model.add(layers.Dense(16, kernel_regularizer = regularizers.l2(0.001),\n",
    "                      activation='relu', input_shape=(10000,)))\n",
    "model.add(layers.Dense(16, kernel_regularizer=regularizers.l2(0.001),\n",
    "                      activation='relu'))\n",
    "model.add(layers.Dense(1, activation='sigmoid'))"
   ]
  },
  {
   "cell_type": "code",
   "execution_count": 6,
   "id": "8582f5dd",
   "metadata": {},
   "outputs": [
    {
     "name": "stdout",
     "output_type": "stream",
     "text": [
      "Epoch 1/20\n",
      "30/30 [==============================] - 1s 24ms/step - loss: 0.5762 - binary_accuracy: 0.7881 - val_loss: 0.4613 - val_binary_accuracy: 0.8632\n",
      "Epoch 2/20\n",
      "30/30 [==============================] - 0s 14ms/step - loss: 0.3918 - binary_accuracy: 0.8913 - val_loss: 0.3814 - val_binary_accuracy: 0.8802\n",
      "Epoch 3/20\n",
      "30/30 [==============================] - 0s 14ms/step - loss: 0.3128 - binary_accuracy: 0.9158 - val_loss: 0.3784 - val_binary_accuracy: 0.8668\n",
      "Epoch 4/20\n",
      "30/30 [==============================] - 0s 14ms/step - loss: 0.2748 - binary_accuracy: 0.9271 - val_loss: 0.3375 - val_binary_accuracy: 0.8877\n",
      "Epoch 5/20\n",
      "30/30 [==============================] - 0s 15ms/step - loss: 0.2519 - binary_accuracy: 0.9355 - val_loss: 0.3424 - val_binary_accuracy: 0.8870\n",
      "Epoch 6/20\n",
      "30/30 [==============================] - 0s 14ms/step - loss: 0.2354 - binary_accuracy: 0.9392 - val_loss: 0.3405 - val_binary_accuracy: 0.8833\n",
      "Epoch 7/20\n",
      "30/30 [==============================] - 0s 15ms/step - loss: 0.2219 - binary_accuracy: 0.9477 - val_loss: 0.3481 - val_binary_accuracy: 0.8826\n",
      "Epoch 8/20\n",
      "30/30 [==============================] - 0s 14ms/step - loss: 0.2134 - binary_accuracy: 0.9496 - val_loss: 0.3865 - val_binary_accuracy: 0.8753\n",
      "Epoch 9/20\n",
      "30/30 [==============================] - 0s 14ms/step - loss: 0.2045 - binary_accuracy: 0.9551 - val_loss: 0.3608 - val_binary_accuracy: 0.8820\n",
      "Epoch 10/20\n",
      "30/30 [==============================] - 0s 15ms/step - loss: 0.1960 - binary_accuracy: 0.9585 - val_loss: 0.3675 - val_binary_accuracy: 0.8793\n",
      "Epoch 11/20\n",
      "30/30 [==============================] - 0s 14ms/step - loss: 0.1941 - binary_accuracy: 0.9576 - val_loss: 0.3787 - val_binary_accuracy: 0.8809\n",
      "Epoch 12/20\n",
      "30/30 [==============================] - 0s 15ms/step - loss: 0.1869 - binary_accuracy: 0.9604 - val_loss: 0.3805 - val_binary_accuracy: 0.8781\n",
      "Epoch 13/20\n",
      "30/30 [==============================] - 0s 14ms/step - loss: 0.1830 - binary_accuracy: 0.9601 - val_loss: 0.3881 - val_binary_accuracy: 0.8788\n",
      "Epoch 14/20\n",
      "30/30 [==============================] - 0s 14ms/step - loss: 0.1783 - binary_accuracy: 0.9648 - val_loss: 0.4651 - val_binary_accuracy: 0.8586\n",
      "Epoch 15/20\n",
      "30/30 [==============================] - 0s 15ms/step - loss: 0.1762 - binary_accuracy: 0.9644 - val_loss: 0.4058 - val_binary_accuracy: 0.8769\n",
      "Epoch 16/20\n",
      "30/30 [==============================] - 0s 15ms/step - loss: 0.1644 - binary_accuracy: 0.9699 - val_loss: 0.4414 - val_binary_accuracy: 0.8678\n",
      "Epoch 17/20\n",
      "30/30 [==============================] - 0s 15ms/step - loss: 0.1685 - binary_accuracy: 0.9671 - val_loss: 0.4686 - val_binary_accuracy: 0.8579\n",
      "Epoch 18/20\n",
      "30/30 [==============================] - 0s 15ms/step - loss: 0.1642 - binary_accuracy: 0.9694 - val_loss: 0.4244 - val_binary_accuracy: 0.8735\n",
      "Epoch 19/20\n",
      "30/30 [==============================] - 0s 15ms/step - loss: 0.1606 - binary_accuracy: 0.9703 - val_loss: 0.4282 - val_binary_accuracy: 0.8733\n",
      "Epoch 20/20\n",
      "30/30 [==============================] - 0s 14ms/step - loss: 0.1567 - binary_accuracy: 0.9720 - val_loss: 0.4360 - val_binary_accuracy: 0.8720\n"
     ]
    }
   ],
   "source": [
    "# Compilation\n",
    "from keras import losses\n",
    "from keras import metrics\n",
    "from keras import optimizers\n",
    "model.compile(optimizer=optimizers.RMSprop(lr=0.001),\n",
    "              loss=losses.binary_crossentropy,\n",
    "              metrics=[metrics.binary_accuracy])\n",
    "\n",
    "\n",
    "## CREATING A VALIDATION SET\n",
    "x_val = x_train[:10000]\n",
    "partial_x_train = x_train[10000:]\n",
    "y_val = y_train[:10000]\n",
    "partial_y_train = y_train[10000:]\n",
    "\n",
    "\n",
    "## CREATING A HISTORY\n",
    "history2 = model.fit(partial_x_train,\n",
    "                    partial_y_train,\n",
    "                    epochs=20,\n",
    "                    batch_size=512,\n",
    "                    validation_data=(x_val, y_val))"
   ]
  },
  {
   "cell_type": "code",
   "execution_count": 7,
   "id": "73ed588c",
   "metadata": {},
   "outputs": [],
   "source": [
    "history_dict2 = history2.history"
   ]
  },
  {
   "cell_type": "code",
   "execution_count": 8,
   "id": "a12952d7",
   "metadata": {},
   "outputs": [
    {
     "data": {
      "image/png": "[encoded data removed]",
      "text/plain": [
       "<Figure size 432x288 with 1 Axes>"
      ]
     },
     "metadata": {
      "needs_background": "light"
     },
     "output_type": "display_data"
    }
   ],
   "source": [
    "#Plotting the training and validation accuracy\n",
    "val_loss_model1 = history_dict['val_loss']\n",
    "val_loss_model2 = history_dict2['val_loss']\n",
    "\n",
    "epochs1 = range(1, len(history_dict['loss']) + 1)\n",
    "epochs2 = range(1, len(history_dict2['loss']) + 1)\n",
    "\n",
    "plt.plot(epochs1, val_loss_model1, 'bo', label='Model1')\n",
    "plt.plot(epochs2, val_loss_model2, 'b', label='Model2 (L2 Reg)')\n",
    "plt.title('Validation Loss')\n",
    "plt.xlabel('Epochs')\n",
    "plt.ylabel('Loss')\n",
    "plt.legend()\n",
    "plt.show()"
   ]
  },
  {
   "cell_type": "markdown",
   "id": "5869e0a8",
   "metadata": {},
   "source": [
    "### Adding DropOut Regularization to the Model"
   ]
  },
  {
   "cell_type": "code",
   "execution_count": 9,
   "id": "6dbcdb84",
   "metadata": {},
   "outputs": [],
   "source": [
    "model = models.Sequential()\n",
    "model.add(layers.Dense(16, activation='relu', input_shape=(10000,)))\n",
    "model.add(layers.Dropout(0.5))\n",
    "model.add(layers.Dense(16, activation='relu'))\n",
    "model.add(layers.Dropout(0.5))\n",
    "model.add(layers.Dense(1, activation='sigmoid'))"
   ]
  },
  {
   "cell_type": "code",
   "execution_count": 10,
   "id": "a3b177bd",
   "metadata": {},
   "outputs": [
    {
     "name": "stdout",
     "output_type": "stream",
     "text": [
      "Epoch 1/20\n",
      "30/30 [==============================] - 1s 25ms/step - loss: 0.6168 - binary_accuracy: 0.6571 - val_loss: 0.4993 - val_binary_accuracy: 0.8287\n",
      "Epoch 2/20\n",
      "30/30 [==============================] - 0s 16ms/step - loss: 0.4972 - binary_accuracy: 0.7752 - val_loss: 0.3961 - val_binary_accuracy: 0.8644\n",
      "Epoch 3/20\n",
      "30/30 [==============================] - 0s 14ms/step - loss: 0.4155 - binary_accuracy: 0.8289 - val_loss: 0.3410 - val_binary_accuracy: 0.8733\n",
      "Epoch 4/20\n",
      "30/30 [==============================] - 0s 15ms/step - loss: 0.3588 - binary_accuracy: 0.8628 - val_loss: 0.3029 - val_binary_accuracy: 0.8872\n",
      "Epoch 5/20\n",
      "30/30 [==============================] - 0s 15ms/step - loss: 0.3142 - binary_accuracy: 0.8852 - val_loss: 0.2813 - val_binary_accuracy: 0.8885\n",
      "Epoch 6/20\n",
      "30/30 [==============================] - 0s 15ms/step - loss: 0.2772 - binary_accuracy: 0.8995 - val_loss: 0.2743 - val_binary_accuracy: 0.8890\n",
      "Epoch 7/20\n",
      "30/30 [==============================] - 0s 16ms/step - loss: 0.2422 - binary_accuracy: 0.9173 - val_loss: 0.2879 - val_binary_accuracy: 0.8866\n",
      "Epoch 8/20\n",
      "30/30 [==============================] - 0s 15ms/step - loss: 0.2195 - binary_accuracy: 0.9218 - val_loss: 0.2812 - val_binary_accuracy: 0.8912\n",
      "Epoch 9/20\n",
      "30/30 [==============================] - 0s 15ms/step - loss: 0.1976 - binary_accuracy: 0.9309 - val_loss: 0.2947 - val_binary_accuracy: 0.8909\n",
      "Epoch 10/20\n",
      "30/30 [==============================] - 0s 14ms/step - loss: 0.1775 - binary_accuracy: 0.9374 - val_loss: 0.3038 - val_binary_accuracy: 0.8893\n",
      "Epoch 11/20\n",
      "30/30 [==============================] - 0s 15ms/step - loss: 0.1562 - binary_accuracy: 0.9487 - val_loss: 0.3390 - val_binary_accuracy: 0.8833\n",
      "Epoch 12/20\n",
      "30/30 [==============================] - 0s 15ms/step - loss: 0.1448 - binary_accuracy: 0.9509 - val_loss: 0.3390 - val_binary_accuracy: 0.8874\n",
      "Epoch 13/20\n",
      "30/30 [==============================] - 0s 15ms/step - loss: 0.1286 - binary_accuracy: 0.9552 - val_loss: 0.3657 - val_binary_accuracy: 0.8861\n",
      "Epoch 14/20\n",
      "30/30 [==============================] - 0s 15ms/step - loss: 0.1214 - binary_accuracy: 0.9591 - val_loss: 0.3969 - val_binary_accuracy: 0.8872\n",
      "Epoch 15/20\n",
      "30/30 [==============================] - 0s 15ms/step - loss: 0.1067 - binary_accuracy: 0.9637 - val_loss: 0.4327 - val_binary_accuracy: 0.8862\n",
      "Epoch 16/20\n",
      "30/30 [==============================] - 0s 15ms/step - loss: 0.1042 - binary_accuracy: 0.9659 - val_loss: 0.4534 - val_binary_accuracy: 0.8833\n",
      "Epoch 17/20\n",
      "30/30 [==============================] - 0s 15ms/step - loss: 0.0968 - binary_accuracy: 0.9653 - val_loss: 0.4736 - val_binary_accuracy: 0.8842\n",
      "Epoch 18/20\n",
      "30/30 [==============================] - 0s 15ms/step - loss: 0.0892 - binary_accuracy: 0.9675 - val_loss: 0.5151 - val_binary_accuracy: 0.8851\n",
      "Epoch 19/20\n",
      "30/30 [==============================] - 0s 15ms/step - loss: 0.0874 - binary_accuracy: 0.9684 - val_loss: 0.4935 - val_binary_accuracy: 0.8828\n",
      "Epoch 20/20\n",
      "30/30 [==============================] - 0s 14ms/step - loss: 0.0842 - binary_accuracy: 0.9702 - val_loss: 0.5439 - val_binary_accuracy: 0.8832\n"
     ]
    }
   ],
   "source": [
    "# Compilation\n",
    "from keras import losses\n",
    "from keras import metrics\n",
    "from keras import optimizers\n",
    "model.compile(optimizer=optimizers.RMSprop(lr=0.001),\n",
    "              loss=losses.binary_crossentropy,\n",
    "              metrics=[metrics.binary_accuracy])\n",
    "\n",
    "\n",
    "## CREATING A VALIDATION SET\n",
    "x_val = x_train[:10000]\n",
    "partial_x_train = x_train[10000:]\n",
    "y_val = y_train[:10000]\n",
    "partial_y_train = y_train[10000:]\n",
    "\n",
    "\n",
    "## CREATING A HISTORY\n",
    "history3 = model.fit(partial_x_train,\n",
    "                    partial_y_train,\n",
    "                    epochs=20,\n",
    "                    batch_size=512,\n",
    "                    validation_data=(x_val, y_val))"
   ]
  },
  {
   "cell_type": "code",
   "execution_count": 11,
   "id": "9c9a9fee",
   "metadata": {},
   "outputs": [],
   "source": [
    "history_dict3 = history3.history"
   ]
  },
  {
   "cell_type": "code",
   "execution_count": 12,
   "id": "27af3aad",
   "metadata": {},
   "outputs": [
    {
     "data": {
      "image/png": "[encoded data removed]",
      "text/plain": [
       "<Figure size 432x288 with 1 Axes>"
      ]
     },
     "metadata": {
      "needs_background": "light"
     },
     "output_type": "display_data"
    }
   ],
   "source": [
    "#Plotting the training and validation accuracy\n",
    "val_loss_model1 = history_dict['val_loss']\n",
    "val_loss_model2 = history_dict2['val_loss']\n",
    "val_loss_model3 = history_dict3['val_loss']\n",
    "\n",
    "epochs1 = range(1, len(history_dict['loss']) + 1)\n",
    "epochs2 = range(1, len(history_dict2['loss']) + 1)\n",
    "epochs3 = range(1, len(history_dict3['loss']) + 1)\n",
    "\n",
    "plt.plot(epochs1, val_loss_model1, 'bo', label='Model1')\n",
    "plt.plot(epochs2, val_loss_model2, 'b', label='Model2 (L2 Reg)')\n",
    "plt.plot(epochs3, val_loss_model3, 'r', label='Model3 (Dropout Reg)')\n",
    "plt.title('Validation Loss')\n",
    "plt.xlabel('Epochs')\n",
    "plt.ylabel('Loss')\n",
    "plt.legend()\n",
    "plt.show()"
   ]
  }
 ],
 "metadata": {
  "kernelspec": {
   "display_name": "Python 3",
   "language": "python",
   "name": "python3"
  },
  "language_info": {
   "codemirror_mode": {
    "name": "ipython",
    "version": 3
   },
   "file_extension": ".py",
   "mimetype": "text/x-python",
   "name": "python",
   "nbconvert_exporter": "python",
   "pygments_lexer": "ipython3",
   "version": "3.8.8"
  }
 },
 "nbformat": 4,
 "nbformat_minor": 5
}
