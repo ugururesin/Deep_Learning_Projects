{
 "cells": [
  {
   "cell_type": "markdown",
   "id": "a8c611d5",
   "metadata": {},
   "source": [
    "# Deep-Learning with Keras\n",
    "\n",
    "#### Ugur URESIN, AI Engineer | Data Scientist\n",
    "#### Mail: uresin.ugur@gmail.com\n",
    "\n",
    "## Chapter 06. Neural Networks - Regularization"
   ]
  },
  {
   "cell_type": "markdown",
   "id": "e63bdea8",
   "metadata": {},
   "source": [
    "### Creating an Example Network using IMDB data"
   ]
  },
  {
   "cell_type": "code",
   "execution_count": 19,
   "id": "bde52a45",
   "metadata": {},
   "outputs": [
    {
     "name": "stderr",
     "output_type": "stream",
     "text": [
      "<__array_function__ internals>:5: VisibleDeprecationWarning: Creating an ndarray from ragged nested sequences (which is a list-or-tuple of lists-or-tuples-or ndarrays with different lengths or shapes) is deprecated. If you meant to do this, you must specify 'dtype=object' when creating the ndarray.\n",
      "C:\\Users\\uuresin\\.conda\\envs\\tensorflow\\lib\\site-packages\\tensorflow\\python\\keras\\datasets\\imdb.py:159: VisibleDeprecationWarning: Creating an ndarray from ragged nested sequences (which is a list-or-tuple of lists-or-tuples-or ndarrays with different lengths or shapes) is deprecated. If you meant to do this, you must specify 'dtype=object' when creating the ndarray.\n",
      "  x_train, y_train = np.array(xs[:idx]), np.array(labels[:idx])\n",
      "C:\\Users\\uuresin\\.conda\\envs\\tensorflow\\lib\\site-packages\\tensorflow\\python\\keras\\datasets\\imdb.py:160: VisibleDeprecationWarning: Creating an ndarray from ragged nested sequences (which is a list-or-tuple of lists-or-tuples-or ndarrays with different lengths or shapes) is deprecated. If you meant to do this, you must specify 'dtype=object' when creating the ndarray.\n",
      "  x_test, y_test = np.array(xs[idx:]), np.array(labels[idx:])\n"
     ]
    },
    {
     "name": "stdout",
     "output_type": "stream",
     "text": [
      "Epoch 1/20\n",
      "30/30 [==============================] - 1s 27ms/step - loss: 0.5453 - binary_accuracy: 0.7725 - val_loss: 0.4204 - val_binary_accuracy: 0.8698\n",
      "Epoch 2/20\n",
      "30/30 [==============================] - 0s 15ms/step - loss: 0.3431 - binary_accuracy: 0.8977 - val_loss: 0.3287 - val_binary_accuracy: 0.8817\n",
      "Epoch 3/20\n",
      "30/30 [==============================] - 0s 14ms/step - loss: 0.2541 - binary_accuracy: 0.9220 - val_loss: 0.3051 - val_binary_accuracy: 0.8774\n",
      "Epoch 4/20\n",
      "30/30 [==============================] - 0s 15ms/step - loss: 0.1973 - binary_accuracy: 0.9405 - val_loss: 0.2877 - val_binary_accuracy: 0.8848\n",
      "Epoch 5/20\n",
      "30/30 [==============================] - 0s 15ms/step - loss: 0.1585 - binary_accuracy: 0.9510 - val_loss: 0.2757 - val_binary_accuracy: 0.8888\n",
      "Epoch 6/20\n",
      "30/30 [==============================] - 0s 15ms/step - loss: 0.1312 - binary_accuracy: 0.9598 - val_loss: 0.2863 - val_binary_accuracy: 0.8879\n",
      "Epoch 7/20\n",
      "30/30 [==============================] - 0s 14ms/step - loss: 0.1087 - binary_accuracy: 0.9686 - val_loss: 0.2976 - val_binary_accuracy: 0.8859\n",
      "Epoch 8/20\n",
      "30/30 [==============================] - 0s 15ms/step - loss: 0.0870 - binary_accuracy: 0.9772 - val_loss: 0.3135 - val_binary_accuracy: 0.8840\n",
      "Epoch 9/20\n",
      "30/30 [==============================] - 0s 15ms/step - loss: 0.0735 - binary_accuracy: 0.9803 - val_loss: 0.3360 - val_binary_accuracy: 0.8782\n",
      "Epoch 10/20\n",
      "30/30 [==============================] - 0s 15ms/step - loss: 0.0594 - binary_accuracy: 0.9855 - val_loss: 0.3552 - val_binary_accuracy: 0.8778\n",
      "Epoch 11/20\n",
      "30/30 [==============================] - 0s 14ms/step - loss: 0.0481 - binary_accuracy: 0.9899 - val_loss: 0.3855 - val_binary_accuracy: 0.8783\n",
      "Epoch 12/20\n",
      "30/30 [==============================] - 0s 14ms/step - loss: 0.0382 - binary_accuracy: 0.9933 - val_loss: 0.4353 - val_binary_accuracy: 0.8743\n",
      "Epoch 13/20\n",
      "30/30 [==============================] - 0s 15ms/step - loss: 0.0304 - binary_accuracy: 0.9946 - val_loss: 0.4324 - val_binary_accuracy: 0.8754\n",
      "Epoch 14/20\n",
      "30/30 [==============================] - 0s 14ms/step - loss: 0.0236 - binary_accuracy: 0.9962 - val_loss: 0.4539 - val_binary_accuracy: 0.8750\n",
      "Epoch 15/20\n",
      "30/30 [==============================] - 0s 14ms/step - loss: 0.0177 - binary_accuracy: 0.9978 - val_loss: 0.4877 - val_binary_accuracy: 0.8733\n",
      "Epoch 16/20\n",
      "30/30 [==============================] - 0s 15ms/step - loss: 0.0135 - binary_accuracy: 0.9988 - val_loss: 0.5206 - val_binary_accuracy: 0.8732\n",
      "Epoch 17/20\n",
      "30/30 [==============================] - 0s 14ms/step - loss: 0.0094 - binary_accuracy: 0.9993 - val_loss: 0.5692 - val_binary_accuracy: 0.8707\n",
      "Epoch 18/20\n",
      "30/30 [==============================] - 0s 14ms/step - loss: 0.0076 - binary_accuracy: 0.9995 - val_loss: 0.5937 - val_binary_accuracy: 0.8711\n",
      "Epoch 19/20\n",
      "30/30 [==============================] - 0s 15ms/step - loss: 0.0065 - binary_accuracy: 0.9992 - val_loss: 0.6163 - val_binary_accuracy: 0.8707\n",
      "Epoch 20/20\n",
      "30/30 [==============================] - 0s 13ms/step - loss: 0.0031 - binary_accuracy: 0.9999 - val_loss: 0.6526 - val_binary_accuracy: 0.8673\n"
     ]
    }
   ],
   "source": [
    "## IMPORTING LIBRARIES\n",
    "import numpy as np\n",
    "from keras.datasets import imdb\n",
    "\n",
    "\n",
    "## IMPORTING DATA\n",
    "(train_data, train_labels), (test_data, test_labels) = imdb.load_data(num_words=10000)\n",
    "\n",
    "\n",
    "## PROCESSING THE DATA\n",
    "'''\n",
    "train_labels and test_labels are lists of 0s and 1s, where\n",
    "- 0 stands for negative  \n",
    "- 1 stands for positive\n",
    "'''\n",
    "\n",
    "# word_index is a dictionary that maps words to an integer index\n",
    "word_index = imdb.get_word_index()\n",
    "\n",
    "# converts integer indices to a word\n",
    "reverse_word_index = dict([(val,key) for (key,val) in word_index.items()])\n",
    "\n",
    "# **Decoding the review**  \n",
    "# Note that the indices are offset by 3 because 0, 1, and 2 are reserved indices\n",
    "# for “padding,” “start of sequence,” and “unknown.”\n",
    "decoded_review = ' '.join(\n",
    "    [reverse_word_index.get(i - 3, '?') for i in train_data[0]])\n",
    "\n",
    "#Encoding the integer sequences into a binary matrix\n",
    "import numpy as np\n",
    "\n",
    "def vectorize_sequences(sequences, dimension=10000):\n",
    "    results = np.zeros((len(sequences), dimension))\n",
    "    for i, sequence in enumerate(sequences):\n",
    "        results[i, sequence] = 1.\n",
    "    return results\n",
    "\n",
    "x_train = vectorize_sequences(train_data)\n",
    "x_test = vectorize_sequences(test_data)\n",
    "\n",
    "# Vectorization of the labels\n",
    "y_train = np.asarray(train_labels).astype('float32')\n",
    "y_test = np.asarray(test_labels).astype('float32')\n",
    "\n",
    "\n",
    "## CREATING THE MODEL\n",
    "from keras import models\n",
    "from keras import layers\n",
    "model = models.Sequential()\n",
    "model.add(layers.Dense(16, activation='relu', input_shape=(10000,)))\n",
    "model.add(layers.Dense(16, activation='relu'))\n",
    "model.add(layers.Dense(1, activation='sigmoid'))\n",
    "\n",
    "# Compilation\n",
    "from keras import losses\n",
    "from keras import metrics\n",
    "from keras import optimizers\n",
    "model.compile(optimizer=optimizers.RMSprop(lr=0.001),\n",
    "              loss=losses.binary_crossentropy,\n",
    "              metrics=[metrics.binary_accuracy])\n",
    "\n",
    "\n",
    "## CREATING A VALIDATION SET\n",
    "x_val = x_train[:10000]\n",
    "partial_x_train = x_train[10000:]\n",
    "y_val = y_train[:10000]\n",
    "partial_y_train = y_train[10000:]\n",
    "\n",
    "\n",
    "## CREATING A HISTORY\n",
    "history = model.fit(partial_x_train,\n",
    "                    partial_y_train,\n",
    "                    epochs=20,\n",
    "                    batch_size=512,\n",
    "                    validation_data=(x_val, y_val))"
   ]
  },
  {
   "cell_type": "code",
   "execution_count": 20,
   "id": "28c1ad06",
   "metadata": {},
   "outputs": [
    {
     "data": {
      "text/plain": [
       "dict_keys(['loss', 'binary_accuracy', 'val_loss', 'val_binary_accuracy'])"
      ]
     },
     "execution_count": 20,
     "metadata": {},
     "output_type": "execute_result"
    }
   ],
   "source": [
    "history_dict.keys()\n",
    "history_dict = history.history"
   ]
  },
  {
   "cell_type": "code",
   "execution_count": 21,
   "id": "b9f5154a",
   "metadata": {},
   "outputs": [
    {
     "data": {
      "image/png": "[encoded data removed]",
      "text/plain": [
       "<Figure size 432x288 with 1 Axes>"
      ]
     },
     "metadata": {
      "needs_background": "light"
     },
     "output_type": "display_data"
    }
   ],
   "source": [
    "## EVALUATING THE PERFORMANCE\n",
    "#Plotting the training and validation loss\n",
    "import matplotlib.pyplot as plt\n",
    "loss_values = history_dict['loss']\n",
    "val_loss_values = history_dict['val_loss']\n",
    "\n",
    "epochs = range(1, len(history_dict['loss']) + 1)\n",
    "\n",
    "plt.plot(epochs, loss_values, 'bo', label='Training loss') #bo:blue-dot\n",
    "plt.plot(epochs, val_loss_values, 'b', label='Validation loss') #b:solid-blue\n",
    "plt.title('Training and validation loss')\n",
    "plt.xlabel('Epochs')\n",
    "plt.ylabel('Loss')\n",
    "plt.legend()\n",
    "\n",
    "plt.show()"
   ]
  },
  {
   "cell_type": "code",
   "execution_count": 22,
   "id": "ba1dffdf",
   "metadata": {},
   "outputs": [
    {
     "data": {
      "image/png": "[encoded data removed]",
      "text/plain": [
       "<Figure size 432x288 with 1 Axes>"
      ]
     },
     "metadata": {
      "needs_background": "light"
     },
     "output_type": "display_data"
    }
   ],
   "source": [
    "#Plotting the training and validation accuracy\n",
    "acc_values = history_dict['binary_accuracy']\n",
    "val_acc_values = history_dict['val_binary_accuracy']\n",
    "\n",
    "plt.plot(epochs, acc_values, 'bo', label='Training acc')\n",
    "plt.plot(epochs, val_acc_values, 'b', label='Validation acc')\n",
    "plt.title('Training and validation accuracy')\n",
    "plt.xlabel('Epochs')\n",
    "plt.ylabel('Loss')\n",
    "plt.legend()\n",
    "plt.show()"
   ]
  },
  {
   "cell_type": "markdown",
   "id": "110bbe55",
   "metadata": {},
   "source": [
    "### Adding L2 Regularization to the Model"
   ]
  },
  {
   "cell_type": "code",
   "execution_count": 23,
   "id": "87078929",
   "metadata": {},
   "outputs": [],
   "source": [
    "from keras import regularizers\n",
    "model = models.Sequential()\n",
    "model.add(layers.Dense(16, kernel_regularizer = regularizers.l2(0.001),\n",
    "                      activation='relu', input_shape=(10000,)))\n",
    "model.add(layers.Dense(16, kernel_regularizer=regularizers.l2(0.001),\n",
    "                      activation='relu'))\n",
    "model.add(layers.Dense(1, activation='sigmoid'))"
   ]
  },
  {
   "cell_type": "code",
   "execution_count": 24,
   "id": "601f2f7a",
   "metadata": {},
   "outputs": [
    {
     "name": "stdout",
     "output_type": "stream",
     "text": [
      "Epoch 1/20\n",
      "30/30 [==============================] - 1s 26ms/step - loss: 0.5788 - binary_accuracy: 0.7694 - val_loss: 0.4525 - val_binary_accuracy: 0.8650\n",
      "Epoch 2/20\n",
      "30/30 [==============================] - 0s 15ms/step - loss: 0.3755 - binary_accuracy: 0.8962 - val_loss: 0.3669 - val_binary_accuracy: 0.8828\n",
      "Epoch 3/20\n",
      "30/30 [==============================] - 0s 15ms/step - loss: 0.3026 - binary_accuracy: 0.9156 - val_loss: 0.3372 - val_binary_accuracy: 0.8875\n",
      "Epoch 4/20\n",
      "30/30 [==============================] - 0s 15ms/step - loss: 0.2611 - binary_accuracy: 0.9328 - val_loss: 0.3344 - val_binary_accuracy: 0.8860\n",
      "Epoch 5/20\n",
      "30/30 [==============================] - 0s 15ms/step - loss: 0.2399 - binary_accuracy: 0.9379 - val_loss: 0.3580 - val_binary_accuracy: 0.8783\n",
      "Epoch 6/20\n",
      "30/30 [==============================] - 0s 14ms/step - loss: 0.2211 - binary_accuracy: 0.9482 - val_loss: 0.3373 - val_binary_accuracy: 0.8853\n",
      "Epoch 7/20\n",
      "30/30 [==============================] - 0s 15ms/step - loss: 0.2146 - binary_accuracy: 0.9472 - val_loss: 0.3453 - val_binary_accuracy: 0.8825\n",
      "Epoch 8/20\n",
      "30/30 [==============================] - 1s 18ms/step - loss: 0.2013 - binary_accuracy: 0.9541 - val_loss: 0.3636 - val_binary_accuracy: 0.8768\n",
      "Epoch 9/20\n",
      "30/30 [==============================] - 0s 16ms/step - loss: 0.1927 - binary_accuracy: 0.9581 - val_loss: 0.3600 - val_binary_accuracy: 0.8796\n",
      "Epoch 10/20\n",
      "30/30 [==============================] - 0s 15ms/step - loss: 0.1889 - binary_accuracy: 0.9587 - val_loss: 0.3929 - val_binary_accuracy: 0.8763\n",
      "Epoch 11/20\n",
      "30/30 [==============================] - 0s 16ms/step - loss: 0.1826 - binary_accuracy: 0.9623 - val_loss: 0.4310 - val_binary_accuracy: 0.8651\n",
      "Epoch 12/20\n",
      "30/30 [==============================] - 1s 30ms/step - loss: 0.1751 - binary_accuracy: 0.9656 - val_loss: 0.4075 - val_binary_accuracy: 0.8729\n",
      "Epoch 13/20\n",
      "30/30 [==============================] - 0s 15ms/step - loss: 0.1738 - binary_accuracy: 0.9650 - val_loss: 0.4160 - val_binary_accuracy: 0.8701\n",
      "Epoch 14/20\n",
      "30/30 [==============================] - 0s 14ms/step - loss: 0.1670 - binary_accuracy: 0.9687 - val_loss: 0.4051 - val_binary_accuracy: 0.8754\n",
      "Epoch 15/20\n",
      "30/30 [==============================] - 0s 14ms/step - loss: 0.1658 - binary_accuracy: 0.9681 - val_loss: 0.4303 - val_binary_accuracy: 0.8644\n",
      "Epoch 16/20\n",
      "30/30 [==============================] - 0s 15ms/step - loss: 0.1645 - binary_accuracy: 0.9678 - val_loss: 0.4100 - val_binary_accuracy: 0.8720\n",
      "Epoch 17/20\n",
      "30/30 [==============================] - 0s 14ms/step - loss: 0.1588 - binary_accuracy: 0.9710 - val_loss: 0.4145 - val_binary_accuracy: 0.8752\n",
      "Epoch 18/20\n",
      "30/30 [==============================] - 0s 14ms/step - loss: 0.1589 - binary_accuracy: 0.9707 - val_loss: 0.4669 - val_binary_accuracy: 0.8634\n",
      "Epoch 19/20\n",
      "30/30 [==============================] - 0s 15ms/step - loss: 0.1554 - binary_accuracy: 0.9707 - val_loss: 0.4324 - val_binary_accuracy: 0.8724\n",
      "Epoch 20/20\n",
      "30/30 [==============================] - 0s 14ms/step - loss: 0.1514 - binary_accuracy: 0.9741 - val_loss: 0.4351 - val_binary_accuracy: 0.8699\n"
     ]
    }
   ],
   "source": [
    "# Compilation\n",
    "from keras import losses\n",
    "from keras import metrics\n",
    "from keras import optimizers\n",
    "model.compile(optimizer=optimizers.RMSprop(lr=0.001),\n",
    "              loss=losses.binary_crossentropy,\n",
    "              metrics=[metrics.binary_accuracy])\n",
    "\n",
    "\n",
    "## CREATING A VALIDATION SET\n",
    "x_val = x_train[:10000]\n",
    "partial_x_train = x_train[10000:]\n",
    "y_val = y_train[:10000]\n",
    "partial_y_train = y_train[10000:]\n",
    "\n",
    "\n",
    "## CREATING A HISTORY\n",
    "history2 = model.fit(partial_x_train,\n",
    "                    partial_y_train,\n",
    "                    epochs=20,\n",
    "                    batch_size=512,\n",
    "                    validation_data=(x_val, y_val))"
   ]
  },
  {
   "cell_type": "code",
   "execution_count": 25,
   "id": "5c0f7fdf",
   "metadata": {},
   "outputs": [],
   "source": [
    "history_dict2 = history2.history"
   ]
  },
  {
   "cell_type": "code",
   "execution_count": 26,
   "id": "9b445fa4",
   "metadata": {},
   "outputs": [
    {
     "data": {
      "image/png": "[encoded data removed]",
      "text/plain": [
       "<Figure size 432x288 with 1 Axes>"
      ]
     },
     "metadata": {
      "needs_background": "light"
     },
     "output_type": "display_data"
    }
   ],
   "source": [
    "#Plotting the training and validation accuracy\n",
    "val_loss_model1 = history_dict['val_loss']\n",
    "val_loss_model2 = history_dict2['val_loss']\n",
    "\n",
    "epochs1 = range(1, len(history_dict['loss']) + 1)\n",
    "epochs2 = range(1, len(history_dict2['loss']) + 1)\n",
    "\n",
    "plt.plot(epochs1, val_loss_model1, 'bo', label='Model1')\n",
    "plt.plot(epochs2, val_loss_model2, 'b', label='Model2 (L2 Reg)')\n",
    "plt.title('Validation Loss')\n",
    "plt.xlabel('Epochs')\n",
    "plt.ylabel('Loss')\n",
    "plt.legend()\n",
    "plt.show()"
   ]
  },
  {
   "cell_type": "markdown",
   "id": "c81d972a",
   "metadata": {},
   "source": [
    "### Adding DropOut Regularization to the Model"
   ]
  },
  {
   "cell_type": "code",
   "execution_count": 28,
   "id": "ac3c9fdb",
   "metadata": {},
   "outputs": [],
   "source": [
    "model = models.Sequential()\n",
    "model.add(layers.Dense(16, activation='relu', input_shape=(10000,)))\n",
    "model.add(layers.Dropout(0.5))\n",
    "model.add(layers.Dense(16, activation='relu'))\n",
    "model.add(layers.Dropout(0.5))\n",
    "model.add(layers.Dense(1, activation='sigmoid'))"
   ]
  },
  {
   "cell_type": "code",
   "execution_count": 29,
   "id": "e776c65b",
   "metadata": {},
   "outputs": [
    {
     "name": "stdout",
     "output_type": "stream",
     "text": [
      "Epoch 1/20\n",
      "30/30 [==============================] - 1s 27ms/step - loss: 0.6443 - binary_accuracy: 0.6309 - val_loss: 0.5490 - val_binary_accuracy: 0.8368\n",
      "Epoch 2/20\n",
      "30/30 [==============================] - 0s 15ms/step - loss: 0.5301 - binary_accuracy: 0.7637 - val_loss: 0.4371 - val_binary_accuracy: 0.8530\n",
      "Epoch 3/20\n",
      "30/30 [==============================] - 0s 15ms/step - loss: 0.4528 - binary_accuracy: 0.8231 - val_loss: 0.3732 - val_binary_accuracy: 0.8777\n",
      "Epoch 4/20\n",
      "30/30 [==============================] - 0s 14ms/step - loss: 0.3844 - binary_accuracy: 0.8603 - val_loss: 0.3538 - val_binary_accuracy: 0.8686\n",
      "Epoch 5/20\n",
      "30/30 [==============================] - 0s 15ms/step - loss: 0.3377 - binary_accuracy: 0.8881 - val_loss: 0.3085 - val_binary_accuracy: 0.8866\n",
      "Epoch 6/20\n",
      "30/30 [==============================] - 0s 16ms/step - loss: 0.2998 - binary_accuracy: 0.9041 - val_loss: 0.3002 - val_binary_accuracy: 0.8851\n",
      "Epoch 7/20\n",
      "30/30 [==============================] - 0s 14ms/step - loss: 0.2640 - binary_accuracy: 0.9181 - val_loss: 0.2982 - val_binary_accuracy: 0.8857\n",
      "Epoch 8/20\n",
      "30/30 [==============================] - 0s 15ms/step - loss: 0.2362 - binary_accuracy: 0.9321 - val_loss: 0.2908 - val_binary_accuracy: 0.8883\n",
      "Epoch 9/20\n",
      "30/30 [==============================] - 0s 15ms/step - loss: 0.2096 - binary_accuracy: 0.9381 - val_loss: 0.3034 - val_binary_accuracy: 0.8874\n",
      "Epoch 10/20\n",
      "30/30 [==============================] - 0s 14ms/step - loss: 0.1876 - binary_accuracy: 0.9458 - val_loss: 0.3148 - val_binary_accuracy: 0.8857\n",
      "Epoch 11/20\n",
      "30/30 [==============================] - 0s 15ms/step - loss: 0.1737 - binary_accuracy: 0.9478 - val_loss: 0.3638 - val_binary_accuracy: 0.8837\n",
      "Epoch 12/20\n",
      "30/30 [==============================] - 0s 15ms/step - loss: 0.1509 - binary_accuracy: 0.9561 - val_loss: 0.3678 - val_binary_accuracy: 0.8846\n",
      "Epoch 13/20\n",
      "30/30 [==============================] - 0s 14ms/step - loss: 0.1413 - binary_accuracy: 0.9571 - val_loss: 0.3847 - val_binary_accuracy: 0.8847\n",
      "Epoch 14/20\n",
      "30/30 [==============================] - 0s 15ms/step - loss: 0.1283 - binary_accuracy: 0.9624 - val_loss: 0.4216 - val_binary_accuracy: 0.8832\n",
      "Epoch 15/20\n",
      "30/30 [==============================] - 0s 15ms/step - loss: 0.1149 - binary_accuracy: 0.9653 - val_loss: 0.4686 - val_binary_accuracy: 0.8816\n",
      "Epoch 16/20\n",
      "30/30 [==============================] - 0s 15ms/step - loss: 0.1069 - binary_accuracy: 0.9688 - val_loss: 0.4443 - val_binary_accuracy: 0.8804\n",
      "Epoch 17/20\n",
      "30/30 [==============================] - 0s 15ms/step - loss: 0.0979 - binary_accuracy: 0.9709 - val_loss: 0.5122 - val_binary_accuracy: 0.8814\n",
      "Epoch 18/20\n",
      "30/30 [==============================] - 0s 15ms/step - loss: 0.0917 - binary_accuracy: 0.9719 - val_loss: 0.5225 - val_binary_accuracy: 0.8812\n",
      "Epoch 19/20\n",
      "30/30 [==============================] - 0s 15ms/step - loss: 0.0868 - binary_accuracy: 0.9745 - val_loss: 0.6147 - val_binary_accuracy: 0.8801\n",
      "Epoch 20/20\n",
      "30/30 [==============================] - 0s 14ms/step - loss: 0.0796 - binary_accuracy: 0.9768 - val_loss: 0.5578 - val_binary_accuracy: 0.8798\n"
     ]
    }
   ],
   "source": [
    "# Compilation\n",
    "from keras import losses\n",
    "from keras import metrics\n",
    "from keras import optimizers\n",
    "model.compile(optimizer=optimizers.RMSprop(lr=0.001),\n",
    "              loss=losses.binary_crossentropy,\n",
    "              metrics=[metrics.binary_accuracy])\n",
    "\n",
    "\n",
    "## CREATING A VALIDATION SET\n",
    "x_val = x_train[:10000]\n",
    "partial_x_train = x_train[10000:]\n",
    "y_val = y_train[:10000]\n",
    "partial_y_train = y_train[10000:]\n",
    "\n",
    "\n",
    "## CREATING A HISTORY\n",
    "history3 = model.fit(partial_x_train,\n",
    "                    partial_y_train,\n",
    "                    epochs=20,\n",
    "                    batch_size=512,\n",
    "                    validation_data=(x_val, y_val))"
   ]
  },
  {
   "cell_type": "code",
   "execution_count": 30,
   "id": "ac2b3f65",
   "metadata": {},
   "outputs": [],
   "source": [
    "history_dict3 = history3.history"
   ]
  },
  {
   "cell_type": "code",
   "execution_count": 33,
   "id": "2a3673fe",
   "metadata": {},
   "outputs": [
    {
     "data": {
      "image/png": "[encoded data removed]",
      "text/plain": [
       "<Figure size 432x288 with 1 Axes>"
      ]
     },
     "metadata": {
      "needs_background": "light"
     },
     "output_type": "display_data"
    }
   ],
   "source": [
    "#Plotting the training and validation accuracy\n",
    "val_loss_model1 = history_dict['val_loss']\n",
    "val_loss_model2 = history_dict2['val_loss']\n",
    "val_loss_model3 = history_dict3['val_loss']\n",
    "\n",
    "epochs1 = range(1, len(history_dict['loss']) + 1)\n",
    "epochs2 = range(1, len(history_dict2['loss']) + 1)\n",
    "epochs3 = range(1, len(history_dict3['loss']) + 1)\n",
    "\n",
    "plt.plot(epochs1, val_loss_model1, 'bo', label='Model1')\n",
    "plt.plot(epochs2, val_loss_model2, 'b', label='Model2 (L2 Reg)')\n",
    "plt.plot(epochs3, val_loss_model3, 'r', label='Model3 (Dropout Reg)')\n",
    "plt.title('Validation Loss')\n",
    "plt.xlabel('Epochs')\n",
    "plt.ylabel('Loss')\n",
    "plt.legend()\n",
    "plt.show()"
   ]
  }
 ],
 "metadata": {
  "kernelspec": {
   "display_name": "Python 3",
   "language": "python",
   "name": "python3"
  },
  "language_info": {
   "codemirror_mode": {
    "name": "ipython",
    "version": 3
   },
   "file_extension": ".py",
   "mimetype": "text/x-python",
   "name": "python",
   "nbconvert_exporter": "python",
   "pygments_lexer": "ipython3",
   "version": "3.8.8"
  }
 },
 "nbformat": 4,
 "nbformat_minor": 5
}
