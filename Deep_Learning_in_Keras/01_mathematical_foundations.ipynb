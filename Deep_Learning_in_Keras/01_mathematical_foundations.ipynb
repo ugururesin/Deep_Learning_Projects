{
 "cells": [
  {
   "cell_type": "markdown",
   "id": "a8c611d5",
   "metadata": {},
   "source": [
    "# Deep-Learning with Keras\n",
    "\n",
    "#### Ugur URESIN, AI Engineer | Data Scientist\n",
    "#### Mail: uresin.ugur@gmail.com\n",
    "\n",
    "## Chapter 01. Mathematical Foundations"
   ]
  },
  {
   "cell_type": "markdown",
   "id": "e63bdea8",
   "metadata": {},
   "source": [
    "#### Data representations for neural networks"
   ]
  },
  {
   "cell_type": "markdown",
   "id": "34489f13",
   "metadata": {},
   "source": [
    "* Data is stored in multidimensional **Numpy arrays**, also called **tensors**.\n",
    "* In general, all current machine-learning systems use tensors as their basic data structure.\n",
    "* Tensors are fundamental to the field—so fundamental that Google’s **TensorFlow** was named after them."
   ]
  },
  {
   "cell_type": "markdown",
   "id": "d5daf639",
   "metadata": {},
   "source": [
    "#### Types of Tensors\n",
    "\n",
    "* **SCALARS (0D Tensors):** Contains only one number is called a scalar.\n",
    "* **VECTORS (1D Tensors):** An array of numbers is called a vector, or 1D tensor. A 1D tensor is said to have exactly one axis.\n",
    "* **MATRICES (2D Tensors):** An array of vectors is a matrix, or 2D tensor. A matrix has two axes (often referred to rows and columns).\n",
    "* **N-DIMENSINONAL TENSORS:** If you pack such matrices in a new array, you obtain a 3D tensor, which you can visually interpret as a cube of numbers. By packing 3D tensors in an array, you can create a 4D tensor, and so on. In deep learning, you’ll generally manipulate tensors that are 0D to 4D, although you may go up to 5D if you process video data."
   ]
  },
  {
   "cell_type": "code",
   "execution_count": 10,
   "id": "b95b4fb5",
   "metadata": {},
   "outputs": [
    {
     "name": "stdout",
     "output_type": "stream",
     "text": [
      "Dimension of the 0D Tensor: 0\n",
      "Dimension of the 1D Tensor: 1\n",
      "Dimension of the 2D Tensor: 2\n",
      "Dimension of the 3D Tensor: 3\n"
     ]
    }
   ],
   "source": [
    "import numpy as np\n",
    "\n",
    "# 0D TENSOR (Scalar)\n",
    "tensor0d = np.array(3.14)\n",
    "print(\"Dimension of the 0D Tensor:\", tensor0d.ndim)\n",
    "\n",
    "# 1D TENSOR (Vector)\n",
    "tensor1d = np.array([10, 20, 30, 40])\n",
    "print(\"Dimension of the 1D Tensor:\", tensor1d.ndim)\n",
    "\n",
    "# 2D TENSOR (Matrix)\n",
    "tensor2d = np.array([[11, 12, 13, 14],\n",
    "                     [21, 22, 23, 24],\n",
    "                     [31, 32, 33, 34]])\n",
    "print(\"Dimension of the 2D Tensor:\", tensor2d.ndim)\n",
    "\n",
    "# 3D TENSOR\n",
    "tensor3d = np.array([[[11, 12],\n",
    "                      [21, 22]],\n",
    "                     \n",
    "                     [[41, 42],\n",
    "                      [51, 52]]])\n",
    "                     \n",
    "print(\"Dimension of the 3D Tensor:\", tensor3d.ndim)"
   ]
  },
  {
   "cell_type": "markdown",
   "id": "6aa76336",
   "metadata": {},
   "source": [
    "#### Example dataset"
   ]
  },
  {
   "cell_type": "code",
   "execution_count": 11,
   "id": "49c2df2d",
   "metadata": {},
   "outputs": [
    {
     "name": "stdout",
     "output_type": "stream",
     "text": [
      "Image data dimensions: 3\n",
      "Image data shape: (60000, 28, 28)\n",
      "Image data type: uint8\n"
     ]
    }
   ],
   "source": [
    "from keras.datasets import mnist\n",
    "(train_images, train_labels), (test_images, test_labels) = mnist.load_data()\n",
    "\n",
    "print(\"Image data dimensions:\", train_images.ndim)\n",
    "print(\"Image data shape:\", train_images.shape)\n",
    "print(\"Image data type:\", train_images.dtype)"
   ]
  },
  {
   "cell_type": "markdown",
   "id": "1aeff55f",
   "metadata": {},
   "source": [
    "* The dataset is a 3D tensor of 8-bit integers.\n",
    "* More precisely, it’s an array of 60,000 matrices of 28 × 8 integers.\n",
    "* Each such matrix is a grayscale image, with coefficients between 0 and 255."
   ]
  },
  {
   "cell_type": "markdown",
   "id": "4f516f91",
   "metadata": {},
   "source": [
    "#### Tensor Attributes"
   ]
  },
  {
   "cell_type": "markdown",
   "id": "69c3dd3b",
   "metadata": {},
   "source": [
    "* **Number of axes (rank):** For instance, a 3D tensor has three axes, and a matrix has two axes. This is also called the tensor’s ndim in Python libraries such as Numpy.\n",
    "\n",
    "* **Shape:** This is a tuple of integers that describes how many dimensions the tensor has along each axis. For instance, the previous matrix example has shape (3, 5), and the 3D tensor example has shape (3, 3, 5). A vector has a shape with a single element, such as (5,), whereas a scalar has an empty shape, ().\n",
    "\n",
    "* **Data type (usually called dtype in Python libraries):** This is the type of the data contained in the tensor; for instance, a tensor’s type could be float32, uint8, float64, and so on. On rare occasions, you may see a char tensor. Note that string tensors don’t exist in Numpy (or in most other libraries), because tensors live in preallocated, contiguous memory segments: and strings, being variable length, would preclude the use of this implementation."
   ]
  },
  {
   "cell_type": "code",
   "execution_count": 1,
   "id": "84517fbf",
   "metadata": {},
   "outputs": [],
   "source": [
    "# Example\n",
    "from keras.datasets import mnist\n",
    "(train_images, train_labels), (test_images, test_labels) = mnist.load_data()"
   ]
  },
  {
   "cell_type": "code",
   "execution_count": 2,
   "id": "7a734b71",
   "metadata": {},
   "outputs": [
    {
     "name": "stdout",
     "output_type": "stream",
     "text": [
      "Training image dimensions: (60000, 28, 28)\n",
      "Number of training labels: 60000\n",
      "Test image dimensions: (10000, 28, 28)\n",
      "Number of test labels: 10000\n"
     ]
    }
   ],
   "source": [
    "print(\"Training image dimensions:\", train_images.shape)\n",
    "print(\"Number of training labels:\", len(train_labels))\n",
    "print(\"Test image dimensions:\", test_images.shape)\n",
    "print(\"Number of test labels:\", len(test_labels))"
   ]
  },
  {
   "cell_type": "code",
   "execution_count": 3,
   "id": "b134b743",
   "metadata": {},
   "outputs": [
    {
     "data": {
      "image/png": "[encoded data removed]",
      "text/plain": [
       "<Figure size 432x288 with 1 Axes>"
      ]
     },
     "metadata": {
      "needs_background": "light"
     },
     "output_type": "display_data"
    }
   ],
   "source": [
    "%matplotlib inline\n",
    "import matplotlib.pyplot as plt\n",
    "\n",
    "# Let's look at a one image\n",
    "IMG_INDEX = 1  # change to look at other images\n",
    "\n",
    "plt.imshow(train_images[IMG_INDEX] ,cmap=plt.cm.binary)\n",
    "plt.xlabel(train_labels[IMG_INDEX])\n",
    "plt.show()"
   ]
  },
  {
   "cell_type": "markdown",
   "id": "be951400",
   "metadata": {},
   "source": [
    "#### Manipulating the Tensors"
   ]
  },
  {
   "cell_type": "markdown",
   "id": "a1e055e5",
   "metadata": {},
   "source": [
    "The following example selects digits #10 to #100 (#100 isn’t included) and puts\n",
    "them in an array of shape (90, 28, 28):"
   ]
  },
  {
   "cell_type": "code",
   "execution_count": 4,
   "id": "4f9acae6",
   "metadata": {},
   "outputs": [
    {
     "name": "stdout",
     "output_type": "stream",
     "text": [
      "(90, 28, 28)\n"
     ]
    }
   ],
   "source": [
    "my_slice = train_images[10:100]\n",
    "print(my_slice.shape)"
   ]
  },
  {
   "cell_type": "markdown",
   "id": "c49ba58d",
   "metadata": {},
   "source": [
    "It’s equivalent to this more detailed notation, which specifies a start index and stop index for the slice along each tensor axis.  \n",
    "Note that : is equivalent to selecting the entire axis:"
   ]
  },
  {
   "cell_type": "code",
   "execution_count": 7,
   "id": "4dc0a900",
   "metadata": {},
   "outputs": [
    {
     "data": {
      "text/plain": [
       "(90, 28, 28)"
      ]
     },
     "execution_count": 7,
     "metadata": {},
     "output_type": "execute_result"
    }
   ],
   "source": [
    "my_slice = train_images[10:100, :, :] #Equivalent to the previous example\n",
    "my_slice.shape"
   ]
  },
  {
   "cell_type": "code",
   "execution_count": 9,
   "id": "c461f366",
   "metadata": {},
   "outputs": [
    {
     "data": {
      "text/plain": [
       "(90, 28, 28)"
      ]
     },
     "execution_count": 9,
     "metadata": {},
     "output_type": "execute_result"
    }
   ],
   "source": [
    "my_slice = train_images[10:100, 0:28, 0:28] #Equivalent to the previous example\n",
    "my_slice.shape"
   ]
  },
  {
   "cell_type": "markdown",
   "id": "c10012a4",
   "metadata": {},
   "source": [
    "In general, you may select between any two indices along each tensor axis.  \n",
    "For instance, in order to select 14 × 14 pixels in the bottom-right corner of all images, you do this:"
   ]
  },
  {
   "cell_type": "code",
   "execution_count": 14,
   "id": "79a41704",
   "metadata": {},
   "outputs": [
    {
     "data": {
      "text/plain": [
       "(60000, 14, 14)"
      ]
     },
     "execution_count": 14,
     "metadata": {},
     "output_type": "execute_result"
    }
   ],
   "source": [
    "my_slice = train_images[:, 14:, 14:]\n",
    "my_slice.shape"
   ]
  },
  {
   "cell_type": "markdown",
   "id": "62787f0f",
   "metadata": {},
   "source": [
    "It’s also possible to use negative indices.  \n",
    "Much like negative indices in Python lists, they indicate a position relative to the end of the current axis.  \n",
    "In order to crop the images to patches of 14 × 14 pixels centered in the middle, you do this:"
   ]
  },
  {
   "cell_type": "code",
   "execution_count": 15,
   "id": "f912f796",
   "metadata": {},
   "outputs": [
    {
     "data": {
      "text/plain": [
       "(60000, 14, 14)"
      ]
     },
     "execution_count": 15,
     "metadata": {},
     "output_type": "execute_result"
    }
   ],
   "source": [
    "my_slice = train_images[:, 7:-7, 7:-7]\n",
    "my_slice.shape"
   ]
  },
  {
   "cell_type": "markdown",
   "id": "5d34789d",
   "metadata": {},
   "source": [
    "#### Real-world examples of data tensors"
   ]
  },
  {
   "cell_type": "markdown",
   "id": "addd7fa5",
   "metadata": {},
   "source": [
    "The data you’ll manipulate will almost always fall into one of the following categories:\n",
    "* **Vector data**  \n",
    "    2D tensors of shape (samples, features)\n",
    "* **Timeseries data or sequence data:**  \n",
    "    3D tensors of shape (samples, timesteps, features)\n",
    "* **Images—4D tensors of shape:**  \n",
    "    (samples, height, width, channels)  \n",
    "    (samples, channels, height, width)\n",
    "* **Video—5D tensors of shape:**  \n",
    "    (samples, frames, height, width, channels)  \n",
    "    (samples, frames, channels, height, width)"
   ]
  },
  {
   "cell_type": "code",
   "execution_count": null,
   "id": "eb731f21",
   "metadata": {},
   "outputs": [],
   "source": []
  }
 ],
 "metadata": {
  "kernelspec": {
   "display_name": "Python 3",
   "language": "python",
   "name": "python3"
  },
  "language_info": {
   "codemirror_mode": {
    "name": "ipython",
    "version": 3
   },
   "file_extension": ".py",
   "mimetype": "text/x-python",
   "name": "python",
   "nbconvert_exporter": "python",
   "pygments_lexer": "ipython3",
   "version": "3.8.8"
  }
 },
 "nbformat": 4,
 "nbformat_minor": 5
}
