{
 "cells": [
  {
   "cell_type": "markdown",
   "id": "a8c611d5",
   "metadata": {},
   "source": [
    "# Deep-Learning with Keras\n",
    "\n",
    "#### Ugur URESIN, AI Engineer | Data Scientist\n",
    "#### Mail: uresin.ugur@gmail.com"
   ]
  },
  {
   "cell_type": "markdown",
   "id": "34489f13",
   "metadata": {},
   "source": [
    "* STEP-1\n",
    "* STEP-2\n",
    "* STEP-3"
   ]
  },
  {
   "cell_type": "markdown",
   "id": "83aebaaa",
   "metadata": {},
   "source": [
    "## Parallel Working LSTM models"
   ]
  },
  {
   "cell_type": "code",
   "execution_count": 1,
   "id": "b95b4fb5",
   "metadata": {},
   "outputs": [],
   "source": [
    "## IMPORTING LIBRARIES\n",
    "import numpy as np\n",
    "\n",
    "from keras.layers import Input, LSTM, concatenate, Dense\n",
    "from keras.models import Model"
   ]
  },
  {
   "cell_type": "markdown",
   "id": "e63bdea8",
   "metadata": {},
   "source": [
    "#### Subsection"
   ]
  },
  {
   "cell_type": "code",
   "execution_count": 2,
   "id": "bf25ef6a",
   "metadata": {},
   "outputs": [],
   "source": [
    "input_1 = Input(shape=(15, 6), name='input_1')\n",
    "input_2 = Input(shape=(15, 6), name='input_2')\n",
    "lstm1 = LSTM(256, name='lstm1')(input_1)\n",
    "lstm2 = LSTM(256, name='lstm2')(input_2)\n",
    "concat = concatenate([lstm1, lstm2]) \n",
    "output = Dense(6, activation='tanh', name='dense')(concat)\n",
    "model = Model(inputs=[input_1, input_2], outputs=output)"
   ]
  },
  {
   "cell_type": "code",
   "execution_count": null,
   "id": "b8f0cdeb",
   "metadata": {},
   "outputs": [],
   "source": []
  }
 ],
 "metadata": {
  "kernelspec": {
   "display_name": "Python 3 (ipykernel)",
   "language": "python",
   "name": "python3"
  },
  "language_info": {
   "codemirror_mode": {
    "name": "ipython",
    "version": 3
   },
   "file_extension": ".py",
   "mimetype": "text/x-python",
   "name": "python",
   "nbconvert_exporter": "python",
   "pygments_lexer": "ipython3",
   "version": "3.9.12"
  }
 },
 "nbformat": 4,
 "nbformat_minor": 5
}
