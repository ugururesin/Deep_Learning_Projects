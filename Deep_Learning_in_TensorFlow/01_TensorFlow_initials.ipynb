{
 "cells": [
  {
   "cell_type": "markdown",
   "id": "46c148c4",
   "metadata": {},
   "source": [
    "# TensorFlow Notebook\n",
    "## Fundamentals\n",
    "\n",
    "[Uğur Üresin, PhDc.](https://github.com/ugururesin) - [uresin.ugur@gmail.com.tr](mailto:uresin.ugur@gmail.com.tr)"
   ]
  },
  {
   "cell_type": "markdown",
   "id": "641beb80",
   "metadata": {},
   "source": [
    "### Librarires"
   ]
  },
  {
   "cell_type": "code",
   "execution_count": 1,
   "id": "70912cad",
   "metadata": {},
   "outputs": [],
   "source": [
    "import tensorflow as tf"
   ]
  },
  {
   "cell_type": "code",
   "execution_count": 2,
   "id": "7960d276",
   "metadata": {},
   "outputs": [],
   "source": [
    "from tensorflow import keras"
   ]
  },
  {
   "cell_type": "code",
   "execution_count": 16,
   "id": "874e5eb4",
   "metadata": {},
   "outputs": [
    {
     "name": "stdout",
     "output_type": "stream",
     "text": [
      "2.3.0\n"
     ]
    }
   ],
   "source": [
    "# TF VERSION\n",
    "print(tf.__version__)"
   ]
  },
  {
   "cell_type": "markdown",
   "id": "3c51b5cb",
   "metadata": {},
   "source": [
    "### Difference Between V1 & V2"
   ]
  },
  {
   "cell_type": "markdown",
   "id": "229e1c67",
   "metadata": {},
   "source": [
    "**Tensorflow V1**  \n",
    "msg = tf.constant('Hello, TensorFlow!')  \n",
    "sess = tf.Session()  \n",
    "print(sess.run(msg))  \n",
    "  \n",
    "**Tensorflow V2**  \n",
    "msg = tf.constant('Hello, TensorFlow!')  \n",
    "tf.print(msg)  "
   ]
  },
  {
   "cell_type": "markdown",
   "id": "582cf75f",
   "metadata": {},
   "source": [
    "### Tensors"
   ]
  },
  {
   "cell_type": "markdown",
   "id": "faade1f3",
   "metadata": {},
   "source": [
    "#### TF Constants"
   ]
  },
  {
   "cell_type": "code",
   "execution_count": 9,
   "id": "b25699b0",
   "metadata": {},
   "outputs": [
    {
     "data": {
      "text/plain": [
       "<tf.Tensor: shape=(), dtype=string, numpy=b'Constant String'>"
      ]
     },
     "execution_count": 9,
     "metadata": {},
     "output_type": "execute_result"
    }
   ],
   "source": [
    "constant1 = tf.constant(\"Constant String\")\n",
    "constant1"
   ]
  },
  {
   "cell_type": "code",
   "execution_count": 10,
   "id": "6d0cfe0f",
   "metadata": {},
   "outputs": [
    {
     "data": {
      "text/plain": [
       "<tf.Tensor: shape=(), dtype=int32, numpy=1>"
      ]
     },
     "execution_count": 10,
     "metadata": {},
     "output_type": "execute_result"
    }
   ],
   "source": [
    "constant2 = tf.constant(1)\n",
    "constant2"
   ]
  },
  {
   "cell_type": "code",
   "execution_count": 11,
   "id": "84c003a9",
   "metadata": {},
   "outputs": [
    {
     "data": {
      "text/plain": [
       "<tf.Tensor: shape=(), dtype=float32, numpy=1.123>"
      ]
     },
     "execution_count": 11,
     "metadata": {},
     "output_type": "execute_result"
    }
   ],
   "source": [
    "constant3 = tf.constant(1.123)\n",
    "constant3"
   ]
  },
  {
   "cell_type": "code",
   "execution_count": 14,
   "id": "929e1e3e",
   "metadata": {},
   "outputs": [
    {
     "data": {
      "text/plain": [
       "<tf.Tensor: shape=(), dtype=bool, numpy=True>"
      ]
     },
     "execution_count": 14,
     "metadata": {},
     "output_type": "execute_result"
    }
   ],
   "source": [
    "constant4 = tf.constant(True)\n",
    "constant4"
   ]
  },
  {
   "cell_type": "markdown",
   "id": "eaf404fa",
   "metadata": {},
   "source": [
    "#### TF Variables"
   ]
  },
  {
   "cell_type": "code",
   "execution_count": 17,
   "id": "856cf698",
   "metadata": {},
   "outputs": [
    {
     "data": {
      "text/plain": [
       "<tf.Variable 'Variable:0' shape=() dtype=string, numpy=b'Variable string!'>"
      ]
     },
     "execution_count": 17,
     "metadata": {},
     "output_type": "execute_result"
    }
   ],
   "source": [
    "string = tf.Variable(\"Variable string!\", tf.string)\n",
    "string"
   ]
  },
  {
   "cell_type": "code",
   "execution_count": 18,
   "id": "82099509",
   "metadata": {},
   "outputs": [
    {
     "data": {
      "text/plain": [
       "<tf.Variable 'Variable:0' shape=() dtype=int32, numpy=123>"
      ]
     },
     "execution_count": 18,
     "metadata": {},
     "output_type": "execute_result"
    }
   ],
   "source": [
    "integer = tf.Variable(123, tf.int16)\n",
    "integer"
   ]
  },
  {
   "cell_type": "code",
   "execution_count": 19,
   "id": "0daf0a87",
   "metadata": {},
   "outputs": [
    {
     "data": {
      "text/plain": [
       "<tf.Variable 'Variable:0' shape=() dtype=float32, numpy=3.14>"
      ]
     },
     "execution_count": 19,
     "metadata": {},
     "output_type": "execute_result"
    }
   ],
   "source": [
    "floating = tf.Variable(3.14, tf.float64)\n",
    "floating"
   ]
  },
  {
   "cell_type": "markdown",
   "id": "15c2f5e9",
   "metadata": {},
   "source": [
    "#### Rank/Degree and Shape of Tensors"
   ]
  },
  {
   "cell_type": "code",
   "execution_count": 26,
   "id": "c7f28d65",
   "metadata": {},
   "outputs": [
    {
     "name": "stdout",
     "output_type": "stream",
     "text": [
      "The rank of the tensor: tf.Tensor(1, shape=(), dtype=int32)\n",
      "The shape of the tensor: (3,)\n"
     ]
    }
   ],
   "source": [
    "rank1_tensor = tf.Variable([\"sample1\", \"sample2\", \"sample3\"], tf.string)\n",
    "\n",
    "print(\"The rank of the tensor:\", tf.rank(rank1_tensor))\n",
    "print(\"The shape of the tensor:\", rank1_tensor.shape)"
   ]
  },
  {
   "cell_type": "code",
   "execution_count": 27,
   "id": "d917aa84",
   "metadata": {},
   "outputs": [
    {
     "name": "stdout",
     "output_type": "stream",
     "text": [
      "The rank of the tensor: tf.Tensor(2, shape=(), dtype=int32)\n",
      "The shape of the tensor: (2, 2)\n"
     ]
    }
   ],
   "source": [
    "rank2_tensor = tf.Variable([[\"sample1\", \"sample2\"], [\"ok\", \"nok\"]], tf.string)\n",
    "\n",
    "print(\"The rank of the tensor:\", tf.rank(rank2_tensor))\n",
    "print(\"The shape of the tensor:\", rank2_tensor.shape)"
   ]
  },
  {
   "cell_type": "markdown",
   "id": "2e88ea6f",
   "metadata": {},
   "source": [
    "#### Changing Shape"
   ]
  },
  {
   "cell_type": "code",
   "execution_count": 29,
   "id": "fa83b4e5",
   "metadata": {},
   "outputs": [
    {
     "name": "stdout",
     "output_type": "stream",
     "text": [
      "tf.Tensor(\n",
      "[[[1. 1. 1.]\n",
      "  [1. 1. 1.]]], shape=(1, 2, 3), dtype=float32)\n"
     ]
    }
   ],
   "source": [
    "# tf.ones([x,y]) -> creates a shape [x,y] tensor full of ones\n",
    "\n",
    "tensor1 = tf.ones([1,2,3]) \n",
    "print(tensor1)"
   ]
  },
  {
   "cell_type": "code",
   "execution_count": 30,
   "id": "4b8eeff5",
   "metadata": {},
   "outputs": [
    {
     "name": "stdout",
     "output_type": "stream",
     "text": [
      "tf.Tensor(\n",
      "[[[1.]\n",
      "  [1.]\n",
      "  [1.]]\n",
      "\n",
      " [[1.]\n",
      "  [1.]\n",
      "  [1.]]], shape=(2, 3, 1), dtype=float32)\n"
     ]
    }
   ],
   "source": [
    "tensor2 = tf.reshape(tensor1, [2,3,1])\n",
    "print(tensor2)"
   ]
  },
  {
   "cell_type": "code",
   "execution_count": 31,
   "id": "5a96b1b9",
   "metadata": {},
   "outputs": [
    {
     "name": "stdout",
     "output_type": "stream",
     "text": [
      "tf.Tensor(\n",
      "[[1. 1.]\n",
      " [1. 1.]\n",
      " [1. 1.]], shape=(3, 2), dtype=float32)\n"
     ]
    }
   ],
   "source": [
    "tensor3 = tf.reshape(tensor1, [3, -1]) #-1 tells the tensor to calculate the size of the dimension in that place,\n",
    "print(tensor3)"
   ]
  },
  {
   "cell_type": "markdown",
   "id": "ba90b17f",
   "metadata": {},
   "source": [
    "#### Type of Tensors"
   ]
  },
  {
   "cell_type": "markdown",
   "id": "756b8465",
   "metadata": {},
   "source": [
    "**Mutable**\n",
    "* Variable\n",
    "\n",
    "**Immutable** (it's value can not be changed)\n",
    "* Constants\n",
    "* Placeholders\n",
    "* SparseTensor"
   ]
  },
  {
   "cell_type": "markdown",
   "id": "fead3492",
   "metadata": {},
   "source": [
    "#### Getting The Value of a Tensor (Evaluation)"
   ]
  },
  {
   "cell_type": "code",
   "execution_count": 47,
   "id": "f4b968df",
   "metadata": {},
   "outputs": [
    {
     "name": "stdout",
     "output_type": "stream",
     "text": [
      "[[[0]\n",
      "  [0]]\n",
      "\n",
      " [[0]\n",
      "  [0]]\n",
      "\n",
      " [[0]\n",
      "  [0]]]\r\n"
     ]
    }
   ],
   "source": [
    "tensor1 = tf.zeros([3,2,1])\n",
    "tf.print(tensor1)"
   ]
  }
 ],
 "metadata": {
  "kernelspec": {
   "display_name": "Python 3",
   "language": "python",
   "name": "python3"
  },
  "language_info": {
   "codemirror_mode": {
    "name": "ipython",
    "version": 3
   },
   "file_extension": ".py",
   "mimetype": "text/x-python",
   "name": "python",
   "nbconvert_exporter": "python",
   "pygments_lexer": "ipython3",
   "version": "3.8.8"
  }
 },
 "nbformat": 4,
 "nbformat_minor": 5
}
