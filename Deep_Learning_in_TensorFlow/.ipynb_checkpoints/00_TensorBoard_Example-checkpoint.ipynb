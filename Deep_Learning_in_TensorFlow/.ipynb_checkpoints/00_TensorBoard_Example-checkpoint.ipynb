{
 "cells": [
  {
   "cell_type": "markdown",
   "id": "46c148c4",
   "metadata": {},
   "source": [
    "# TensorFlow Notebook\n",
    "## Fundamentals of Tensorboard\n",
    "\n",
    "[Uğur Üresin, PhDc.](https://github.com/ugururesin) - [uresin.ugur@gmail.com.tr](mailto:uresin.ugur@gmail.com.tr)"
   ]
  },
  {
   "cell_type": "markdown",
   "id": "641beb80",
   "metadata": {},
   "source": [
    "### Librarires"
   ]
  },
  {
   "cell_type": "code",
   "execution_count": 14,
   "id": "7960d276",
   "metadata": {},
   "outputs": [],
   "source": [
    "import tensorflow as tf\n",
    "from tensorflow import keras"
   ]
  },
  {
   "cell_type": "code",
   "execution_count": 15,
   "id": "70912cad",
   "metadata": {},
   "outputs": [],
   "source": [
    "from keras.datasets import mnist\n",
    "from keras.models import Sequential\n",
    "from keras.layers import Dense, Dropout, Flatten\n",
    "from keras.layers import Conv2D, MaxPooling2D\n",
    "from keras.layers import Activation\n",
    "from tensorflow.keras.optimizers import Adam\n",
    "import time"
   ]
  },
  {
   "cell_type": "code",
   "execution_count": 16,
   "id": "874e5eb4",
   "metadata": {},
   "outputs": [
    {
     "name": "stdout",
     "output_type": "stream",
     "text": [
      "2.6.0\n"
     ]
    }
   ],
   "source": [
    "# TF VERSION\n",
    "print(tf.__version__)"
   ]
  },
  {
   "cell_type": "markdown",
   "id": "a45f695f",
   "metadata": {},
   "source": [
    "### HyperParameters"
   ]
  },
  {
   "cell_type": "code",
   "execution_count": 17,
   "id": "f0b880e6",
   "metadata": {},
   "outputs": [],
   "source": [
    "batch_size = 128\n",
    "num_classes = 10\n",
    "epochs = 10\n",
    "time = time.strftime(\"%Y_%m_%d_%H_%M_%S\")"
   ]
  },
  {
   "cell_type": "markdown",
   "id": "cada5e6a",
   "metadata": {},
   "source": [
    "### IMPORTING DATA"
   ]
  },
  {
   "cell_type": "code",
   "execution_count": 18,
   "id": "48e1a38a",
   "metadata": {},
   "outputs": [
    {
     "name": "stdout",
     "output_type": "stream",
     "text": [
      "x_train shape: (60000, 28, 28, 1)\n",
      "60000 train samples\n",
      "10000 test samples\n"
     ]
    }
   ],
   "source": [
    "(x_train, y_train), (x_test, y_test) = mnist.load_data()\n",
    "x_train = x_train.reshape(60000,28,28,1)\n",
    "x_test = x_test.reshape(10000,28,28,1)\n",
    "x_train = x_train.astype('float32')\n",
    "x_test = x_test.astype('float32')\n",
    "x_train /= 255\n",
    "x_test /= 255\n",
    "\n",
    "print('x_train shape:', x_train.shape)\n",
    "print(x_train.shape[0], 'train samples')\n",
    "print(x_test.shape[0], 'test samples')\n",
    "\n",
    "y_train = keras.utils.to_categorical(y_train, num_classes)\n",
    "y_test = keras.utils.to_categorical(y_test, num_classes)"
   ]
  },
  {
   "cell_type": "code",
   "execution_count": 19,
   "id": "11958d95",
   "metadata": {},
   "outputs": [],
   "source": [
    "model = Sequential()\n",
    "\n",
    "model.add(Conv2D(32, (3,3), padding=\"same\", input_shape=(28,28,1), activation= \"relu\"))\n",
    "model.add(MaxPooling2D(pool_size=(3, 3)))\n",
    "model.add(Dropout(0.25))\n",
    "\n",
    "model.add(Flatten())\n",
    "model.add(Dense(128, activation=\"relu\"))\n",
    "model.add(Dropout(0.5))\n",
    "\n",
    "model.add(Dense(num_classes, activation='softmax'))"
   ]
  },
  {
   "cell_type": "code",
   "execution_count": 20,
   "id": "3b613993",
   "metadata": {},
   "outputs": [],
   "source": [
    "from keras.callbacks import TensorBoard"
   ]
  },
  {
   "cell_type": "code",
   "execution_count": 21,
   "id": "4cc70868",
   "metadata": {},
   "outputs": [
    {
     "name": "stdout",
     "output_type": "stream",
     "text": [
      "WARNING:tensorflow:`batch_size` is no longer needed in the `TensorBoard` Callback and will be ignored in TensorFlow 2.0.\n"
     ]
    }
   ],
   "source": [
    "kerasboard = TensorBoard(log_dir=\"/tmp/tensorboard/{}\".format(time),\n",
    "                        batch_size=batch_size,\n",
    "                        histogram_freq=1,\n",
    "                        write_grads=False)"
   ]
  },
  {
   "cell_type": "code",
   "execution_count": 22,
   "id": "1c7ab841",
   "metadata": {},
   "outputs": [
    {
     "name": "stdout",
     "output_type": "stream",
     "text": [
      "Epoch 1/10\n",
      "329/329 [==============================] - 3s 3ms/step - loss: 0.4972 - accuracy: 0.8490 - val_loss: 0.1518 - val_accuracy: 0.9556\n",
      "Epoch 2/10\n",
      "329/329 [==============================] - 1s 2ms/step - loss: 0.1887 - accuracy: 0.9437 - val_loss: 0.0978 - val_accuracy: 0.9702\n",
      "Epoch 3/10\n",
      "329/329 [==============================] - 1s 2ms/step - loss: 0.1459 - accuracy: 0.9576 - val_loss: 0.0805 - val_accuracy: 0.9761\n",
      "Epoch 4/10\n",
      "329/329 [==============================] - 1s 2ms/step - loss: 0.1209 - accuracy: 0.9648 - val_loss: 0.0694 - val_accuracy: 0.9793\n",
      "Epoch 5/10\n",
      "329/329 [==============================] - 1s 2ms/step - loss: 0.1076 - accuracy: 0.9677 - val_loss: 0.0649 - val_accuracy: 0.9803\n",
      "Epoch 6/10\n",
      "329/329 [==============================] - 1s 2ms/step - loss: 0.0966 - accuracy: 0.9711 - val_loss: 0.0588 - val_accuracy: 0.9822\n",
      "Epoch 7/10\n",
      "329/329 [==============================] - 1s 2ms/step - loss: 0.0876 - accuracy: 0.9737 - val_loss: 0.0560 - val_accuracy: 0.9825\n",
      "Epoch 8/10\n",
      "329/329 [==============================] - 1s 2ms/step - loss: 0.0823 - accuracy: 0.9746 - val_loss: 0.0550 - val_accuracy: 0.9832\n",
      "Epoch 9/10\n",
      "329/329 [==============================] - 1s 2ms/step - loss: 0.0736 - accuracy: 0.9771 - val_loss: 0.0533 - val_accuracy: 0.9847\n",
      "Epoch 10/10\n",
      "329/329 [==============================] - 1s 2ms/step - loss: 0.0687 - accuracy: 0.9783 - val_loss: 0.0497 - val_accuracy: 0.9848\n",
      "tensorboard --logdir=/tmp/tensorboard/2021_10_30_09_57_45\n"
     ]
    }
   ],
   "source": [
    "model.compile(loss=\"categorical_crossentropy\",\n",
    "              optimizer=\"adam\",\n",
    "              metrics=['accuracy'])\n",
    "\n",
    "model.fit(x_train, y_train,\n",
    "          batch_size=batch_size,\n",
    "          epochs=epochs,\n",
    "          validation_split=0.3,\n",
    "          validation_data=(x_test, y_test),\n",
    "          callbacks=[kerasboard])\n",
    "\n",
    "\n",
    "print(\"tensorboard --logdir=\"+kerasboard.log_dir)"
   ]
  },
  {
   "cell_type": "code",
   "execution_count": null,
   "id": "51339b2c",
   "metadata": {},
   "outputs": [],
   "source": []
  }
 ],
 "metadata": {
  "kernelspec": {
   "display_name": "Python 3",
   "language": "python",
   "name": "python3"
  },
  "language_info": {
   "codemirror_mode": {
    "name": "ipython",
    "version": 3
   },
   "file_extension": ".py",
   "mimetype": "text/x-python",
   "name": "python",
   "nbconvert_exporter": "python",
   "pygments_lexer": "ipython3",
   "version": "3.8.8"
  }
 },
 "nbformat": 4,
 "nbformat_minor": 5
}
