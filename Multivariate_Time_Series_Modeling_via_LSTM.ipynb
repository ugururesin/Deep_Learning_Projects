{
  "nbformat": 4,
  "nbformat_minor": 0,
  "metadata": {
    "colab": {
      "name": "Multivariate Time Series Modeling via LSTM.ipynb",
      "provenance": [],
      "collapsed_sections": [],
      "authorship_tag": "ABX9TyPu9GD/Bb8GBS8UBGMM2HCg",
      "include_colab_link": true
    },
    "kernelspec": {
      "name": "python3",
      "display_name": "Python 3"
    },
    "language_info": {
      "name": "python"
    }
  },
  "cells": [
    {
      "cell_type": "markdown",
      "metadata": {
        "id": "view-in-github",
        "colab_type": "text"
      },
      "source": [
        "<a href=\"https://colab.research.google.com/github/ugururesin/Deep_Learning_Projects/blob/main/Multivariate_Time_Series_Modeling_via_LSTM.ipynb\" target=\"_parent\"><img src=\"https://colab.research.google.com/assets/colab-badge.svg\" alt=\"Open In Colab\"/></a>"
      ]
    },
    {
      "cell_type": "code",
      "metadata": {
        "id": "jDYCOMODo38L"
      },
      "source": [
        "# IMPORTINF LIBRARIRES\n",
        "import pandas as pd\n",
        "import matplotlib as mpl\n",
        "import matplotlib.pyplot as plt\n",
        "from sklearn.model_selection import train_test_split\n",
        "from keras.preprocessing.sequence import TimeseriesGenerator\n",
        "from sklearn.preprocessing import MinMaxScaler, StandardScaler\n",
        "import tensorflow as tf"
      ],
      "execution_count": 1,
      "outputs": []
    },
    {
      "cell_type": "code",
      "metadata": {
        "id": "f9_JzFh0qL8w"
      },
      "source": [
        "mpl.rcParams['figure.figsize'] = (10,8)\n",
        "mpl.rcParams['axes.grid'] = False"
      ],
      "execution_count": 2,
      "outputs": []
    },
    {
      "cell_type": "code",
      "metadata": {
        "id": "YszmZQq6qdSz"
      },
      "source": [
        "df = pd.read_csv('https://archive.ics.uci.edu/ml/machine-learning-databases/00374/energydata_complete.csv')"
      ],
      "execution_count": 3,
      "outputs": []
    },
    {
      "cell_type": "code",
      "metadata": {
        "colab": {
          "base_uri": "https://localhost:8080/",
          "height": 388
        },
        "id": "TM8uSLr1qqsS",
        "outputId": "beb5291c-e0a3-4483-9e06-0e44f04ab868"
      },
      "source": [
        "df.head()"
      ],
      "execution_count": 4,
      "outputs": [
        {
          "output_type": "execute_result",
          "data": {
            "text/html": [
              "<div>\n",
              "<style scoped>\n",
              "    .dataframe tbody tr th:only-of-type {\n",
              "        vertical-align: middle;\n",
              "    }\n",
              "\n",
              "    .dataframe tbody tr th {\n",
              "        vertical-align: top;\n",
              "    }\n",
              "\n",
              "    .dataframe thead th {\n",
              "        text-align: right;\n",
              "    }\n",
              "</style>\n",
              "<table border=\"1\" class=\"dataframe\">\n",
              "  <thead>\n",
              "    <tr style=\"text-align: right;\">\n",
              "      <th></th>\n",
              "      <th>date</th>\n",
              "      <th>Appliances</th>\n",
              "      <th>lights</th>\n",
              "      <th>T1</th>\n",
              "      <th>RH_1</th>\n",
              "      <th>T2</th>\n",
              "      <th>RH_2</th>\n",
              "      <th>T3</th>\n",
              "      <th>RH_3</th>\n",
              "      <th>T4</th>\n",
              "      <th>RH_4</th>\n",
              "      <th>T5</th>\n",
              "      <th>RH_5</th>\n",
              "      <th>T6</th>\n",
              "      <th>RH_6</th>\n",
              "      <th>T7</th>\n",
              "      <th>RH_7</th>\n",
              "      <th>T8</th>\n",
              "      <th>RH_8</th>\n",
              "      <th>T9</th>\n",
              "      <th>RH_9</th>\n",
              "      <th>T_out</th>\n",
              "      <th>Press_mm_hg</th>\n",
              "      <th>RH_out</th>\n",
              "      <th>Windspeed</th>\n",
              "      <th>Visibility</th>\n",
              "      <th>Tdewpoint</th>\n",
              "      <th>rv1</th>\n",
              "      <th>rv2</th>\n",
              "    </tr>\n",
              "  </thead>\n",
              "  <tbody>\n",
              "    <tr>\n",
              "      <th>0</th>\n",
              "      <td>2016-01-11 17:00:00</td>\n",
              "      <td>60</td>\n",
              "      <td>30</td>\n",
              "      <td>19.89</td>\n",
              "      <td>47.596667</td>\n",
              "      <td>19.2</td>\n",
              "      <td>44.790000</td>\n",
              "      <td>19.79</td>\n",
              "      <td>44.730000</td>\n",
              "      <td>19.000000</td>\n",
              "      <td>45.566667</td>\n",
              "      <td>17.166667</td>\n",
              "      <td>55.20</td>\n",
              "      <td>7.026667</td>\n",
              "      <td>84.256667</td>\n",
              "      <td>17.200000</td>\n",
              "      <td>41.626667</td>\n",
              "      <td>18.2</td>\n",
              "      <td>48.900000</td>\n",
              "      <td>17.033333</td>\n",
              "      <td>45.53</td>\n",
              "      <td>6.600000</td>\n",
              "      <td>733.5</td>\n",
              "      <td>92.0</td>\n",
              "      <td>7.000000</td>\n",
              "      <td>63.000000</td>\n",
              "      <td>5.3</td>\n",
              "      <td>13.275433</td>\n",
              "      <td>13.275433</td>\n",
              "    </tr>\n",
              "    <tr>\n",
              "      <th>1</th>\n",
              "      <td>2016-01-11 17:10:00</td>\n",
              "      <td>60</td>\n",
              "      <td>30</td>\n",
              "      <td>19.89</td>\n",
              "      <td>46.693333</td>\n",
              "      <td>19.2</td>\n",
              "      <td>44.722500</td>\n",
              "      <td>19.79</td>\n",
              "      <td>44.790000</td>\n",
              "      <td>19.000000</td>\n",
              "      <td>45.992500</td>\n",
              "      <td>17.166667</td>\n",
              "      <td>55.20</td>\n",
              "      <td>6.833333</td>\n",
              "      <td>84.063333</td>\n",
              "      <td>17.200000</td>\n",
              "      <td>41.560000</td>\n",
              "      <td>18.2</td>\n",
              "      <td>48.863333</td>\n",
              "      <td>17.066667</td>\n",
              "      <td>45.56</td>\n",
              "      <td>6.483333</td>\n",
              "      <td>733.6</td>\n",
              "      <td>92.0</td>\n",
              "      <td>6.666667</td>\n",
              "      <td>59.166667</td>\n",
              "      <td>5.2</td>\n",
              "      <td>18.606195</td>\n",
              "      <td>18.606195</td>\n",
              "    </tr>\n",
              "    <tr>\n",
              "      <th>2</th>\n",
              "      <td>2016-01-11 17:20:00</td>\n",
              "      <td>50</td>\n",
              "      <td>30</td>\n",
              "      <td>19.89</td>\n",
              "      <td>46.300000</td>\n",
              "      <td>19.2</td>\n",
              "      <td>44.626667</td>\n",
              "      <td>19.79</td>\n",
              "      <td>44.933333</td>\n",
              "      <td>18.926667</td>\n",
              "      <td>45.890000</td>\n",
              "      <td>17.166667</td>\n",
              "      <td>55.09</td>\n",
              "      <td>6.560000</td>\n",
              "      <td>83.156667</td>\n",
              "      <td>17.200000</td>\n",
              "      <td>41.433333</td>\n",
              "      <td>18.2</td>\n",
              "      <td>48.730000</td>\n",
              "      <td>17.000000</td>\n",
              "      <td>45.50</td>\n",
              "      <td>6.366667</td>\n",
              "      <td>733.7</td>\n",
              "      <td>92.0</td>\n",
              "      <td>6.333333</td>\n",
              "      <td>55.333333</td>\n",
              "      <td>5.1</td>\n",
              "      <td>28.642668</td>\n",
              "      <td>28.642668</td>\n",
              "    </tr>\n",
              "    <tr>\n",
              "      <th>3</th>\n",
              "      <td>2016-01-11 17:30:00</td>\n",
              "      <td>50</td>\n",
              "      <td>40</td>\n",
              "      <td>19.89</td>\n",
              "      <td>46.066667</td>\n",
              "      <td>19.2</td>\n",
              "      <td>44.590000</td>\n",
              "      <td>19.79</td>\n",
              "      <td>45.000000</td>\n",
              "      <td>18.890000</td>\n",
              "      <td>45.723333</td>\n",
              "      <td>17.166667</td>\n",
              "      <td>55.09</td>\n",
              "      <td>6.433333</td>\n",
              "      <td>83.423333</td>\n",
              "      <td>17.133333</td>\n",
              "      <td>41.290000</td>\n",
              "      <td>18.1</td>\n",
              "      <td>48.590000</td>\n",
              "      <td>17.000000</td>\n",
              "      <td>45.40</td>\n",
              "      <td>6.250000</td>\n",
              "      <td>733.8</td>\n",
              "      <td>92.0</td>\n",
              "      <td>6.000000</td>\n",
              "      <td>51.500000</td>\n",
              "      <td>5.0</td>\n",
              "      <td>45.410389</td>\n",
              "      <td>45.410389</td>\n",
              "    </tr>\n",
              "    <tr>\n",
              "      <th>4</th>\n",
              "      <td>2016-01-11 17:40:00</td>\n",
              "      <td>60</td>\n",
              "      <td>40</td>\n",
              "      <td>19.89</td>\n",
              "      <td>46.333333</td>\n",
              "      <td>19.2</td>\n",
              "      <td>44.530000</td>\n",
              "      <td>19.79</td>\n",
              "      <td>45.000000</td>\n",
              "      <td>18.890000</td>\n",
              "      <td>45.530000</td>\n",
              "      <td>17.200000</td>\n",
              "      <td>55.09</td>\n",
              "      <td>6.366667</td>\n",
              "      <td>84.893333</td>\n",
              "      <td>17.200000</td>\n",
              "      <td>41.230000</td>\n",
              "      <td>18.1</td>\n",
              "      <td>48.590000</td>\n",
              "      <td>17.000000</td>\n",
              "      <td>45.40</td>\n",
              "      <td>6.133333</td>\n",
              "      <td>733.9</td>\n",
              "      <td>92.0</td>\n",
              "      <td>5.666667</td>\n",
              "      <td>47.666667</td>\n",
              "      <td>4.9</td>\n",
              "      <td>10.084097</td>\n",
              "      <td>10.084097</td>\n",
              "    </tr>\n",
              "  </tbody>\n",
              "</table>\n",
              "</div>"
            ],
            "text/plain": [
              "                  date  Appliances  lights  ...  Tdewpoint        rv1        rv2\n",
              "0  2016-01-11 17:00:00          60      30  ...        5.3  13.275433  13.275433\n",
              "1  2016-01-11 17:10:00          60      30  ...        5.2  18.606195  18.606195\n",
              "2  2016-01-11 17:20:00          50      30  ...        5.1  28.642668  28.642668\n",
              "3  2016-01-11 17:30:00          50      40  ...        5.0  45.410389  45.410389\n",
              "4  2016-01-11 17:40:00          60      40  ...        4.9  10.084097  10.084097\n",
              "\n",
              "[5 rows x 29 columns]"
            ]
          },
          "metadata": {},
          "execution_count": 4
        }
      ]
    },
    {
      "cell_type": "markdown",
      "metadata": {
        "id": "1n9G0lxAvtfU"
      },
      "source": [
        "**Data Set Information:**\n",
        "\n",
        "The data set is at 10 min for about 4.5 months. The house temperature and humidity conditions were monitored with a ZigBee wireless sensor network. Each wireless node transmitted the temperature and humidity conditions around 3.3 min. Then, the wireless data was averaged for 10 minutes periods. The energy data was logged every 10 minutes with m-bus energy meters. Weather from the nearest airport weather station (Chievres Airport, Belgium) was downloaded from a public data set from Reliable Prognosis (rp5.ru), and merged together with the experimental data sets using the date and time column. Two random variables have been included in the data set for testing the regression models and to filter out non predictive attributes (parameters).\n",
        "\n",
        "For more information about the house, data collection, R scripts and figures, please refer to the paper and to the following github repository:\n",
        "\n",
        "[Web Link]\n",
        "\n",
        "\n",
        "**Attribute Information:**  \n",
        "date time year-month-day hour:minute:second  \n",
        "Appliances, energy use in Wh  \n",
        "lights, energy use of light fixtures in the house in Wh  \n",
        "**T1**, Temperature in kitchen area, in Celsius  \n",
        "**RH_1**, Humidity in kitchen area, in %  \n",
        "**T2**, Temperature in living room area, in Celsius  \n",
        "**RH_2**, Humidity in living room area, in %  \n",
        "**T3**, Temperature in laundry room area  \n",
        "**RH_3**, Humidity in laundry room area, in %  \n",
        "**T4**, Temperature in office room, in Celsius  \n",
        "**RH_4**, Humidity in office room, in %  \n",
        "**T5**, Temperature in bathroom, in Celsius  \n",
        "**RH_5**, Humidity in bathroom, in %  \n",
        "**T6**, Temperature outside the building (north side), in Celsius  \n",
        "**RH_6**, Humidity outside the building (north side), in %  \n",
        "**T7**, Temperature in ironing room , in Celsius  \n",
        "**RH_7**, Humidity in ironing room, in %  \n",
        "**T8**, Temperature in teenager room 2, in Celsius  \n",
        "**RH_8**, Humidity in teenager room 2, in %  \n",
        "**T9**, Temperature in parents room, in Celsius  \n",
        "**RH_9**, Humidity in parents room, in %  \n",
        "**To**, Temperature outside (from Chievres weather station), in Celsius  \n",
        "**Pressure** (from Chievres weather station), in mm Hg  \n",
        "**RH_out**, Humidity outside (from Chievres weather station), in %  \n",
        "**Wind speed** (from Chievres weather station), in m/s  \n",
        "**Visibility** (from Chievres weather station), in km  \n",
        "**Tdewpoint** (from Chievres weather station), Â°C  \n",
        "**rv1**, Random variable 1, nondimensional  \n",
        "**rv2**, Random variable 2, nondimensional  \n",
        "\n",
        "\n",
        "Where indicated, hourly data (then interpolated) from the nearest airport weather station (Chievres Airport, Belgium) was downloaded from a public data set from Reliable Prognosis, rp5.ru. Permission was obtained from Reliable Prognosis for the distribution of the 4.5 months of weather data.\n",
        "\n",
        "\n",
        "**Relevant Papers:**  \n",
        "Luis M. Candanedo, Veronique Feldheim, Dominique Deramaix, Data driven prediction models of energy use of appliances in a low-energy house, Energy and Buildings, Volume 140, 1 April 2017, Pages 81-97, ISSN 0378-7788,  \n",
        "[Web Link].\n",
        "\n",
        "\n",
        "**Citation Request:**  \n",
        "Luis M. Candanedo, Veronique Feldheim, Dominique Deramaix, Data driven prediction models of energy use of appliances in a low-energy house, Energy and Buildings, Volume 140, 1 April 2017, Pages 81-97, ISSN 0378-7788,  \n",
        "[Web Link]."
      ]
    },
    {
      "cell_type": "code",
      "metadata": {
        "colab": {
          "base_uri": "https://localhost:8080/"
        },
        "id": "qOAjTtSXqsCb",
        "outputId": "df64f5c0-c93a-48c8-974e-017da9d5cbbe"
      },
      "source": [
        "df.info()"
      ],
      "execution_count": 5,
      "outputs": [
        {
          "output_type": "stream",
          "name": "stdout",
          "text": [
            "<class 'pandas.core.frame.DataFrame'>\n",
            "RangeIndex: 19735 entries, 0 to 19734\n",
            "Data columns (total 29 columns):\n",
            " #   Column       Non-Null Count  Dtype  \n",
            "---  ------       --------------  -----  \n",
            " 0   date         19735 non-null  object \n",
            " 1   Appliances   19735 non-null  int64  \n",
            " 2   lights       19735 non-null  int64  \n",
            " 3   T1           19735 non-null  float64\n",
            " 4   RH_1         19735 non-null  float64\n",
            " 5   T2           19735 non-null  float64\n",
            " 6   RH_2         19735 non-null  float64\n",
            " 7   T3           19735 non-null  float64\n",
            " 8   RH_3         19735 non-null  float64\n",
            " 9   T4           19735 non-null  float64\n",
            " 10  RH_4         19735 non-null  float64\n",
            " 11  T5           19735 non-null  float64\n",
            " 12  RH_5         19735 non-null  float64\n",
            " 13  T6           19735 non-null  float64\n",
            " 14  RH_6         19735 non-null  float64\n",
            " 15  T7           19735 non-null  float64\n",
            " 16  RH_7         19735 non-null  float64\n",
            " 17  T8           19735 non-null  float64\n",
            " 18  RH_8         19735 non-null  float64\n",
            " 19  T9           19735 non-null  float64\n",
            " 20  RH_9         19735 non-null  float64\n",
            " 21  T_out        19735 non-null  float64\n",
            " 22  Press_mm_hg  19735 non-null  float64\n",
            " 23  RH_out       19735 non-null  float64\n",
            " 24  Windspeed    19735 non-null  float64\n",
            " 25  Visibility   19735 non-null  float64\n",
            " 26  Tdewpoint    19735 non-null  float64\n",
            " 27  rv1          19735 non-null  float64\n",
            " 28  rv2          19735 non-null  float64\n",
            "dtypes: float64(26), int64(2), object(1)\n",
            "memory usage: 4.4+ MB\n"
          ]
        }
      ]
    },
    {
      "cell_type": "markdown",
      "metadata": {
        "id": "-Fl8s8o80Mb0"
      },
      "source": [
        "### Data Operations"
      ]
    },
    {
      "cell_type": "code",
      "metadata": {
        "id": "HPOrJs3p0Jdm"
      },
      "source": [
        "df['date'] = pd.to_datetime(df['date'], infer_datetime_format=True)"
      ],
      "execution_count": 6,
      "outputs": []
    },
    {
      "cell_type": "code",
      "metadata": {
        "colab": {
          "base_uri": "https://localhost:8080/",
          "height": 563
        },
        "id": "9fa-Kfj153y9",
        "outputId": "1cd2d727-97bd-4891-aed0-cc2e888b5f95"
      },
      "source": [
        "df.set_index('date')[['Appliances', 'T_out', 'RH_1', 'Visibility']].plot(subplots=True)"
      ],
      "execution_count": 7,
      "outputs": [
        {
          "output_type": "execute_result",
          "data": {
            "text/plain": [
              "array([<matplotlib.axes._subplots.AxesSubplot object at 0x7fa826a05a50>,\n",
              "       <matplotlib.axes._subplots.AxesSubplot object at 0x7fa8269ea210>,\n",
              "       <matplotlib.axes._subplots.AxesSubplot object at 0x7fa826a05610>,\n",
              "       <matplotlib.axes._subplots.AxesSubplot object at 0x7fa82695e950>],\n",
              "      dtype=object)"
            ]
          },
          "metadata": {},
          "execution_count": 7
        },
        {
          "output_type": "display_data",
          "data": {
            "image/png": "[encoded data removed]",
            "text/plain": [
              "<Figure size 720x576 with 4 Axes>"
            ]
          },
          "metadata": {
            "needs_background": "light"
          }
        }
      ]
    },
    {
      "cell_type": "code",
      "metadata": {
        "id": "xBQ8NuG65qlj"
      },
      "source": [
        "df_input = df[['Appliances', 'T_out', 'RH_1', 'Visibility']]"
      ],
      "execution_count": 8,
      "outputs": []
    },
    {
      "cell_type": "code",
      "metadata": {
        "colab": {
          "base_uri": "https://localhost:8080/",
          "height": 202
        },
        "id": "Ox9R-3ru5wI0",
        "outputId": "3ec20c64-6725-46e4-8d17-e2324df1d44f"
      },
      "source": [
        "df_input.head()"
      ],
      "execution_count": 9,
      "outputs": [
        {
          "output_type": "execute_result",
          "data": {
            "text/html": [
              "<div>\n",
              "<style scoped>\n",
              "    .dataframe tbody tr th:only-of-type {\n",
              "        vertical-align: middle;\n",
              "    }\n",
              "\n",
              "    .dataframe tbody tr th {\n",
              "        vertical-align: top;\n",
              "    }\n",
              "\n",
              "    .dataframe thead th {\n",
              "        text-align: right;\n",
              "    }\n",
              "</style>\n",
              "<table border=\"1\" class=\"dataframe\">\n",
              "  <thead>\n",
              "    <tr style=\"text-align: right;\">\n",
              "      <th></th>\n",
              "      <th>Appliances</th>\n",
              "      <th>T_out</th>\n",
              "      <th>RH_1</th>\n",
              "      <th>Visibility</th>\n",
              "    </tr>\n",
              "  </thead>\n",
              "  <tbody>\n",
              "    <tr>\n",
              "      <th>0</th>\n",
              "      <td>60</td>\n",
              "      <td>6.600000</td>\n",
              "      <td>47.596667</td>\n",
              "      <td>63.000000</td>\n",
              "    </tr>\n",
              "    <tr>\n",
              "      <th>1</th>\n",
              "      <td>60</td>\n",
              "      <td>6.483333</td>\n",
              "      <td>46.693333</td>\n",
              "      <td>59.166667</td>\n",
              "    </tr>\n",
              "    <tr>\n",
              "      <th>2</th>\n",
              "      <td>50</td>\n",
              "      <td>6.366667</td>\n",
              "      <td>46.300000</td>\n",
              "      <td>55.333333</td>\n",
              "    </tr>\n",
              "    <tr>\n",
              "      <th>3</th>\n",
              "      <td>50</td>\n",
              "      <td>6.250000</td>\n",
              "      <td>46.066667</td>\n",
              "      <td>51.500000</td>\n",
              "    </tr>\n",
              "    <tr>\n",
              "      <th>4</th>\n",
              "      <td>60</td>\n",
              "      <td>6.133333</td>\n",
              "      <td>46.333333</td>\n",
              "      <td>47.666667</td>\n",
              "    </tr>\n",
              "  </tbody>\n",
              "</table>\n",
              "</div>"
            ],
            "text/plain": [
              "   Appliances     T_out       RH_1  Visibility\n",
              "0          60  6.600000  47.596667   63.000000\n",
              "1          60  6.483333  46.693333   59.166667\n",
              "2          50  6.366667  46.300000   55.333333\n",
              "3          50  6.250000  46.066667   51.500000\n",
              "4          60  6.133333  46.333333   47.666667"
            ]
          },
          "metadata": {},
          "execution_count": 9
        }
      ]
    },
    {
      "cell_type": "code",
      "metadata": {
        "colab": {
          "base_uri": "https://localhost:8080/",
          "height": 294
        },
        "id": "VzMEWdnC5wr8",
        "outputId": "5bba0f13-735f-441d-bcd1-c2e800985236"
      },
      "source": [
        "df_input.describe()"
      ],
      "execution_count": 10,
      "outputs": [
        {
          "output_type": "execute_result",
          "data": {
            "text/html": [
              "<div>\n",
              "<style scoped>\n",
              "    .dataframe tbody tr th:only-of-type {\n",
              "        vertical-align: middle;\n",
              "    }\n",
              "\n",
              "    .dataframe tbody tr th {\n",
              "        vertical-align: top;\n",
              "    }\n",
              "\n",
              "    .dataframe thead th {\n",
              "        text-align: right;\n",
              "    }\n",
              "</style>\n",
              "<table border=\"1\" class=\"dataframe\">\n",
              "  <thead>\n",
              "    <tr style=\"text-align: right;\">\n",
              "      <th></th>\n",
              "      <th>Appliances</th>\n",
              "      <th>T_out</th>\n",
              "      <th>RH_1</th>\n",
              "      <th>Visibility</th>\n",
              "    </tr>\n",
              "  </thead>\n",
              "  <tbody>\n",
              "    <tr>\n",
              "      <th>count</th>\n",
              "      <td>19735.000000</td>\n",
              "      <td>19735.000000</td>\n",
              "      <td>19735.000000</td>\n",
              "      <td>19735.000000</td>\n",
              "    </tr>\n",
              "    <tr>\n",
              "      <th>mean</th>\n",
              "      <td>97.694958</td>\n",
              "      <td>7.411665</td>\n",
              "      <td>40.259739</td>\n",
              "      <td>38.330834</td>\n",
              "    </tr>\n",
              "    <tr>\n",
              "      <th>std</th>\n",
              "      <td>102.524891</td>\n",
              "      <td>5.317409</td>\n",
              "      <td>3.979299</td>\n",
              "      <td>11.794719</td>\n",
              "    </tr>\n",
              "    <tr>\n",
              "      <th>min</th>\n",
              "      <td>10.000000</td>\n",
              "      <td>-5.000000</td>\n",
              "      <td>27.023333</td>\n",
              "      <td>1.000000</td>\n",
              "    </tr>\n",
              "    <tr>\n",
              "      <th>25%</th>\n",
              "      <td>50.000000</td>\n",
              "      <td>3.666667</td>\n",
              "      <td>37.333333</td>\n",
              "      <td>29.000000</td>\n",
              "    </tr>\n",
              "    <tr>\n",
              "      <th>50%</th>\n",
              "      <td>60.000000</td>\n",
              "      <td>6.916667</td>\n",
              "      <td>39.656667</td>\n",
              "      <td>40.000000</td>\n",
              "    </tr>\n",
              "    <tr>\n",
              "      <th>75%</th>\n",
              "      <td>100.000000</td>\n",
              "      <td>10.408333</td>\n",
              "      <td>43.066667</td>\n",
              "      <td>40.000000</td>\n",
              "    </tr>\n",
              "    <tr>\n",
              "      <th>max</th>\n",
              "      <td>1080.000000</td>\n",
              "      <td>26.100000</td>\n",
              "      <td>63.360000</td>\n",
              "      <td>66.000000</td>\n",
              "    </tr>\n",
              "  </tbody>\n",
              "</table>\n",
              "</div>"
            ],
            "text/plain": [
              "         Appliances         T_out          RH_1    Visibility\n",
              "count  19735.000000  19735.000000  19735.000000  19735.000000\n",
              "mean      97.694958      7.411665     40.259739     38.330834\n",
              "std      102.524891      5.317409      3.979299     11.794719\n",
              "min       10.000000     -5.000000     27.023333      1.000000\n",
              "25%       50.000000      3.666667     37.333333     29.000000\n",
              "50%       60.000000      6.916667     39.656667     40.000000\n",
              "75%      100.000000     10.408333     43.066667     40.000000\n",
              "max     1080.000000     26.100000     63.360000     66.000000"
            ]
          },
          "metadata": {},
          "execution_count": 10
        }
      ]
    },
    {
      "cell_type": "code",
      "metadata": {
        "colab": {
          "base_uri": "https://localhost:8080/",
          "height": 414
        },
        "id": "3soNz0qA8TVx",
        "outputId": "e97632ee-75bf-4999-a273-4d6edc192eb1"
      },
      "source": [
        "df_input.query(\"Appliances>500\")"
      ],
      "execution_count": 11,
      "outputs": [
        {
          "output_type": "execute_result",
          "data": {
            "text/html": [
              "<div>\n",
              "<style scoped>\n",
              "    .dataframe tbody tr th:only-of-type {\n",
              "        vertical-align: middle;\n",
              "    }\n",
              "\n",
              "    .dataframe tbody tr th {\n",
              "        vertical-align: top;\n",
              "    }\n",
              "\n",
              "    .dataframe thead th {\n",
              "        text-align: right;\n",
              "    }\n",
              "</style>\n",
              "<table border=\"1\" class=\"dataframe\">\n",
              "  <thead>\n",
              "    <tr style=\"text-align: right;\">\n",
              "      <th></th>\n",
              "      <th>Appliances</th>\n",
              "      <th>T_out</th>\n",
              "      <th>RH_1</th>\n",
              "      <th>Visibility</th>\n",
              "    </tr>\n",
              "  </thead>\n",
              "  <tbody>\n",
              "    <tr>\n",
              "      <th>11</th>\n",
              "      <td>580</td>\n",
              "      <td>5.983333</td>\n",
              "      <td>46.396667</td>\n",
              "      <td>40.000000</td>\n",
              "    </tr>\n",
              "    <tr>\n",
              "      <th>314</th>\n",
              "      <td>520</td>\n",
              "      <td>2.900000</td>\n",
              "      <td>41.530000</td>\n",
              "      <td>36.333333</td>\n",
              "    </tr>\n",
              "    <tr>\n",
              "      <th>392</th>\n",
              "      <td>550</td>\n",
              "      <td>2.033333</td>\n",
              "      <td>43.433333</td>\n",
              "      <td>40.000000</td>\n",
              "    </tr>\n",
              "    <tr>\n",
              "      <th>393</th>\n",
              "      <td>690</td>\n",
              "      <td>2.100000</td>\n",
              "      <td>43.766667</td>\n",
              "      <td>40.000000</td>\n",
              "    </tr>\n",
              "    <tr>\n",
              "      <th>394</th>\n",
              "      <td>620</td>\n",
              "      <td>2.166667</td>\n",
              "      <td>43.693333</td>\n",
              "      <td>40.000000</td>\n",
              "    </tr>\n",
              "    <tr>\n",
              "      <th>...</th>\n",
              "      <td>...</td>\n",
              "      <td>...</td>\n",
              "      <td>...</td>\n",
              "      <td>...</td>\n",
              "    </tr>\n",
              "    <tr>\n",
              "      <th>19586</th>\n",
              "      <td>600</td>\n",
              "      <td>20.833333</td>\n",
              "      <td>44.066667</td>\n",
              "      <td>40.000000</td>\n",
              "    </tr>\n",
              "    <tr>\n",
              "      <th>19587</th>\n",
              "      <td>520</td>\n",
              "      <td>20.900000</td>\n",
              "      <td>43.366667</td>\n",
              "      <td>40.000000</td>\n",
              "    </tr>\n",
              "    <tr>\n",
              "      <th>19684</th>\n",
              "      <td>580</td>\n",
              "      <td>15.900000</td>\n",
              "      <td>47.226667</td>\n",
              "      <td>61.000000</td>\n",
              "    </tr>\n",
              "    <tr>\n",
              "      <th>19685</th>\n",
              "      <td>660</td>\n",
              "      <td>16.100000</td>\n",
              "      <td>47.693333</td>\n",
              "      <td>61.000000</td>\n",
              "    </tr>\n",
              "    <tr>\n",
              "      <th>19695</th>\n",
              "      <td>620</td>\n",
              "      <td>19.100000</td>\n",
              "      <td>48.326667</td>\n",
              "      <td>64.000000</td>\n",
              "    </tr>\n",
              "  </tbody>\n",
              "</table>\n",
              "<p>288 rows × 4 columns</p>\n",
              "</div>"
            ],
            "text/plain": [
              "       Appliances      T_out       RH_1  Visibility\n",
              "11            580   5.983333  46.396667   40.000000\n",
              "314           520   2.900000  41.530000   36.333333\n",
              "392           550   2.033333  43.433333   40.000000\n",
              "393           690   2.100000  43.766667   40.000000\n",
              "394           620   2.166667  43.693333   40.000000\n",
              "...           ...        ...        ...         ...\n",
              "19586         600  20.833333  44.066667   40.000000\n",
              "19587         520  20.900000  43.366667   40.000000\n",
              "19684         580  15.900000  47.226667   61.000000\n",
              "19685         660  16.100000  47.693333   61.000000\n",
              "19695         620  19.100000  48.326667   64.000000\n",
              "\n",
              "[288 rows x 4 columns]"
            ]
          },
          "metadata": {},
          "execution_count": 11
        }
      ]
    },
    {
      "cell_type": "markdown",
      "metadata": {
        "id": "lzCdk6ZWJ2IP"
      },
      "source": [
        "The reason of scaling the data before feeding into the neural network model, it provides faster convergence!"
      ]
    },
    {
      "cell_type": "code",
      "metadata": {
        "id": "cJv5w3nR_FFa"
      },
      "source": [
        "scaler = MinMaxScaler()\n",
        "data_scaled = scaler.fit_transform(df_input)"
      ],
      "execution_count": 12,
      "outputs": []
    },
    {
      "cell_type": "code",
      "metadata": {
        "colab": {
          "base_uri": "https://localhost:8080/",
          "height": 294
        },
        "id": "X4yE59KYKMtw",
        "outputId": "95bda1d1-bd0b-491e-b698-fad151887a5a"
      },
      "source": [
        "pd.DataFrame(data_scaled).describe()"
      ],
      "execution_count": 13,
      "outputs": [
        {
          "output_type": "execute_result",
          "data": {
            "text/html": [
              "<div>\n",
              "<style scoped>\n",
              "    .dataframe tbody tr th:only-of-type {\n",
              "        vertical-align: middle;\n",
              "    }\n",
              "\n",
              "    .dataframe tbody tr th {\n",
              "        vertical-align: top;\n",
              "    }\n",
              "\n",
              "    .dataframe thead th {\n",
              "        text-align: right;\n",
              "    }\n",
              "</style>\n",
              "<table border=\"1\" class=\"dataframe\">\n",
              "  <thead>\n",
              "    <tr style=\"text-align: right;\">\n",
              "      <th></th>\n",
              "      <th>0</th>\n",
              "      <th>1</th>\n",
              "      <th>2</th>\n",
              "      <th>3</th>\n",
              "    </tr>\n",
              "  </thead>\n",
              "  <tbody>\n",
              "    <tr>\n",
              "      <th>count</th>\n",
              "      <td>19735.000000</td>\n",
              "      <td>19735.000000</td>\n",
              "      <td>19735.000000</td>\n",
              "      <td>19735.000000</td>\n",
              "    </tr>\n",
              "    <tr>\n",
              "      <th>mean</th>\n",
              "      <td>0.081958</td>\n",
              "      <td>0.399089</td>\n",
              "      <td>0.364271</td>\n",
              "      <td>0.574321</td>\n",
              "    </tr>\n",
              "    <tr>\n",
              "      <th>std</th>\n",
              "      <td>0.095818</td>\n",
              "      <td>0.170978</td>\n",
              "      <td>0.109512</td>\n",
              "      <td>0.181457</td>\n",
              "    </tr>\n",
              "    <tr>\n",
              "      <th>min</th>\n",
              "      <td>0.000000</td>\n",
              "      <td>0.000000</td>\n",
              "      <td>0.000000</td>\n",
              "      <td>0.000000</td>\n",
              "    </tr>\n",
              "    <tr>\n",
              "      <th>25%</th>\n",
              "      <td>0.037383</td>\n",
              "      <td>0.278671</td>\n",
              "      <td>0.283735</td>\n",
              "      <td>0.430769</td>\n",
              "    </tr>\n",
              "    <tr>\n",
              "      <th>50%</th>\n",
              "      <td>0.046729</td>\n",
              "      <td>0.383173</td>\n",
              "      <td>0.347675</td>\n",
              "      <td>0.600000</td>\n",
              "    </tr>\n",
              "    <tr>\n",
              "      <th>75%</th>\n",
              "      <td>0.084112</td>\n",
              "      <td>0.495445</td>\n",
              "      <td>0.441519</td>\n",
              "      <td>0.600000</td>\n",
              "    </tr>\n",
              "    <tr>\n",
              "      <th>max</th>\n",
              "      <td>1.000000</td>\n",
              "      <td>1.000000</td>\n",
              "      <td>1.000000</td>\n",
              "      <td>1.000000</td>\n",
              "    </tr>\n",
              "  </tbody>\n",
              "</table>\n",
              "</div>"
            ],
            "text/plain": [
              "                  0             1             2             3\n",
              "count  19735.000000  19735.000000  19735.000000  19735.000000\n",
              "mean       0.081958      0.399089      0.364271      0.574321\n",
              "std        0.095818      0.170978      0.109512      0.181457\n",
              "min        0.000000      0.000000      0.000000      0.000000\n",
              "25%        0.037383      0.278671      0.283735      0.430769\n",
              "50%        0.046729      0.383173      0.347675      0.600000\n",
              "75%        0.084112      0.495445      0.441519      0.600000\n",
              "max        1.000000      1.000000      1.000000      1.000000"
            ]
          },
          "metadata": {},
          "execution_count": 13
        }
      ]
    },
    {
      "cell_type": "code",
      "metadata": {
        "id": "7FT3dwI-KP0i"
      },
      "source": [
        "features = data_scaled\n",
        "target = data_scaled[:,0]"
      ],
      "execution_count": 14,
      "outputs": []
    },
    {
      "cell_type": "code",
      "metadata": {
        "colab": {
          "base_uri": "https://localhost:8080/"
        },
        "id": "yMx065zVMimX",
        "outputId": "77df3a39-2c69-41ed-d94d-703e9783a15b"
      },
      "source": [
        "TimeseriesGenerator(features, target, length=2, sampling_rate=1, batch_size=1)[0]"
      ],
      "execution_count": 15,
      "outputs": [
        {
          "output_type": "execute_result",
          "data": {
            "text/plain": [
              "(array([[[0.04672897, 0.37299035, 0.56618659, 0.95384615],\n",
              "         [0.04672897, 0.36923901, 0.54132648, 0.89487179]]]),\n",
              " array([0.03738318]))"
            ]
          },
          "metadata": {},
          "execution_count": 15
        }
      ]
    },
    {
      "cell_type": "code",
      "metadata": {
        "id": "rw-TaViAMqQF"
      },
      "source": [
        "x_train, x_test, y_train, y_test = train_test_split(features, target, test_size=0.2, random_state=123, shuffle=False)"
      ],
      "execution_count": 16,
      "outputs": []
    },
    {
      "cell_type": "code",
      "metadata": {
        "colab": {
          "base_uri": "https://localhost:8080/"
        },
        "id": "tR8EbvGUMyC9",
        "outputId": "5127338d-e3cf-47ef-9077-0856fcdb9330"
      },
      "source": [
        "print(\"Train shape: \", x_train.shape)\n",
        "print(\"Test shape: \", x_test.shape)"
      ],
      "execution_count": 17,
      "outputs": [
        {
          "output_type": "stream",
          "name": "stdout",
          "text": [
            "Train shape:  (15788, 4)\n",
            "Test shape:  (3947, 4)\n"
          ]
        }
      ]
    },
    {
      "cell_type": "code",
      "metadata": {
        "id": "-ruHjbwAM2KS"
      },
      "source": [
        "win_length = 720\n",
        "batch_size = 32\n",
        "num_features = 4\n",
        "train_generator = TimeseriesGenerator(x_train, y_train, length=win_length, sampling_rate=1, batch_size=batch_size)\n",
        "test_generator = TimeseriesGenerator(x_test, y_test, length=win_length, sampling_rate=1, batch_size=batch_size)"
      ],
      "execution_count": 18,
      "outputs": []
    },
    {
      "cell_type": "code",
      "metadata": {
        "colab": {
          "base_uri": "https://localhost:8080/"
        },
        "id": "0njDqzf_Qan8",
        "outputId": "e2f4e259-2446-4bd8-c037-471c2ff6af37"
      },
      "source": [
        "train_generator[0]"
      ],
      "execution_count": 19,
      "outputs": [
        {
          "output_type": "execute_result",
          "data": {
            "text/plain": [
              "(array([[[0.04672897, 0.37299035, 0.56618659, 0.95384615],\n",
              "         [0.04672897, 0.36923901, 0.54132648, 0.89487179],\n",
              "         [0.03738318, 0.36548767, 0.53050179, 0.83589744],\n",
              "         ...,\n",
              "         [0.06542056, 0.25241158, 0.31584258, 0.79230769],\n",
              "         [0.05607477, 0.23901393, 0.31309054, 0.72820513],\n",
              "         [0.06542056, 0.22561629, 0.31107238, 0.66410256]],\n",
              " \n",
              "        [[0.04672897, 0.36923901, 0.54132648, 0.89487179],\n",
              "         [0.03738318, 0.36548767, 0.53050179, 0.83589744],\n",
              "         [0.03738318, 0.36173633, 0.52408036, 0.77692308],\n",
              "         ...,\n",
              "         [0.05607477, 0.23901393, 0.31309054, 0.72820513],\n",
              "         [0.06542056, 0.22561629, 0.31107238, 0.66410256],\n",
              "         [0.06542056, 0.21221865, 0.30923768, 0.6       ]],\n",
              " \n",
              "        [[0.03738318, 0.36548767, 0.53050179, 0.83589744],\n",
              "         [0.03738318, 0.36173633, 0.52408036, 0.77692308],\n",
              "         [0.04672897, 0.35798499, 0.53141914, 0.71794872],\n",
              "         ...,\n",
              "         [0.06542056, 0.22561629, 0.31107238, 0.66410256],\n",
              "         [0.06542056, 0.21221865, 0.30923768, 0.6       ],\n",
              "         [0.13084112, 0.2170418 , 0.3055683 , 0.6       ]],\n",
              " \n",
              "        ...,\n",
              " \n",
              "        [[0.08411215, 0.34297964, 0.50389872, 0.6       ],\n",
              "         [0.09345794, 0.34083601, 0.49821117, 0.6       ],\n",
              "         [0.36448598, 0.34244373, 0.49380791, 0.6       ],\n",
              "         ...,\n",
              "         [0.08411215, 0.17470525, 0.32134667, 0.24615385],\n",
              "         [0.09345794, 0.17524116, 0.31749381, 0.26923077],\n",
              "         [0.09345794, 0.17577706, 0.31400789, 0.29230769]],\n",
              " \n",
              "        [[0.09345794, 0.34083601, 0.49821117, 0.6       ],\n",
              "         [0.36448598, 0.34244373, 0.49380791, 0.6       ],\n",
              "         [0.36448598, 0.34405145, 0.48830383, 0.6       ],\n",
              "         ...,\n",
              "         [0.09345794, 0.17524116, 0.31749381, 0.26923077],\n",
              "         [0.09345794, 0.17577706, 0.31400789, 0.29230769],\n",
              "         [0.1682243 , 0.17631297, 0.31208146, 0.31538462]],\n",
              " \n",
              "        [[0.36448598, 0.34244373, 0.49380791, 0.6       ],\n",
              "         [0.36448598, 0.34405145, 0.48830383, 0.6       ],\n",
              "         [0.35514019, 0.34565916, 0.48261627, 0.6       ],\n",
              "         ...,\n",
              "         [0.09345794, 0.17577706, 0.31400789, 0.29230769],\n",
              "         [0.1682243 , 0.17631297, 0.31208146, 0.31538462],\n",
              "         [0.41121495, 0.17684887, 0.3100633 , 0.33846154]]]),\n",
              " array([0.06542056, 0.13084112, 0.34579439, 0.26168224, 0.24299065,\n",
              "        0.38317757, 0.25233645, 0.27102804, 0.31775701, 0.24299065,\n",
              "        0.51401869, 1.        , 0.69158879, 0.35514019, 0.31775701,\n",
              "        0.30841121, 0.26168224, 0.20560748, 0.10280374, 0.09345794,\n",
              "        0.08411215, 0.09345794, 0.11214953, 0.12149533, 0.09345794,\n",
              "        0.08411215, 0.08411215, 0.09345794, 0.09345794, 0.1682243 ,\n",
              "        0.41121495, 0.18691589]))"
            ]
          },
          "metadata": {},
          "execution_count": 19
        }
      ]
    },
    {
      "cell_type": "code",
      "metadata": {
        "id": "rr9QBdyWQ_VG"
      },
      "source": [
        "model = tf.keras.Sequential()\n",
        "\n",
        "model.add(tf.keras.layers.LSTM(128, input_shape=(win_length, num_features), return_sequences=True))\n",
        "model.add(tf.keras.layers.LeakyReLU(alpha=0.5))\n",
        "model.add(tf.keras.layers.LSTM(128, return_sequences=True))\n",
        "model.add(tf.keras.layers.LeakyReLU(alpha=0.5))\n",
        "model.add(tf.keras.layers.Dropout(0.3))\n",
        "model.add(tf.keras.layers.LSTM(64, return_sequences=False))\n",
        "model.add(tf.keras.layers.Dropout(0.3))\n",
        "model.add(tf.keras.layers.Dense(1))"
      ],
      "execution_count": 20,
      "outputs": []
    },
    {
      "cell_type": "code",
      "metadata": {
        "colab": {
          "base_uri": "https://localhost:8080/"
        },
        "id": "gUvILdLjS0PC",
        "outputId": "616a51c9-66b7-439d-88de-734ae04da04b"
      },
      "source": [
        "model.summary()"
      ],
      "execution_count": 21,
      "outputs": [
        {
          "output_type": "stream",
          "name": "stdout",
          "text": [
            "Model: \"sequential\"\n",
            "_________________________________________________________________\n",
            "Layer (type)                 Output Shape              Param #   \n",
            "=================================================================\n",
            "lstm (LSTM)                  (None, 720, 128)          68096     \n",
            "_________________________________________________________________\n",
            "leaky_re_lu (LeakyReLU)      (None, 720, 128)          0         \n",
            "_________________________________________________________________\n",
            "lstm_1 (LSTM)                (None, 720, 128)          131584    \n",
            "_________________________________________________________________\n",
            "leaky_re_lu_1 (LeakyReLU)    (None, 720, 128)          0         \n",
            "_________________________________________________________________\n",
            "dropout (Dropout)            (None, 720, 128)          0         \n",
            "_________________________________________________________________\n",
            "lstm_2 (LSTM)                (None, 64)                49408     \n",
            "_________________________________________________________________\n",
            "dropout_1 (Dropout)          (None, 64)                0         \n",
            "_________________________________________________________________\n",
            "dense (Dense)                (None, 1)                 65        \n",
            "=================================================================\n",
            "Total params: 249,153\n",
            "Trainable params: 249,153\n",
            "Non-trainable params: 0\n",
            "_________________________________________________________________\n"
          ]
        }
      ]
    },
    {
      "cell_type": "code",
      "metadata": {
        "colab": {
          "base_uri": "https://localhost:8080/"
        },
        "id": "oS5PbQ3nS7NK",
        "outputId": "2c3fcbe8-26ac-48bf-f301-a45c36727fd5"
      },
      "source": [
        "early_stopping = tf.keras.callbacks.EarlyStopping(monitor='val_loss', patience=2, mode='min')\n",
        "\n",
        "model.compile(loss = tf.losses.MeanSquaredError(),\n",
        "              optimizer = tf.optimizers.Adam(),\n",
        "              metrics = [tf.metrics.MeanAbsoluteError()])\n",
        "\n",
        "history = model.fit_generator(train_generator, epochs=50,\n",
        "                              validation_data=test_generator,\n",
        "                              shuffle=False,\n",
        "                              callbacks=[early_stopping])"
      ],
      "execution_count": 22,
      "outputs": [
        {
          "output_type": "stream",
          "name": "stdout",
          "text": [
            "Epoch 1/50\n"
          ]
        },
        {
          "output_type": "stream",
          "name": "stderr",
          "text": [
            "/usr/local/lib/python3.7/dist-packages/keras/engine/training.py:1972: UserWarning: `Model.fit_generator` is deprecated and will be removed in a future version. Please use `Model.fit`, which supports generators.\n",
            "  warnings.warn('`Model.fit_generator` is deprecated and '\n"
          ]
        },
        {
          "output_type": "stream",
          "name": "stdout",
          "text": [
            "471/471 [==============================] - 899s 2s/step - loss: 0.0085 - mean_absolute_error: 0.0512 - val_loss: 0.0058 - val_mean_absolute_error: 0.0499\n",
            "Epoch 2/50\n",
            "471/471 [==============================] - 894s 2s/step - loss: 0.0067 - mean_absolute_error: 0.0427 - val_loss: 0.0044 - val_mean_absolute_error: 0.0368\n",
            "Epoch 3/50\n",
            "471/471 [==============================] - 892s 2s/step - loss: 0.0049 - mean_absolute_error: 0.0354 - val_loss: 0.0033 - val_mean_absolute_error: 0.0297\n",
            "Epoch 4/50\n",
            "471/471 [==============================] - 893s 2s/step - loss: 0.0042 - mean_absolute_error: 0.0317 - val_loss: 0.0032 - val_mean_absolute_error: 0.0283\n",
            "Epoch 5/50\n",
            "471/471 [==============================] - 893s 2s/step - loss: 0.0041 - mean_absolute_error: 0.0315 - val_loss: 0.0032 - val_mean_absolute_error: 0.0284\n",
            "Epoch 6/50\n",
            "471/471 [==============================] - 893s 2s/step - loss: 0.0041 - mean_absolute_error: 0.0310 - val_loss: 0.0032 - val_mean_absolute_error: 0.0280\n",
            "Epoch 7/50\n",
            "471/471 [==============================] - 896s 2s/step - loss: 0.0040 - mean_absolute_error: 0.0308 - val_loss: 0.0032 - val_mean_absolute_error: 0.0281\n",
            "Epoch 8/50\n",
            "471/471 [==============================] - 893s 2s/step - loss: 0.0040 - mean_absolute_error: 0.0307 - val_loss: 0.0032 - val_mean_absolute_error: 0.0272\n",
            "Epoch 9/50\n",
            "471/471 [==============================] - 891s 2s/step - loss: 0.0040 - mean_absolute_error: 0.0307 - val_loss: 0.0032 - val_mean_absolute_error: 0.0272\n",
            "Epoch 10/50\n",
            "471/471 [==============================] - 889s 2s/step - loss: 0.0040 - mean_absolute_error: 0.0308 - val_loss: 0.0032 - val_mean_absolute_error: 0.0285\n"
          ]
        }
      ]
    },
    {
      "cell_type": "code",
      "metadata": {
        "colab": {
          "base_uri": "https://localhost:8080/"
        },
        "id": "33x1x85sTduF",
        "outputId": "86ba4374-2e49-4d7b-9ff6-08936aea0948"
      },
      "source": [
        "model.evaluate_generator(test_generator, verbose=0)"
      ],
      "execution_count": 23,
      "outputs": [
        {
          "output_type": "stream",
          "name": "stderr",
          "text": [
            "/usr/local/lib/python3.7/dist-packages/keras/engine/training.py:2006: UserWarning: `Model.evaluate_generator` is deprecated and will be removed in a future version. Please use `Model.evaluate`, which supports generators.\n",
            "  warnings.warn('`Model.evaluate_generator` is deprecated and '\n"
          ]
        },
        {
          "output_type": "execute_result",
          "data": {
            "text/plain": [
              "[0.0031806044280529022, 0.02848288230597973]"
            ]
          },
          "metadata": {},
          "execution_count": 23
        }
      ]
    },
    {
      "cell_type": "code",
      "metadata": {
        "colab": {
          "base_uri": "https://localhost:8080/"
        },
        "id": "Z0Lyl03NUA02",
        "outputId": "d9c76916-c315-4b81-ff47-2a7211f73750"
      },
      "source": [
        "predictions = model.predict_generator(test_generator)"
      ],
      "execution_count": 24,
      "outputs": [
        {
          "output_type": "stream",
          "name": "stderr",
          "text": [
            "/usr/local/lib/python3.7/dist-packages/keras/engine/training.py:2035: UserWarning: `Model.predict_generator` is deprecated and will be removed in a future version. Please use `Model.predict`, which supports generators.\n",
            "  warnings.warn('`Model.predict_generator` is deprecated and '\n"
          ]
        }
      ]
    },
    {
      "cell_type": "code",
      "metadata": {
        "colab": {
          "base_uri": "https://localhost:8080/"
        },
        "id": "X6rgywb0UGih",
        "outputId": "7967975e-e57a-40af-d247-9283afcfb2f1"
      },
      "source": [
        "predictions.shape[0]"
      ],
      "execution_count": 25,
      "outputs": [
        {
          "output_type": "execute_result",
          "data": {
            "text/plain": [
              "3227"
            ]
          },
          "metadata": {},
          "execution_count": 25
        }
      ]
    },
    {
      "cell_type": "code",
      "metadata": {
        "colab": {
          "base_uri": "https://localhost:8080/"
        },
        "id": "4lT6bjugUIMX",
        "outputId": "641c867a-988b-4bbf-d5af-176d13346226"
      },
      "source": [
        "predictions"
      ],
      "execution_count": 26,
      "outputs": [
        {
          "output_type": "execute_result",
          "data": {
            "text/plain": [
              "array([[0.07207845],\n",
              "       [0.09765545],\n",
              "       [0.11970159],\n",
              "       ...,\n",
              "       [0.08859646],\n",
              "       [0.25403988],\n",
              "       [0.26469132]], dtype=float32)"
            ]
          },
          "metadata": {},
          "execution_count": 26
        }
      ]
    },
    {
      "cell_type": "code",
      "metadata": {
        "id": "vtSdHNMgULj1"
      },
      "source": [
        ""
      ],
      "execution_count": null,
      "outputs": []
    }
  ]
}