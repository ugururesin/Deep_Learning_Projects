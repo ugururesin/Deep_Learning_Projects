{
 "cells": [
  {
   "cell_type": "markdown",
   "metadata": {
    "colab_type": "text",
    "id": "view-in-github"
   },
   "source": [
    "<a href=\"https://colab.research.google.com/github/ugururesin/Deep_Learning_Projects/blob/main/Multivariate_Time_Series_Modeling_via_LSTM.ipynb\" target=\"_parent\"><img src=\"https://colab.research.google.com/assets/colab-badge.svg\" alt=\"Open In Colab\"/></a>"
   ]
  },
  {
   "cell_type": "code",
   "execution_count": 1,
   "metadata": {
    "id": "jDYCOMODo38L"
   },
   "outputs": [],
   "source": [
    "# IMPORTING LIBRARIRES\n",
    "import pandas as pd\n",
    "import matplotlib as mpl\n",
    "import matplotlib.pyplot as plt\n",
    "from sklearn.model_selection import train_test_split\n",
    "from keras.preprocessing.sequence import TimeseriesGenerator\n",
    "from sklearn.preprocessing import MinMaxScaler, StandardScaler\n",
    "import tensorflow as tf"
   ]
  },
  {
   "cell_type": "code",
   "execution_count": 2,
   "metadata": {
    "id": "f9_JzFh0qL8w"
   },
   "outputs": [],
   "source": [
    "mpl.rcParams['figure.figsize'] = (10,8)\n",
    "mpl.rcParams['axes.grid'] = False"
   ]
  },
  {
   "cell_type": "code",
   "execution_count": 3,
   "metadata": {
    "id": "YszmZQq6qdSz"
   },
   "outputs": [],
   "source": [
    "df = pd.read_csv('https://archive.ics.uci.edu/ml/machine-learning-databases/00374/energydata_complete.csv')"
   ]
  },
  {
   "cell_type": "code",
   "execution_count": 4,
   "metadata": {
    "colab": {
     "base_uri": "https://localhost:8080/",
     "height": 388
    },
    "id": "TM8uSLr1qqsS",
    "outputId": "beb5291c-e0a3-4483-9e06-0e44f04ab868"
   },
   "outputs": [
    {
     "data": {
      "text/html": [
       "<div>\n",
       "<style scoped>\n",
       "    .dataframe tbody tr th:only-of-type {\n",
       "        vertical-align: middle;\n",
       "    }\n",
       "\n",
       "    .dataframe tbody tr th {\n",
       "        vertical-align: top;\n",
       "    }\n",
       "\n",
       "    .dataframe thead th {\n",
       "        text-align: right;\n",
       "    }\n",
       "</style>\n",
       "<table border=\"1\" class=\"dataframe\">\n",
       "  <thead>\n",
       "    <tr style=\"text-align: right;\">\n",
       "      <th></th>\n",
       "      <th>date</th>\n",
       "      <th>Appliances</th>\n",
       "      <th>lights</th>\n",
       "      <th>T1</th>\n",
       "      <th>RH_1</th>\n",
       "      <th>T2</th>\n",
       "      <th>RH_2</th>\n",
       "      <th>T3</th>\n",
       "      <th>RH_3</th>\n",
       "      <th>T4</th>\n",
       "      <th>...</th>\n",
       "      <th>T9</th>\n",
       "      <th>RH_9</th>\n",
       "      <th>T_out</th>\n",
       "      <th>Press_mm_hg</th>\n",
       "      <th>RH_out</th>\n",
       "      <th>Windspeed</th>\n",
       "      <th>Visibility</th>\n",
       "      <th>Tdewpoint</th>\n",
       "      <th>rv1</th>\n",
       "      <th>rv2</th>\n",
       "    </tr>\n",
       "  </thead>\n",
       "  <tbody>\n",
       "    <tr>\n",
       "      <th>0</th>\n",
       "      <td>2016-01-11 17:00:00</td>\n",
       "      <td>60</td>\n",
       "      <td>30</td>\n",
       "      <td>19.89</td>\n",
       "      <td>47.596667</td>\n",
       "      <td>19.2</td>\n",
       "      <td>44.790000</td>\n",
       "      <td>19.79</td>\n",
       "      <td>44.730000</td>\n",
       "      <td>19.000000</td>\n",
       "      <td>...</td>\n",
       "      <td>17.033333</td>\n",
       "      <td>45.53</td>\n",
       "      <td>6.600000</td>\n",
       "      <td>733.5</td>\n",
       "      <td>92.0</td>\n",
       "      <td>7.000000</td>\n",
       "      <td>63.000000</td>\n",
       "      <td>5.3</td>\n",
       "      <td>13.275433</td>\n",
       "      <td>13.275433</td>\n",
       "    </tr>\n",
       "    <tr>\n",
       "      <th>1</th>\n",
       "      <td>2016-01-11 17:10:00</td>\n",
       "      <td>60</td>\n",
       "      <td>30</td>\n",
       "      <td>19.89</td>\n",
       "      <td>46.693333</td>\n",
       "      <td>19.2</td>\n",
       "      <td>44.722500</td>\n",
       "      <td>19.79</td>\n",
       "      <td>44.790000</td>\n",
       "      <td>19.000000</td>\n",
       "      <td>...</td>\n",
       "      <td>17.066667</td>\n",
       "      <td>45.56</td>\n",
       "      <td>6.483333</td>\n",
       "      <td>733.6</td>\n",
       "      <td>92.0</td>\n",
       "      <td>6.666667</td>\n",
       "      <td>59.166667</td>\n",
       "      <td>5.2</td>\n",
       "      <td>18.606195</td>\n",
       "      <td>18.606195</td>\n",
       "    </tr>\n",
       "    <tr>\n",
       "      <th>2</th>\n",
       "      <td>2016-01-11 17:20:00</td>\n",
       "      <td>50</td>\n",
       "      <td>30</td>\n",
       "      <td>19.89</td>\n",
       "      <td>46.300000</td>\n",
       "      <td>19.2</td>\n",
       "      <td>44.626667</td>\n",
       "      <td>19.79</td>\n",
       "      <td>44.933333</td>\n",
       "      <td>18.926667</td>\n",
       "      <td>...</td>\n",
       "      <td>17.000000</td>\n",
       "      <td>45.50</td>\n",
       "      <td>6.366667</td>\n",
       "      <td>733.7</td>\n",
       "      <td>92.0</td>\n",
       "      <td>6.333333</td>\n",
       "      <td>55.333333</td>\n",
       "      <td>5.1</td>\n",
       "      <td>28.642668</td>\n",
       "      <td>28.642668</td>\n",
       "    </tr>\n",
       "    <tr>\n",
       "      <th>3</th>\n",
       "      <td>2016-01-11 17:30:00</td>\n",
       "      <td>50</td>\n",
       "      <td>40</td>\n",
       "      <td>19.89</td>\n",
       "      <td>46.066667</td>\n",
       "      <td>19.2</td>\n",
       "      <td>44.590000</td>\n",
       "      <td>19.79</td>\n",
       "      <td>45.000000</td>\n",
       "      <td>18.890000</td>\n",
       "      <td>...</td>\n",
       "      <td>17.000000</td>\n",
       "      <td>45.40</td>\n",
       "      <td>6.250000</td>\n",
       "      <td>733.8</td>\n",
       "      <td>92.0</td>\n",
       "      <td>6.000000</td>\n",
       "      <td>51.500000</td>\n",
       "      <td>5.0</td>\n",
       "      <td>45.410389</td>\n",
       "      <td>45.410389</td>\n",
       "    </tr>\n",
       "    <tr>\n",
       "      <th>4</th>\n",
       "      <td>2016-01-11 17:40:00</td>\n",
       "      <td>60</td>\n",
       "      <td>40</td>\n",
       "      <td>19.89</td>\n",
       "      <td>46.333333</td>\n",
       "      <td>19.2</td>\n",
       "      <td>44.530000</td>\n",
       "      <td>19.79</td>\n",
       "      <td>45.000000</td>\n",
       "      <td>18.890000</td>\n",
       "      <td>...</td>\n",
       "      <td>17.000000</td>\n",
       "      <td>45.40</td>\n",
       "      <td>6.133333</td>\n",
       "      <td>733.9</td>\n",
       "      <td>92.0</td>\n",
       "      <td>5.666667</td>\n",
       "      <td>47.666667</td>\n",
       "      <td>4.9</td>\n",
       "      <td>10.084097</td>\n",
       "      <td>10.084097</td>\n",
       "    </tr>\n",
       "  </tbody>\n",
       "</table>\n",
       "<p>5 rows × 29 columns</p>\n",
       "</div>"
      ],
      "text/plain": [
       "                  date  Appliances  lights     T1       RH_1    T2       RH_2  \\\n",
       "0  2016-01-11 17:00:00          60      30  19.89  47.596667  19.2  44.790000   \n",
       "1  2016-01-11 17:10:00          60      30  19.89  46.693333  19.2  44.722500   \n",
       "2  2016-01-11 17:20:00          50      30  19.89  46.300000  19.2  44.626667   \n",
       "3  2016-01-11 17:30:00          50      40  19.89  46.066667  19.2  44.590000   \n",
       "4  2016-01-11 17:40:00          60      40  19.89  46.333333  19.2  44.530000   \n",
       "\n",
       "      T3       RH_3         T4  ...         T9   RH_9     T_out  Press_mm_hg  \\\n",
       "0  19.79  44.730000  19.000000  ...  17.033333  45.53  6.600000        733.5   \n",
       "1  19.79  44.790000  19.000000  ...  17.066667  45.56  6.483333        733.6   \n",
       "2  19.79  44.933333  18.926667  ...  17.000000  45.50  6.366667        733.7   \n",
       "3  19.79  45.000000  18.890000  ...  17.000000  45.40  6.250000        733.8   \n",
       "4  19.79  45.000000  18.890000  ...  17.000000  45.40  6.133333        733.9   \n",
       "\n",
       "   RH_out  Windspeed  Visibility  Tdewpoint        rv1        rv2  \n",
       "0    92.0   7.000000   63.000000        5.3  13.275433  13.275433  \n",
       "1    92.0   6.666667   59.166667        5.2  18.606195  18.606195  \n",
       "2    92.0   6.333333   55.333333        5.1  28.642668  28.642668  \n",
       "3    92.0   6.000000   51.500000        5.0  45.410389  45.410389  \n",
       "4    92.0   5.666667   47.666667        4.9  10.084097  10.084097  \n",
       "\n",
       "[5 rows x 29 columns]"
      ]
     },
     "execution_count": 4,
     "metadata": {},
     "output_type": "execute_result"
    }
   ],
   "source": [
    "df.head()"
   ]
  },
  {
   "cell_type": "markdown",
   "metadata": {
    "id": "1n9G0lxAvtfU"
   },
   "source": [
    "**Data Set Information:**\n",
    "\n",
    "The data set is at 10 min for about 4.5 months. The house temperature and humidity conditions were monitored with a ZigBee wireless sensor network. Each wireless node transmitted the temperature and humidity conditions around 3.3 min. Then, the wireless data was averaged for 10 minutes periods. The energy data was logged every 10 minutes with m-bus energy meters. Weather from the nearest airport weather station (Chievres Airport, Belgium) was downloaded from a public data set from Reliable Prognosis (rp5.ru), and merged together with the experimental data sets using the date and time column. Two random variables have been included in the data set for testing the regression models and to filter out non predictive attributes (parameters).\n",
    "\n",
    "For more information about the house, data collection, R scripts and figures, please refer to the paper and to the following github repository:\n",
    "\n",
    "[Web Link]\n",
    "\n",
    "\n",
    "**Attribute Information:**  \n",
    "date time year-month-day hour:minute:second  \n",
    "Appliances, energy use in Wh  \n",
    "lights, energy use of light fixtures in the house in Wh  \n",
    "**T1**, Temperature in kitchen area, in Celsius  \n",
    "**RH_1**, Humidity in kitchen area, in %  \n",
    "**T2**, Temperature in living room area, in Celsius  \n",
    "**RH_2**, Humidity in living room area, in %  \n",
    "**T3**, Temperature in laundry room area  \n",
    "**RH_3**, Humidity in laundry room area, in %  \n",
    "**T4**, Temperature in office room, in Celsius  \n",
    "**RH_4**, Humidity in office room, in %  \n",
    "**T5**, Temperature in bathroom, in Celsius  \n",
    "**RH_5**, Humidity in bathroom, in %  \n",
    "**T6**, Temperature outside the building (north side), in Celsius  \n",
    "**RH_6**, Humidity outside the building (north side), in %  \n",
    "**T7**, Temperature in ironing room , in Celsius  \n",
    "**RH_7**, Humidity in ironing room, in %  \n",
    "**T8**, Temperature in teenager room 2, in Celsius  \n",
    "**RH_8**, Humidity in teenager room 2, in %  \n",
    "**T9**, Temperature in parents room, in Celsius  \n",
    "**RH_9**, Humidity in parents room, in %  \n",
    "**To**, Temperature outside (from Chievres weather station), in Celsius  \n",
    "**Pressure** (from Chievres weather station), in mm Hg  \n",
    "**RH_out**, Humidity outside (from Chievres weather station), in %  \n",
    "**Wind speed** (from Chievres weather station), in m/s  \n",
    "**Visibility** (from Chievres weather station), in km  \n",
    "**Tdewpoint** (from Chievres weather station), Â°C  \n",
    "**rv1**, Random variable 1, nondimensional  \n",
    "**rv2**, Random variable 2, nondimensional  \n",
    "\n",
    "\n",
    "Where indicated, hourly data (then interpolated) from the nearest airport weather station (Chievres Airport, Belgium) was downloaded from a public data set from Reliable Prognosis, rp5.ru. Permission was obtained from Reliable Prognosis for the distribution of the 4.5 months of weather data.\n",
    "\n",
    "\n",
    "**Relevant Papers:**  \n",
    "Luis M. Candanedo, Veronique Feldheim, Dominique Deramaix, Data driven prediction models of energy use of appliances in a low-energy house, Energy and Buildings, Volume 140, 1 April 2017, Pages 81-97, ISSN 0378-7788,  \n",
    "[Web Link].\n",
    "\n",
    "\n",
    "**Citation Request:**  \n",
    "Luis M. Candanedo, Veronique Feldheim, Dominique Deramaix, Data driven prediction models of energy use of appliances in a low-energy house, Energy and Buildings, Volume 140, 1 April 2017, Pages 81-97, ISSN 0378-7788,  \n",
    "[Web Link]."
   ]
  },
  {
   "cell_type": "code",
   "execution_count": 5,
   "metadata": {
    "colab": {
     "base_uri": "https://localhost:8080/"
    },
    "id": "qOAjTtSXqsCb",
    "outputId": "df64f5c0-c93a-48c8-974e-017da9d5cbbe"
   },
   "outputs": [
    {
     "name": "stdout",
     "output_type": "stream",
     "text": [
      "<class 'pandas.core.frame.DataFrame'>\n",
      "RangeIndex: 19735 entries, 0 to 19734\n",
      "Data columns (total 29 columns):\n",
      " #   Column       Non-Null Count  Dtype  \n",
      "---  ------       --------------  -----  \n",
      " 0   date         19735 non-null  object \n",
      " 1   Appliances   19735 non-null  int64  \n",
      " 2   lights       19735 non-null  int64  \n",
      " 3   T1           19735 non-null  float64\n",
      " 4   RH_1         19735 non-null  float64\n",
      " 5   T2           19735 non-null  float64\n",
      " 6   RH_2         19735 non-null  float64\n",
      " 7   T3           19735 non-null  float64\n",
      " 8   RH_3         19735 non-null  float64\n",
      " 9   T4           19735 non-null  float64\n",
      " 10  RH_4         19735 non-null  float64\n",
      " 11  T5           19735 non-null  float64\n",
      " 12  RH_5         19735 non-null  float64\n",
      " 13  T6           19735 non-null  float64\n",
      " 14  RH_6         19735 non-null  float64\n",
      " 15  T7           19735 non-null  float64\n",
      " 16  RH_7         19735 non-null  float64\n",
      " 17  T8           19735 non-null  float64\n",
      " 18  RH_8         19735 non-null  float64\n",
      " 19  T9           19735 non-null  float64\n",
      " 20  RH_9         19735 non-null  float64\n",
      " 21  T_out        19735 non-null  float64\n",
      " 22  Press_mm_hg  19735 non-null  float64\n",
      " 23  RH_out       19735 non-null  float64\n",
      " 24  Windspeed    19735 non-null  float64\n",
      " 25  Visibility   19735 non-null  float64\n",
      " 26  Tdewpoint    19735 non-null  float64\n",
      " 27  rv1          19735 non-null  float64\n",
      " 28  rv2          19735 non-null  float64\n",
      "dtypes: float64(26), int64(2), object(1)\n",
      "memory usage: 4.4+ MB\n"
     ]
    }
   ],
   "source": [
    "df.info()"
   ]
  },
  {
   "cell_type": "markdown",
   "metadata": {
    "id": "-Fl8s8o80Mb0"
   },
   "source": [
    "### Data Operations"
   ]
  },
  {
   "cell_type": "code",
   "execution_count": 6,
   "metadata": {
    "id": "HPOrJs3p0Jdm"
   },
   "outputs": [],
   "source": [
    "df['date'] = pd.to_datetime(df['date'], infer_datetime_format=True)"
   ]
  },
  {
   "cell_type": "code",
   "execution_count": 7,
   "metadata": {
    "colab": {
     "base_uri": "https://localhost:8080/",
     "height": 563
    },
    "id": "9fa-Kfj153y9",
    "outputId": "1cd2d727-97bd-4891-aed0-cc2e888b5f95"
   },
   "outputs": [
    {
     "data": {
      "text/plain": [
       "array([<AxesSubplot:xlabel='date'>, <AxesSubplot:xlabel='date'>,\n",
       "       <AxesSubplot:xlabel='date'>, <AxesSubplot:xlabel='date'>],\n",
       "      dtype=object)"
      ]
     },
     "execution_count": 7,
     "metadata": {},
     "output_type": "execute_result"
    },
    {
     "data": {
      "image/png": "[encoded data removed]",
      "text/plain": [
       "<Figure size 720x576 with 4 Axes>"
      ]
     },
     "metadata": {
      "needs_background": "light"
     },
     "output_type": "display_data"
    }
   ],
   "source": [
    "df.set_index('date')[['Appliances', 'T_out', 'RH_1', 'Visibility']].plot(subplots=True)"
   ]
  },
  {
   "cell_type": "code",
   "execution_count": 8,
   "metadata": {
    "id": "xBQ8NuG65qlj"
   },
   "outputs": [],
   "source": [
    "df_input = df[['Appliances', 'T_out', 'RH_1', 'Visibility']]"
   ]
  },
  {
   "cell_type": "code",
   "execution_count": 9,
   "metadata": {
    "colab": {
     "base_uri": "https://localhost:8080/",
     "height": 202
    },
    "id": "Ox9R-3ru5wI0",
    "outputId": "3ec20c64-6725-46e4-8d17-e2324df1d44f"
   },
   "outputs": [
    {
     "data": {
      "text/html": [
       "<div>\n",
       "<style scoped>\n",
       "    .dataframe tbody tr th:only-of-type {\n",
       "        vertical-align: middle;\n",
       "    }\n",
       "\n",
       "    .dataframe tbody tr th {\n",
       "        vertical-align: top;\n",
       "    }\n",
       "\n",
       "    .dataframe thead th {\n",
       "        text-align: right;\n",
       "    }\n",
       "</style>\n",
       "<table border=\"1\" class=\"dataframe\">\n",
       "  <thead>\n",
       "    <tr style=\"text-align: right;\">\n",
       "      <th></th>\n",
       "      <th>Appliances</th>\n",
       "      <th>T_out</th>\n",
       "      <th>RH_1</th>\n",
       "      <th>Visibility</th>\n",
       "    </tr>\n",
       "  </thead>\n",
       "  <tbody>\n",
       "    <tr>\n",
       "      <th>0</th>\n",
       "      <td>60</td>\n",
       "      <td>6.600000</td>\n",
       "      <td>47.596667</td>\n",
       "      <td>63.000000</td>\n",
       "    </tr>\n",
       "    <tr>\n",
       "      <th>1</th>\n",
       "      <td>60</td>\n",
       "      <td>6.483333</td>\n",
       "      <td>46.693333</td>\n",
       "      <td>59.166667</td>\n",
       "    </tr>\n",
       "    <tr>\n",
       "      <th>2</th>\n",
       "      <td>50</td>\n",
       "      <td>6.366667</td>\n",
       "      <td>46.300000</td>\n",
       "      <td>55.333333</td>\n",
       "    </tr>\n",
       "    <tr>\n",
       "      <th>3</th>\n",
       "      <td>50</td>\n",
       "      <td>6.250000</td>\n",
       "      <td>46.066667</td>\n",
       "      <td>51.500000</td>\n",
       "    </tr>\n",
       "    <tr>\n",
       "      <th>4</th>\n",
       "      <td>60</td>\n",
       "      <td>6.133333</td>\n",
       "      <td>46.333333</td>\n",
       "      <td>47.666667</td>\n",
       "    </tr>\n",
       "  </tbody>\n",
       "</table>\n",
       "</div>"
      ],
      "text/plain": [
       "   Appliances     T_out       RH_1  Visibility\n",
       "0          60  6.600000  47.596667   63.000000\n",
       "1          60  6.483333  46.693333   59.166667\n",
       "2          50  6.366667  46.300000   55.333333\n",
       "3          50  6.250000  46.066667   51.500000\n",
       "4          60  6.133333  46.333333   47.666667"
      ]
     },
     "execution_count": 9,
     "metadata": {},
     "output_type": "execute_result"
    }
   ],
   "source": [
    "df_input.head()"
   ]
  },
  {
   "cell_type": "code",
   "execution_count": 10,
   "metadata": {
    "colab": {
     "base_uri": "https://localhost:8080/",
     "height": 294
    },
    "id": "VzMEWdnC5wr8",
    "outputId": "5bba0f13-735f-441d-bcd1-c2e800985236"
   },
   "outputs": [
    {
     "data": {
      "text/html": [
       "<div>\n",
       "<style scoped>\n",
       "    .dataframe tbody tr th:only-of-type {\n",
       "        vertical-align: middle;\n",
       "    }\n",
       "\n",
       "    .dataframe tbody tr th {\n",
       "        vertical-align: top;\n",
       "    }\n",
       "\n",
       "    .dataframe thead th {\n",
       "        text-align: right;\n",
       "    }\n",
       "</style>\n",
       "<table border=\"1\" class=\"dataframe\">\n",
       "  <thead>\n",
       "    <tr style=\"text-align: right;\">\n",
       "      <th></th>\n",
       "      <th>Appliances</th>\n",
       "      <th>T_out</th>\n",
       "      <th>RH_1</th>\n",
       "      <th>Visibility</th>\n",
       "    </tr>\n",
       "  </thead>\n",
       "  <tbody>\n",
       "    <tr>\n",
       "      <th>count</th>\n",
       "      <td>19735.000000</td>\n",
       "      <td>19735.000000</td>\n",
       "      <td>19735.000000</td>\n",
       "      <td>19735.000000</td>\n",
       "    </tr>\n",
       "    <tr>\n",
       "      <th>mean</th>\n",
       "      <td>97.694958</td>\n",
       "      <td>7.411665</td>\n",
       "      <td>40.259739</td>\n",
       "      <td>38.330834</td>\n",
       "    </tr>\n",
       "    <tr>\n",
       "      <th>std</th>\n",
       "      <td>102.524891</td>\n",
       "      <td>5.317409</td>\n",
       "      <td>3.979299</td>\n",
       "      <td>11.794719</td>\n",
       "    </tr>\n",
       "    <tr>\n",
       "      <th>min</th>\n",
       "      <td>10.000000</td>\n",
       "      <td>-5.000000</td>\n",
       "      <td>27.023333</td>\n",
       "      <td>1.000000</td>\n",
       "    </tr>\n",
       "    <tr>\n",
       "      <th>25%</th>\n",
       "      <td>50.000000</td>\n",
       "      <td>3.666667</td>\n",
       "      <td>37.333333</td>\n",
       "      <td>29.000000</td>\n",
       "    </tr>\n",
       "    <tr>\n",
       "      <th>50%</th>\n",
       "      <td>60.000000</td>\n",
       "      <td>6.916667</td>\n",
       "      <td>39.656667</td>\n",
       "      <td>40.000000</td>\n",
       "    </tr>\n",
       "    <tr>\n",
       "      <th>75%</th>\n",
       "      <td>100.000000</td>\n",
       "      <td>10.408333</td>\n",
       "      <td>43.066667</td>\n",
       "      <td>40.000000</td>\n",
       "    </tr>\n",
       "    <tr>\n",
       "      <th>max</th>\n",
       "      <td>1080.000000</td>\n",
       "      <td>26.100000</td>\n",
       "      <td>63.360000</td>\n",
       "      <td>66.000000</td>\n",
       "    </tr>\n",
       "  </tbody>\n",
       "</table>\n",
       "</div>"
      ],
      "text/plain": [
       "         Appliances         T_out          RH_1    Visibility\n",
       "count  19735.000000  19735.000000  19735.000000  19735.000000\n",
       "mean      97.694958      7.411665     40.259739     38.330834\n",
       "std      102.524891      5.317409      3.979299     11.794719\n",
       "min       10.000000     -5.000000     27.023333      1.000000\n",
       "25%       50.000000      3.666667     37.333333     29.000000\n",
       "50%       60.000000      6.916667     39.656667     40.000000\n",
       "75%      100.000000     10.408333     43.066667     40.000000\n",
       "max     1080.000000     26.100000     63.360000     66.000000"
      ]
     },
     "execution_count": 10,
     "metadata": {},
     "output_type": "execute_result"
    }
   ],
   "source": [
    "df_input.describe()"
   ]
  },
  {
   "cell_type": "code",
   "execution_count": 11,
   "metadata": {
    "colab": {
     "base_uri": "https://localhost:8080/",
     "height": 414
    },
    "id": "3soNz0qA8TVx",
    "outputId": "e97632ee-75bf-4999-a273-4d6edc192eb1"
   },
   "outputs": [
    {
     "data": {
      "text/html": [
       "<div>\n",
       "<style scoped>\n",
       "    .dataframe tbody tr th:only-of-type {\n",
       "        vertical-align: middle;\n",
       "    }\n",
       "\n",
       "    .dataframe tbody tr th {\n",
       "        vertical-align: top;\n",
       "    }\n",
       "\n",
       "    .dataframe thead th {\n",
       "        text-align: right;\n",
       "    }\n",
       "</style>\n",
       "<table border=\"1\" class=\"dataframe\">\n",
       "  <thead>\n",
       "    <tr style=\"text-align: right;\">\n",
       "      <th></th>\n",
       "      <th>Appliances</th>\n",
       "      <th>T_out</th>\n",
       "      <th>RH_1</th>\n",
       "      <th>Visibility</th>\n",
       "    </tr>\n",
       "  </thead>\n",
       "  <tbody>\n",
       "    <tr>\n",
       "      <th>11</th>\n",
       "      <td>580</td>\n",
       "      <td>5.983333</td>\n",
       "      <td>46.396667</td>\n",
       "      <td>40.000000</td>\n",
       "    </tr>\n",
       "    <tr>\n",
       "      <th>314</th>\n",
       "      <td>520</td>\n",
       "      <td>2.900000</td>\n",
       "      <td>41.530000</td>\n",
       "      <td>36.333333</td>\n",
       "    </tr>\n",
       "    <tr>\n",
       "      <th>392</th>\n",
       "      <td>550</td>\n",
       "      <td>2.033333</td>\n",
       "      <td>43.433333</td>\n",
       "      <td>40.000000</td>\n",
       "    </tr>\n",
       "    <tr>\n",
       "      <th>393</th>\n",
       "      <td>690</td>\n",
       "      <td>2.100000</td>\n",
       "      <td>43.766667</td>\n",
       "      <td>40.000000</td>\n",
       "    </tr>\n",
       "    <tr>\n",
       "      <th>394</th>\n",
       "      <td>620</td>\n",
       "      <td>2.166667</td>\n",
       "      <td>43.693333</td>\n",
       "      <td>40.000000</td>\n",
       "    </tr>\n",
       "    <tr>\n",
       "      <th>...</th>\n",
       "      <td>...</td>\n",
       "      <td>...</td>\n",
       "      <td>...</td>\n",
       "      <td>...</td>\n",
       "    </tr>\n",
       "    <tr>\n",
       "      <th>19586</th>\n",
       "      <td>600</td>\n",
       "      <td>20.833333</td>\n",
       "      <td>44.066667</td>\n",
       "      <td>40.000000</td>\n",
       "    </tr>\n",
       "    <tr>\n",
       "      <th>19587</th>\n",
       "      <td>520</td>\n",
       "      <td>20.900000</td>\n",
       "      <td>43.366667</td>\n",
       "      <td>40.000000</td>\n",
       "    </tr>\n",
       "    <tr>\n",
       "      <th>19684</th>\n",
       "      <td>580</td>\n",
       "      <td>15.900000</td>\n",
       "      <td>47.226667</td>\n",
       "      <td>61.000000</td>\n",
       "    </tr>\n",
       "    <tr>\n",
       "      <th>19685</th>\n",
       "      <td>660</td>\n",
       "      <td>16.100000</td>\n",
       "      <td>47.693333</td>\n",
       "      <td>61.000000</td>\n",
       "    </tr>\n",
       "    <tr>\n",
       "      <th>19695</th>\n",
       "      <td>620</td>\n",
       "      <td>19.100000</td>\n",
       "      <td>48.326667</td>\n",
       "      <td>64.000000</td>\n",
       "    </tr>\n",
       "  </tbody>\n",
       "</table>\n",
       "<p>288 rows × 4 columns</p>\n",
       "</div>"
      ],
      "text/plain": [
       "       Appliances      T_out       RH_1  Visibility\n",
       "11            580   5.983333  46.396667   40.000000\n",
       "314           520   2.900000  41.530000   36.333333\n",
       "392           550   2.033333  43.433333   40.000000\n",
       "393           690   2.100000  43.766667   40.000000\n",
       "394           620   2.166667  43.693333   40.000000\n",
       "...           ...        ...        ...         ...\n",
       "19586         600  20.833333  44.066667   40.000000\n",
       "19587         520  20.900000  43.366667   40.000000\n",
       "19684         580  15.900000  47.226667   61.000000\n",
       "19685         660  16.100000  47.693333   61.000000\n",
       "19695         620  19.100000  48.326667   64.000000\n",
       "\n",
       "[288 rows x 4 columns]"
      ]
     },
     "execution_count": 11,
     "metadata": {},
     "output_type": "execute_result"
    }
   ],
   "source": [
    "df_input.query(\"Appliances>500\")"
   ]
  },
  {
   "cell_type": "markdown",
   "metadata": {
    "id": "lzCdk6ZWJ2IP"
   },
   "source": [
    "The reason of scaling the data before feeding into the neural network model, it provides faster convergence!"
   ]
  },
  {
   "cell_type": "code",
   "execution_count": 12,
   "metadata": {
    "id": "cJv5w3nR_FFa"
   },
   "outputs": [],
   "source": [
    "scaler = MinMaxScaler()\n",
    "data_scaled = scaler.fit_transform(df_input)"
   ]
  },
  {
   "cell_type": "code",
   "execution_count": 13,
   "metadata": {
    "colab": {
     "base_uri": "https://localhost:8080/",
     "height": 294
    },
    "id": "X4yE59KYKMtw",
    "outputId": "95bda1d1-bd0b-491e-b698-fad151887a5a"
   },
   "outputs": [
    {
     "data": {
      "text/html": [
       "<div>\n",
       "<style scoped>\n",
       "    .dataframe tbody tr th:only-of-type {\n",
       "        vertical-align: middle;\n",
       "    }\n",
       "\n",
       "    .dataframe tbody tr th {\n",
       "        vertical-align: top;\n",
       "    }\n",
       "\n",
       "    .dataframe thead th {\n",
       "        text-align: right;\n",
       "    }\n",
       "</style>\n",
       "<table border=\"1\" class=\"dataframe\">\n",
       "  <thead>\n",
       "    <tr style=\"text-align: right;\">\n",
       "      <th></th>\n",
       "      <th>0</th>\n",
       "      <th>1</th>\n",
       "      <th>2</th>\n",
       "      <th>3</th>\n",
       "    </tr>\n",
       "  </thead>\n",
       "  <tbody>\n",
       "    <tr>\n",
       "      <th>count</th>\n",
       "      <td>19735.000000</td>\n",
       "      <td>19735.000000</td>\n",
       "      <td>19735.000000</td>\n",
       "      <td>19735.000000</td>\n",
       "    </tr>\n",
       "    <tr>\n",
       "      <th>mean</th>\n",
       "      <td>0.081958</td>\n",
       "      <td>0.399089</td>\n",
       "      <td>0.364271</td>\n",
       "      <td>0.574321</td>\n",
       "    </tr>\n",
       "    <tr>\n",
       "      <th>std</th>\n",
       "      <td>0.095818</td>\n",
       "      <td>0.170978</td>\n",
       "      <td>0.109512</td>\n",
       "      <td>0.181457</td>\n",
       "    </tr>\n",
       "    <tr>\n",
       "      <th>min</th>\n",
       "      <td>0.000000</td>\n",
       "      <td>0.000000</td>\n",
       "      <td>0.000000</td>\n",
       "      <td>0.000000</td>\n",
       "    </tr>\n",
       "    <tr>\n",
       "      <th>25%</th>\n",
       "      <td>0.037383</td>\n",
       "      <td>0.278671</td>\n",
       "      <td>0.283735</td>\n",
       "      <td>0.430769</td>\n",
       "    </tr>\n",
       "    <tr>\n",
       "      <th>50%</th>\n",
       "      <td>0.046729</td>\n",
       "      <td>0.383173</td>\n",
       "      <td>0.347675</td>\n",
       "      <td>0.600000</td>\n",
       "    </tr>\n",
       "    <tr>\n",
       "      <th>75%</th>\n",
       "      <td>0.084112</td>\n",
       "      <td>0.495445</td>\n",
       "      <td>0.441519</td>\n",
       "      <td>0.600000</td>\n",
       "    </tr>\n",
       "    <tr>\n",
       "      <th>max</th>\n",
       "      <td>1.000000</td>\n",
       "      <td>1.000000</td>\n",
       "      <td>1.000000</td>\n",
       "      <td>1.000000</td>\n",
       "    </tr>\n",
       "  </tbody>\n",
       "</table>\n",
       "</div>"
      ],
      "text/plain": [
       "                  0             1             2             3\n",
       "count  19735.000000  19735.000000  19735.000000  19735.000000\n",
       "mean       0.081958      0.399089      0.364271      0.574321\n",
       "std        0.095818      0.170978      0.109512      0.181457\n",
       "min        0.000000      0.000000      0.000000      0.000000\n",
       "25%        0.037383      0.278671      0.283735      0.430769\n",
       "50%        0.046729      0.383173      0.347675      0.600000\n",
       "75%        0.084112      0.495445      0.441519      0.600000\n",
       "max        1.000000      1.000000      1.000000      1.000000"
      ]
     },
     "execution_count": 13,
     "metadata": {},
     "output_type": "execute_result"
    }
   ],
   "source": [
    "pd.DataFrame(data_scaled).describe()"
   ]
  },
  {
   "cell_type": "code",
   "execution_count": 14,
   "metadata": {
    "id": "7FT3dwI-KP0i"
   },
   "outputs": [],
   "source": [
    "features = data_scaled\n",
    "target = data_scaled[:,0] #\"Appliances\" will be the target!"
   ]
  },
  {
   "cell_type": "code",
   "execution_count": 15,
   "metadata": {
    "colab": {
     "base_uri": "https://localhost:8080/"
    },
    "id": "yMx065zVMimX",
    "outputId": "77df3a39-2c69-41ed-d94d-703e9783a15b"
   },
   "outputs": [
    {
     "data": {
      "text/plain": [
       "(array([[[0.04672897, 0.37299035, 0.56618659, 0.95384615],\n",
       "         [0.04672897, 0.36923901, 0.54132648, 0.89487179]]]),\n",
       " array([0.03738318]))"
      ]
     },
     "execution_count": 15,
     "metadata": {},
     "output_type": "execute_result"
    }
   ],
   "source": [
    "TimeseriesGenerator(features, target, length=2, sampling_rate=1, batch_size=1)[0]"
   ]
  },
  {
   "cell_type": "code",
   "execution_count": 16,
   "metadata": {
    "id": "rw-TaViAMqQF"
   },
   "outputs": [],
   "source": [
    "x_train, x_test, y_train, y_test = train_test_split(features, target, test_size=0.2, random_state=123, shuffle=False)"
   ]
  },
  {
   "cell_type": "code",
   "execution_count": 17,
   "metadata": {
    "colab": {
     "base_uri": "https://localhost:8080/"
    },
    "id": "tR8EbvGUMyC9",
    "outputId": "5127338d-e3cf-47ef-9077-0856fcdb9330"
   },
   "outputs": [
    {
     "name": "stdout",
     "output_type": "stream",
     "text": [
      "Train shape:  (15788, 4)\n",
      "Test shape:  (3947, 4)\n"
     ]
    }
   ],
   "source": [
    "print(\"Train shape: \", x_train.shape)\n",
    "print(\"Test shape: \", x_test.shape)"
   ]
  },
  {
   "cell_type": "code",
   "execution_count": 18,
   "metadata": {
    "id": "-ruHjbwAM2KS"
   },
   "outputs": [],
   "source": [
    "# TRAINING/TEST GENERATORS\n",
    "\n",
    "'''\n",
    "The data is sampled in every 10 minutes which means 6 datapoints per hour.\n",
    "That is 144 datapoints per day and 720 datapoints for 5 days.\n",
    "'''\n",
    "win_length = 720\n",
    "batch_size = 32\n",
    "num_features = 4\n",
    "\n",
    "train_generator = TimeseriesGenerator(x_train, y_train, length=win_length, sampling_rate=1, batch_size=batch_size)\n",
    "test_generator = TimeseriesGenerator(x_test, y_test, length=win_length, sampling_rate=1, batch_size=batch_size)"
   ]
  },
  {
   "cell_type": "code",
   "execution_count": 19,
   "metadata": {
    "colab": {
     "base_uri": "https://localhost:8080/"
    },
    "id": "0njDqzf_Qan8",
    "outputId": "bff2796e-2564-47a9-8f2e-178fb01b2cdb"
   },
   "outputs": [
    {
     "data": {
      "text/plain": [
       "(array([[[0.04672897, 0.37299035, 0.56618659, 0.95384615],\n",
       "         [0.04672897, 0.36923901, 0.54132648, 0.89487179],\n",
       "         [0.03738318, 0.36548767, 0.53050179, 0.83589744],\n",
       "         ...,\n",
       "         [0.06542056, 0.25241158, 0.31584258, 0.79230769],\n",
       "         [0.05607477, 0.23901393, 0.31309054, 0.72820513],\n",
       "         [0.06542056, 0.22561629, 0.31107238, 0.66410256]],\n",
       " \n",
       "        [[0.04672897, 0.36923901, 0.54132648, 0.89487179],\n",
       "         [0.03738318, 0.36548767, 0.53050179, 0.83589744],\n",
       "         [0.03738318, 0.36173633, 0.52408036, 0.77692308],\n",
       "         ...,\n",
       "         [0.05607477, 0.23901393, 0.31309054, 0.72820513],\n",
       "         [0.06542056, 0.22561629, 0.31107238, 0.66410256],\n",
       "         [0.06542056, 0.21221865, 0.30923768, 0.6       ]],\n",
       " \n",
       "        [[0.03738318, 0.36548767, 0.53050179, 0.83589744],\n",
       "         [0.03738318, 0.36173633, 0.52408036, 0.77692308],\n",
       "         [0.04672897, 0.35798499, 0.53141914, 0.71794872],\n",
       "         ...,\n",
       "         [0.06542056, 0.22561629, 0.31107238, 0.66410256],\n",
       "         [0.06542056, 0.21221865, 0.30923768, 0.6       ],\n",
       "         [0.13084112, 0.2170418 , 0.3055683 , 0.6       ]],\n",
       " \n",
       "        ...,\n",
       " \n",
       "        [[0.08411215, 0.34297964, 0.50389872, 0.6       ],\n",
       "         [0.09345794, 0.34083601, 0.49821117, 0.6       ],\n",
       "         [0.36448598, 0.34244373, 0.49380791, 0.6       ],\n",
       "         ...,\n",
       "         [0.08411215, 0.17470525, 0.32134667, 0.24615385],\n",
       "         [0.09345794, 0.17524116, 0.31749381, 0.26923077],\n",
       "         [0.09345794, 0.17577706, 0.31400789, 0.29230769]],\n",
       " \n",
       "        [[0.09345794, 0.34083601, 0.49821117, 0.6       ],\n",
       "         [0.36448598, 0.34244373, 0.49380791, 0.6       ],\n",
       "         [0.36448598, 0.34405145, 0.48830383, 0.6       ],\n",
       "         ...,\n",
       "         [0.09345794, 0.17524116, 0.31749381, 0.26923077],\n",
       "         [0.09345794, 0.17577706, 0.31400789, 0.29230769],\n",
       "         [0.1682243 , 0.17631297, 0.31208146, 0.31538462]],\n",
       " \n",
       "        [[0.36448598, 0.34244373, 0.49380791, 0.6       ],\n",
       "         [0.36448598, 0.34405145, 0.48830383, 0.6       ],\n",
       "         [0.35514019, 0.34565916, 0.48261627, 0.6       ],\n",
       "         ...,\n",
       "         [0.09345794, 0.17577706, 0.31400789, 0.29230769],\n",
       "         [0.1682243 , 0.17631297, 0.31208146, 0.31538462],\n",
       "         [0.41121495, 0.17684887, 0.3100633 , 0.33846154]]]),\n",
       " array([0.06542056, 0.13084112, 0.34579439, 0.26168224, 0.24299065,\n",
       "        0.38317757, 0.25233645, 0.27102804, 0.31775701, 0.24299065,\n",
       "        0.51401869, 1.        , 0.69158879, 0.35514019, 0.31775701,\n",
       "        0.30841121, 0.26168224, 0.20560748, 0.10280374, 0.09345794,\n",
       "        0.08411215, 0.09345794, 0.11214953, 0.12149533, 0.09345794,\n",
       "        0.08411215, 0.08411215, 0.09345794, 0.09345794, 0.1682243 ,\n",
       "        0.41121495, 0.18691589]))"
      ]
     },
     "execution_count": 19,
     "metadata": {},
     "output_type": "execute_result"
    }
   ],
   "source": [
    "'''\n",
    "32 observations\n",
    "Each observation's length is 720\n",
    "Each observation contain 4 features\n",
    "'''\n",
    "train_generator[0]"
   ]
  },
  {
   "cell_type": "code",
   "execution_count": 20,
   "metadata": {
    "id": "rr9QBdyWQ_VG"
   },
   "outputs": [],
   "source": [
    "# CREATING THE MODEL\n",
    "model = tf.keras.Sequential()\n",
    "\n",
    "model.add(tf.keras.layers.LSTM(128, input_shape=(win_length, num_features), return_sequences=True))\n",
    "model.add(tf.keras.layers.LeakyReLU(alpha=0.5))\n",
    "model.add(tf.keras.layers.LSTM(128, return_sequences=True))\n",
    "model.add(tf.keras.layers.LeakyReLU(alpha=0.5))\n",
    "model.add(tf.keras.layers.Dropout(0.3))\n",
    "model.add(tf.keras.layers.LSTM(64, return_sequences=False))\n",
    "model.add(tf.keras.layers.Dropout(0.3))\n",
    "model.add(tf.keras.layers.Dense(1))"
   ]
  },
  {
   "cell_type": "code",
   "execution_count": 21,
   "metadata": {
    "colab": {
     "base_uri": "https://localhost:8080/"
    },
    "id": "gUvILdLjS0PC",
    "outputId": "616a51c9-66b7-439d-88de-734ae04da04b"
   },
   "outputs": [
    {
     "name": "stdout",
     "output_type": "stream",
     "text": [
      "Model: \"sequential\"\n",
      "_________________________________________________________________\n",
      "Layer (type)                 Output Shape              Param #   \n",
      "=================================================================\n",
      "lstm (LSTM)                  (None, 720, 128)          68096     \n",
      "_________________________________________________________________\n",
      "leaky_re_lu (LeakyReLU)      (None, 720, 128)          0         \n",
      "_________________________________________________________________\n",
      "lstm_1 (LSTM)                (None, 720, 128)          131584    \n",
      "_________________________________________________________________\n",
      "leaky_re_lu_1 (LeakyReLU)    (None, 720, 128)          0         \n",
      "_________________________________________________________________\n",
      "dropout (Dropout)            (None, 720, 128)          0         \n",
      "_________________________________________________________________\n",
      "lstm_2 (LSTM)                (None, 64)                49408     \n",
      "_________________________________________________________________\n",
      "dropout_1 (Dropout)          (None, 64)                0         \n",
      "_________________________________________________________________\n",
      "dense (Dense)                (None, 1)                 65        \n",
      "=================================================================\n",
      "Total params: 249,153\n",
      "Trainable params: 249,153\n",
      "Non-trainable params: 0\n",
      "_________________________________________________________________\n"
     ]
    }
   ],
   "source": [
    "model.summary()"
   ]
  },
  {
   "cell_type": "code",
   "execution_count": 23,
   "metadata": {
    "colab": {
     "base_uri": "https://localhost:8080/"
    },
    "id": "oS5PbQ3nS7NK",
    "outputId": "2c3fcbe8-26ac-48bf-f301-a45c36727fd5"
   },
   "outputs": [
    {
     "name": "stdout",
     "output_type": "stream",
     "text": [
      "Epoch 1/50\n",
      "471/471 [==============================] - 120s 249ms/step - loss: 0.0058 - mean_absolute_error: 0.0395 - val_loss: 0.0036 - val_mean_absolute_error: 0.0326\n",
      "Epoch 2/50\n",
      "471/471 [==============================] - 214s 454ms/step - loss: 0.0043 - mean_absolute_error: 0.0329 - val_loss: 0.0033 - val_mean_absolute_error: 0.0288\n",
      "Epoch 3/50\n",
      "471/471 [==============================] - 213s 453ms/step - loss: 0.0041 - mean_absolute_error: 0.0315 - val_loss: 0.0032 - val_mean_absolute_error: 0.0281\n",
      "Epoch 4/50\n",
      "471/471 [==============================] - 214s 455ms/step - loss: 0.0040 - mean_absolute_error: 0.0313 - val_loss: 0.0032 - val_mean_absolute_error: 0.0282\n",
      "Epoch 5/50\n",
      "471/471 [==============================] - 213s 453ms/step - loss: 0.0040 - mean_absolute_error: 0.0310 - val_loss: 0.0032 - val_mean_absolute_error: 0.0278\n",
      "Epoch 6/50\n",
      "471/471 [==============================] - 213s 453ms/step - loss: 0.0040 - mean_absolute_error: 0.0306 - val_loss: 0.0032 - val_mean_absolute_error: 0.0276\n",
      "Epoch 7/50\n",
      "471/471 [==============================] - 61s 130ms/step - loss: 0.0040 - mean_absolute_error: 0.0308 - val_loss: 0.0032 - val_mean_absolute_error: 0.0269\n",
      "Epoch 8/50\n",
      "471/471 [==============================] - 44s 94ms/step - loss: 0.0040 - mean_absolute_error: 0.0306 - val_loss: 0.0032 - val_mean_absolute_error: 0.0295\n",
      "Epoch 9/50\n",
      "471/471 [==============================] - 45s 95ms/step - loss: 0.0039 - mean_absolute_error: 0.0305 - val_loss: 0.0032 - val_mean_absolute_error: 0.0284\n"
     ]
    }
   ],
   "source": [
    "'''\n",
    "If the validation loss is not improving in \"2\" iterations (patience),\n",
    "the training stops early!\n",
    "'''\n",
    "\n",
    "early_stopping = tf.keras.callbacks.EarlyStopping(monitor='val_loss',\n",
    "                                                  patience=2,\n",
    "                                                  mode='min')\n",
    "\n",
    "model.compile(loss = tf.losses.MeanSquaredError(),\n",
    "              optimizer = tf.optimizers.Adam(),\n",
    "              metrics = [tf.metrics.MeanAbsoluteError()])\n",
    "\n",
    "history = model.fit_generator(train_generator, epochs=50,\n",
    "                              validation_data=test_generator,\n",
    "                              shuffle=False,\n",
    "                              callbacks=[early_stopping])"
   ]
  },
  {
   "cell_type": "code",
   "execution_count": 24,
   "metadata": {
    "colab": {
     "base_uri": "https://localhost:8080/"
    },
    "id": "33x1x85sTduF",
    "outputId": "86ba4374-2e49-4d7b-9ff6-08936aea0948"
   },
   "outputs": [
    {
     "name": "stderr",
     "output_type": "stream",
     "text": [
      "/home/smws7105/anaconda3/lib/python3.8/site-packages/keras/engine/training.py:2006: UserWarning: `Model.evaluate_generator` is deprecated and will be removed in a future version. Please use `Model.evaluate`, which supports generators.\n",
      "  warnings.warn('`Model.evaluate_generator` is deprecated and '\n"
     ]
    },
    {
     "data": {
      "text/plain": [
       "[0.003199260449036956, 0.02841751091182232]"
      ]
     },
     "execution_count": 24,
     "metadata": {},
     "output_type": "execute_result"
    }
   ],
   "source": [
    "model.evaluate_generator(test_generator, verbose=0)"
   ]
  },
  {
   "cell_type": "code",
   "execution_count": 25,
   "metadata": {
    "colab": {
     "base_uri": "https://localhost:8080/"
    },
    "id": "Z0Lyl03NUA02",
    "outputId": "4afb25ea-6002-4982-f169-6bae4f382f1a"
   },
   "outputs": [
    {
     "name": "stderr",
     "output_type": "stream",
     "text": [
      "/home/smws7105/anaconda3/lib/python3.8/site-packages/keras/engine/training.py:2035: UserWarning: `Model.predict_generator` is deprecated and will be removed in a future version. Please use `Model.predict`, which supports generators.\n",
      "  warnings.warn('`Model.predict_generator` is deprecated and '\n"
     ]
    }
   ],
   "source": [
    "predictions = model.predict_generator(test_generator)"
   ]
  },
  {
   "cell_type": "code",
   "execution_count": 26,
   "metadata": {
    "colab": {
     "base_uri": "https://localhost:8080/"
    },
    "id": "X6rgywb0UGih",
    "outputId": "95b7d3a5-a314-47b1-e67b-26321ac2baa0"
   },
   "outputs": [
    {
     "name": "stdout",
     "output_type": "stream",
     "text": [
      "The number of predictions:  3227\n",
      "The value of first prediction:  [0.07044706]\n"
     ]
    }
   ],
   "source": [
    "print(\"The number of predictions: \", predictions.shape[0])\n",
    "print(\"The value of first prediction: \", predictions[0])"
   ]
  },
  {
   "cell_type": "code",
   "execution_count": 27,
   "metadata": {
    "colab": {
     "base_uri": "https://localhost:8080/"
    },
    "id": "4lT6bjugUIMX",
    "outputId": "65624c60-3d5e-4642-e4d5-1ba52e72063b"
   },
   "outputs": [
    {
     "data": {
      "text/plain": [
       "array([[0.45337621, 0.20851298, 0.6       ],\n",
       "       [0.47106109, 0.18282726, 0.6       ],\n",
       "       [0.48874598, 0.18466196, 0.6       ],\n",
       "       ...,\n",
       "       [0.88317256, 0.53866618, 0.37435897],\n",
       "       [0.87888532, 0.54949087, 0.38717949],\n",
       "       [0.87459807, 0.53875791, 0.4       ]])"
      ]
     },
     "execution_count": 27,
     "metadata": {},
     "output_type": "execute_result"
    }
   ],
   "source": [
    "x_test[:,1:][win_length:]"
   ]
  },
  {
   "cell_type": "code",
   "execution_count": 28,
   "metadata": {
    "id": "vtSdHNMgULj1"
   },
   "outputs": [],
   "source": [
    "df_pred = pd.concat([pd.DataFrame(predictions), pd.DataFrame(x_test[:,1:][win_length:])], axis=1)"
   ]
  },
  {
   "cell_type": "code",
   "execution_count": 29,
   "metadata": {
    "id": "25YJceWOiN3P"
   },
   "outputs": [],
   "source": [
    "rev_trans = scaler.inverse_transform(df_pred)"
   ]
  },
  {
   "cell_type": "code",
   "execution_count": 30,
   "metadata": {
    "colab": {
     "base_uri": "https://localhost:8080/"
    },
    "id": "csdRzjHTiR0d",
    "outputId": "0a5e1a7f-afbb-4e7e-862d-4b4539ea6aa6"
   },
   "outputs": [
    {
     "data": {
      "text/plain": [
       "array([[ 85.37835151,   9.1       ,  34.6       ,  40.        ],\n",
       "       [117.10351162,   9.65      ,  33.66666667,  40.        ],\n",
       "       [141.7304863 ,  10.2       ,  33.73333333,  40.        ],\n",
       "       ...,\n",
       "       [ 99.54554439,  22.46666667,  46.59666667,  25.33333333],\n",
       "       [294.49117333,  22.33333333,  46.99      ,  26.16666667],\n",
       "       [291.4433676 ,  22.2       ,  46.6       ,  27.        ]])"
      ]
     },
     "execution_count": 30,
     "metadata": {},
     "output_type": "execute_result"
    }
   ],
   "source": [
    "rev_trans"
   ]
  },
  {
   "cell_type": "code",
   "execution_count": 31,
   "metadata": {
    "id": "5BbFdtv9iSSe"
   },
   "outputs": [],
   "source": [
    "df_final = df_input[predictions.shape[0]*-1:]"
   ]
  },
  {
   "cell_type": "code",
   "execution_count": 32,
   "metadata": {
    "colab": {
     "base_uri": "https://localhost:8080/"
    },
    "id": "KfPCx4XyieGr",
    "outputId": "5c747b4b-a439-4b02-c8bc-0d7b9fcf1beb"
   },
   "outputs": [
    {
     "data": {
      "text/plain": [
       "Appliances    3227\n",
       "T_out         3227\n",
       "RH_1          3227\n",
       "Visibility    3227\n",
       "dtype: int64"
      ]
     },
     "execution_count": 32,
     "metadata": {},
     "output_type": "execute_result"
    }
   ],
   "source": [
    "df_final.count()"
   ]
  },
  {
   "cell_type": "code",
   "execution_count": 33,
   "metadata": {
    "colab": {
     "base_uri": "https://localhost:8080/",
     "height": 521
    },
    "id": "ZaXNcEVeigw0",
    "outputId": "7ee7d0e3-af20-4b4e-822a-bbbda578b38a"
   },
   "outputs": [
    {
     "name": "stderr",
     "output_type": "stream",
     "text": [
      "<ipython-input-33-33b61a21d4ec>:1: SettingWithCopyWarning: \n",
      "A value is trying to be set on a copy of a slice from a DataFrame.\n",
      "Try using .loc[row_indexer,col_indexer] = value instead\n",
      "\n",
      "See the caveats in the documentation: https://pandas.pydata.org/pandas-docs/stable/user_guide/indexing.html#returning-a-view-versus-a-copy\n",
      "  df_final['App_Pred'] = rev_trans[:,0]\n"
     ]
    },
    {
     "data": {
      "text/html": [
       "<div>\n",
       "<style scoped>\n",
       "    .dataframe tbody tr th:only-of-type {\n",
       "        vertical-align: middle;\n",
       "    }\n",
       "\n",
       "    .dataframe tbody tr th {\n",
       "        vertical-align: top;\n",
       "    }\n",
       "\n",
       "    .dataframe thead th {\n",
       "        text-align: right;\n",
       "    }\n",
       "</style>\n",
       "<table border=\"1\" class=\"dataframe\">\n",
       "  <thead>\n",
       "    <tr style=\"text-align: right;\">\n",
       "      <th></th>\n",
       "      <th>Appliances</th>\n",
       "      <th>T_out</th>\n",
       "      <th>RH_1</th>\n",
       "      <th>Visibility</th>\n",
       "      <th>App_Pred</th>\n",
       "    </tr>\n",
       "  </thead>\n",
       "  <tbody>\n",
       "    <tr>\n",
       "      <th>16508</th>\n",
       "      <td>90</td>\n",
       "      <td>9.100000</td>\n",
       "      <td>34.600000</td>\n",
       "      <td>40.000000</td>\n",
       "      <td>85.378352</td>\n",
       "    </tr>\n",
       "    <tr>\n",
       "      <th>16509</th>\n",
       "      <td>120</td>\n",
       "      <td>9.650000</td>\n",
       "      <td>33.666667</td>\n",
       "      <td>40.000000</td>\n",
       "      <td>117.103512</td>\n",
       "    </tr>\n",
       "    <tr>\n",
       "      <th>16510</th>\n",
       "      <td>390</td>\n",
       "      <td>10.200000</td>\n",
       "      <td>33.733333</td>\n",
       "      <td>40.000000</td>\n",
       "      <td>141.730486</td>\n",
       "    </tr>\n",
       "    <tr>\n",
       "      <th>16511</th>\n",
       "      <td>240</td>\n",
       "      <td>10.750000</td>\n",
       "      <td>34.072500</td>\n",
       "      <td>40.000000</td>\n",
       "      <td>383.177227</td>\n",
       "    </tr>\n",
       "    <tr>\n",
       "      <th>16512</th>\n",
       "      <td>120</td>\n",
       "      <td>11.300000</td>\n",
       "      <td>33.630000</td>\n",
       "      <td>40.000000</td>\n",
       "      <td>165.471320</td>\n",
       "    </tr>\n",
       "    <tr>\n",
       "      <th>...</th>\n",
       "      <td>...</td>\n",
       "      <td>...</td>\n",
       "      <td>...</td>\n",
       "      <td>...</td>\n",
       "      <td>...</td>\n",
       "    </tr>\n",
       "    <tr>\n",
       "      <th>19730</th>\n",
       "      <td>100</td>\n",
       "      <td>22.733333</td>\n",
       "      <td>46.560000</td>\n",
       "      <td>23.666667</td>\n",
       "      <td>99.541718</td>\n",
       "    </tr>\n",
       "    <tr>\n",
       "      <th>19731</th>\n",
       "      <td>90</td>\n",
       "      <td>22.600000</td>\n",
       "      <td>46.500000</td>\n",
       "      <td>24.500000</td>\n",
       "      <td>115.991600</td>\n",
       "    </tr>\n",
       "    <tr>\n",
       "      <th>19732</th>\n",
       "      <td>270</td>\n",
       "      <td>22.466667</td>\n",
       "      <td>46.596667</td>\n",
       "      <td>25.333333</td>\n",
       "      <td>99.545544</td>\n",
       "    </tr>\n",
       "    <tr>\n",
       "      <th>19733</th>\n",
       "      <td>420</td>\n",
       "      <td>22.333333</td>\n",
       "      <td>46.990000</td>\n",
       "      <td>26.166667</td>\n",
       "      <td>294.491173</td>\n",
       "    </tr>\n",
       "    <tr>\n",
       "      <th>19734</th>\n",
       "      <td>430</td>\n",
       "      <td>22.200000</td>\n",
       "      <td>46.600000</td>\n",
       "      <td>27.000000</td>\n",
       "      <td>291.443368</td>\n",
       "    </tr>\n",
       "  </tbody>\n",
       "</table>\n",
       "<p>3227 rows × 5 columns</p>\n",
       "</div>"
      ],
      "text/plain": [
       "       Appliances      T_out       RH_1  Visibility    App_Pred\n",
       "16508          90   9.100000  34.600000   40.000000   85.378352\n",
       "16509         120   9.650000  33.666667   40.000000  117.103512\n",
       "16510         390  10.200000  33.733333   40.000000  141.730486\n",
       "16511         240  10.750000  34.072500   40.000000  383.177227\n",
       "16512         120  11.300000  33.630000   40.000000  165.471320\n",
       "...           ...        ...        ...         ...         ...\n",
       "19730         100  22.733333  46.560000   23.666667   99.541718\n",
       "19731          90  22.600000  46.500000   24.500000  115.991600\n",
       "19732         270  22.466667  46.596667   25.333333   99.545544\n",
       "19733         420  22.333333  46.990000   26.166667  294.491173\n",
       "19734         430  22.200000  46.600000   27.000000  291.443368\n",
       "\n",
       "[3227 rows x 5 columns]"
      ]
     },
     "execution_count": 33,
     "metadata": {},
     "output_type": "execute_result"
    }
   ],
   "source": [
    "df_final['App_Pred'] = rev_trans[:,0]\n",
    "df_final"
   ]
  },
  {
   "cell_type": "code",
   "execution_count": 34,
   "metadata": {
    "colab": {
     "base_uri": "https://localhost:8080/",
     "height": 501
    },
    "id": "IkHjIXpFiqDm",
    "outputId": "79aff942-8e4e-489d-f465-1dec606af5a7"
   },
   "outputs": [
    {
     "data": {
      "text/plain": [
       "<AxesSubplot:>"
      ]
     },
     "execution_count": 34,
     "metadata": {},
     "output_type": "execute_result"
    },
    {
     "data": {
      "image/png": "[encoded data removed]",
      "text/plain": [
       "<Figure size 720x576 with 1 Axes>"
      ]
     },
     "metadata": {
      "needs_background": "light"
     },
     "output_type": "display_data"
    }
   ],
   "source": [
    "df_final[['Appliances', 'App_Pred']].plot()"
   ]
  }
 ],
 "metadata": {
  "colab": {
   "authorship_tag": "ABX9TyNDTFFCynuUStZWUHEbNh12",
   "collapsed_sections": [],
   "include_colab_link": true,
   "name": "Multivariate Time Series Modeling via LSTM.ipynb",
   "provenance": []
  },
  "kernelspec": {
   "display_name": "Python 3",
   "language": "python",
   "name": "python3"
  },
  "language_info": {
   "codemirror_mode": {
    "name": "ipython",
    "version": 3
   },
   "file_extension": ".py",
   "mimetype": "text/x-python",
   "name": "python",
   "nbconvert_exporter": "python",
   "pygments_lexer": "ipython3",
   "version": "3.8.8"
  }
 },
 "nbformat": 4,
 "nbformat_minor": 1
}
