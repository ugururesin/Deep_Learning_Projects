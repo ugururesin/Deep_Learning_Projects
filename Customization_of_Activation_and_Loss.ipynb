{
  "nbformat": 4,
  "nbformat_minor": 0,
  "metadata": {
    "colab": {
      "name": "Customization_of_Activation_and_Loss.ipynb",
      "provenance": [],
      "collapsed_sections": [],
      "authorship_tag": "ABX9TyNyXD34efxa3de74cAA2VCA",
      "include_colab_link": true
    },
    "kernelspec": {
      "name": "python3",
      "display_name": "Python 3"
    },
    "language_info": {
      "name": "python"
    }
  },
  "cells": [
    {
      "cell_type": "markdown",
      "metadata": {
        "id": "view-in-github",
        "colab_type": "text"
      },
      "source": [
        "<a href=\"https://colab.research.google.com/github/ugururesin/Deep_Learning_Projects/blob/main/Customization_of_Activation_and_Loss.ipynb\" target=\"_parent\"><img src=\"https://colab.research.google.com/assets/colab-badge.svg\" alt=\"Open In Colab\"/></a>"
      ]
    },
    {
      "cell_type": "code",
      "metadata": {
        "id": "w7KUvfJ5AlFS"
      },
      "source": [
        "## Importing Libraries\n",
        "import tensorflow as tf\n",
        "import numpy as np"
      ],
      "execution_count": 3,
      "outputs": []
    },
    {
      "cell_type": "code",
      "metadata": {
        "colab": {
          "base_uri": "https://localhost:8080/"
        },
        "id": "994SNqTpMIzB",
        "outputId": "7d534dec-a549-43b6-88f0-21bb2ed81001"
      },
      "source": [
        "tf.version"
      ],
      "execution_count": 10,
      "outputs": [
        {
          "output_type": "execute_result",
          "data": {
            "text/plain": [
              "<module 'tensorflow._api.v2.version' from '/usr/local/lib/python3.7/dist-packages/tensorflow/_api/v2/version/__init__.py'>"
            ]
          },
          "metadata": {},
          "execution_count": 10
        }
      ]
    },
    {
      "cell_type": "code",
      "metadata": {
        "colab": {
          "base_uri": "https://localhost:8080/"
        },
        "id": "3NL03InWGQI-",
        "outputId": "e8e0e72f-e406-470c-9697-2307d4dd3632"
      },
      "source": [
        "## Testing Tensorflow Library\n",
        "c1 = tf.constant(2)\n",
        "c2 = tf.constant(5)\n",
        "tf.multiply(c1,c2)"
      ],
      "execution_count": 4,
      "outputs": [
        {
          "output_type": "execute_result",
          "data": {
            "text/plain": [
              "<tf.Tensor: shape=(), dtype=int32, numpy=10>"
            ]
          },
          "metadata": {},
          "execution_count": 4
        }
      ]
    },
    {
      "cell_type": "code",
      "metadata": {
        "colab": {
          "base_uri": "https://localhost:8080/"
        },
        "id": "sIx__EUOGaNY",
        "outputId": "9e4a0ae0-6ab4-47e0-dc97-d9b81a7fee68"
      },
      "source": [
        "## Creating an Sigmoid Function\n",
        "x = tf.constant(5.0)\n",
        "sigmoid_val = tf.divide(1.0, tf.add(1.0, tf.exp(tf.negative(x))))\n",
        "sigmoid_val"
      ],
      "execution_count": 15,
      "outputs": [
        {
          "output_type": "execute_result",
          "data": {
            "text/plain": [
              "<tf.Tensor: shape=(), dtype=float32, numpy=0.9933072>"
            ]
          },
          "metadata": {},
          "execution_count": 15
        }
      ]
    },
    {
      "cell_type": "code",
      "metadata": {
        "colab": {
          "base_uri": "https://localhost:8080/"
        },
        "id": "MFAXnmEELRc_",
        "outputId": "28d88ee5-3a84-4d87-bd0a-56b63319c25b"
      },
      "source": [
        "## Creating a Derivative\n",
        "x = tf.constant([5.0])\n",
        "\n",
        "with tf.GradientTape() as t:\n",
        "  t.watch(x)\n",
        "  y = tf.divide(1.0, tf.add(1.0, tf.exp(tf.negative(x))))\n",
        "\n",
        "\n",
        "# Derivative of y with respect to the original input tensor x\n",
        "dy_dx = t.gradient(y,x)\n",
        "print(\"The sigmoid value: \", y)\n",
        "print(\"The derivative of sigmoid: \", dy_dx)"
      ],
      "execution_count": 21,
      "outputs": [
        {
          "output_type": "stream",
          "name": "stdout",
          "text": [
            "The sigmoid value:  tf.Tensor([0.9933072], shape=(1,), dtype=float32)\n",
            "The derivative of sigmoid:  tf.Tensor([0.00664806], shape=(1,), dtype=float32)\n"
          ]
        }
      ]
    },
    {
      "cell_type": "markdown",
      "metadata": {
        "id": "TQcJWJjwZMOe"
      },
      "source": [
        "### Custom Loss Function"
      ]
    },
    {
      "cell_type": "code",
      "metadata": {
        "id": "mGXiWYmUSAhT"
      },
      "source": [
        "## Root Mean Square Error (RMSE)\n",
        "def mean_pred(y_true, y_pred):\n",
        "    return tf.sqrt(tf.divide(tf.reduce_sum(tf.pow(tf.subtract(y_true, y_pred),2.0)),tf.cast(tf.size(y_true), tf.float32)))"
      ],
      "execution_count": 24,
      "outputs": []
    },
    {
      "cell_type": "code",
      "metadata": {
        "id": "ibVLCbYHYl93"
      },
      "source": [
        "from tensorflow.keras.models import Sequential\n",
        "from tensorflow.keras.layers import Dense, Activation\n",
        "import pandas as pd\n",
        "import io\n",
        "import os\n",
        "import requests\n",
        "import numpy as np\n",
        "from sklearn import metrics\n",
        "\n",
        "df = pd.read_csv(\n",
        "    \"https://data.heatonresearch.com/data/t81-558/auto-mpg.csv\", \n",
        "    na_values=['NA', '?'])\n",
        "\n",
        "cars = df['name']\n",
        "\n",
        "# Handle missing value\n",
        "df['horsepower'] = df['horsepower'].fillna(df['horsepower'].median())\n",
        "\n",
        "# Pandas to Numpy\n",
        "x = df[['cylinders', 'displacement', 'horsepower', 'weight',\n",
        "       'acceleration', 'year', 'origin']].values\n",
        "y = df['mpg'].values # regression\n",
        "\n",
        "# Build the neural network\n",
        "model = Sequential()\n",
        "model.add(Dense(25, input_dim=x.shape[1], activation='relu')) # Hidden 1\n",
        "model.add(Dense(10, activation='relu')) # Hidden 2\n",
        "model.add(Dense(1)) # Output\n",
        "\n",
        "# Compiling the Network\n",
        "model.compile(loss=mean_pred, optimizer='adam')\n",
        "\n",
        "# Training the Network\n",
        "model_01 = model.fit(x,y,verbose=0,epochs=100)"
      ],
      "execution_count": 40,
      "outputs": []
    },
    {
      "cell_type": "code",
      "metadata": {
        "colab": {
          "base_uri": "https://localhost:8080/"
        },
        "id": "7q1bwv3sZ-FG",
        "outputId": "89f52162-a14b-424d-ab73-edacbfc14976"
      },
      "source": [
        "history_dict1 = model_01.history\n",
        "history_dict1.keys()"
      ],
      "execution_count": 41,
      "outputs": [
        {
          "output_type": "execute_result",
          "data": {
            "text/plain": [
              "dict_keys(['loss'])"
            ]
          },
          "metadata": {},
          "execution_count": 41
        }
      ]
    },
    {
      "cell_type": "code",
      "metadata": {
        "colab": {
          "base_uri": "https://localhost:8080/",
          "height": 295
        },
        "id": "9gvZoxSpaNHg",
        "outputId": "306ba064-468e-4b14-a1f7-1d453533923c"
      },
      "source": [
        "#Plotting the training and validation loss\n",
        "import matplotlib.pyplot as plt\n",
        "\n",
        "loss_values = history_dict1['loss']\n",
        "epochs = range(1, len(history_dict1['loss']) + 1)\n",
        "\n",
        "plt.plot(epochs, loss_values, 'bo', label='Training loss') #bo:blue-dot\n",
        "plt.title('Training loss')\n",
        "plt.xlabel('Epochs')\n",
        "plt.ylabel('Loss')\n",
        "plt.legend()\n",
        "\n",
        "plt.show()"
      ],
      "execution_count": 42,
      "outputs": [
        {
          "output_type": "display_data",
          "data": {
            "image/png": "[encoded data removed]",
            "text/plain": [
              "<Figure size 432x288 with 1 Axes>"
            ]
          },
          "metadata": {
            "needs_background": "light"
          }
        }
      ]
    },
    {
      "cell_type": "markdown",
      "metadata": {
        "id": "MPDxIJ1AY-jy"
      },
      "source": [
        "### Custom Activation (Transfer) Functions"
      ]
    },
    {
      "cell_type": "code",
      "metadata": {
        "id": "BOG7KSiWZA6M"
      },
      "source": [
        "def elliot_sym(x):\n",
        "    return tf.divide(x,tf.add(1.0,tf.abs(x)))"
      ],
      "execution_count": 36,
      "outputs": []
    },
    {
      "cell_type": "code",
      "metadata": {
        "id": "_sBnd5xvakHe"
      },
      "source": [
        "from tensorflow.keras.models import Sequential\n",
        "from tensorflow.keras.layers import Dense, Activation\n",
        "import pandas as pd\n",
        "import io\n",
        "import os\n",
        "import requests\n",
        "import numpy as np\n",
        "from sklearn import metrics\n",
        "\n",
        "df = pd.read_csv(\n",
        "    \"https://data.heatonresearch.com/data/t81-558/auto-mpg.csv\", \n",
        "    na_values=['NA', '?'])\n",
        "\n",
        "cars = df['name']\n",
        "\n",
        "# Handle missing value\n",
        "df['horsepower'] = df['horsepower'].fillna(df['horsepower'].median())\n",
        "\n",
        "# Pandas to Numpy\n",
        "x = df[['cylinders', 'displacement', 'horsepower', 'weight',\n",
        "       'acceleration', 'year', 'origin']].values\n",
        "y = df['mpg'].values # regression\n",
        "\n",
        "# Build the neural network\n",
        "sgd = tf.keras.optimizers.SGD(learning_rate=1e-10, decay=1e-6, momentum=0.9, nesterov=True)\n",
        "model = Sequential()\n",
        "model.add(Dense(25, input_dim=x.shape[1], activation=elliot_sym)) # Hidden 1\n",
        "model.add(Dense(10, activation=elliot_sym)) # Hidden 2\n",
        "model.add(Dense(1)) # Output\n",
        "\n",
        "# Compiling the neural network\n",
        "model.compile(loss='mean_squared_error', optimizer='adam')\n",
        "\n",
        "# Training the model\n",
        "model_02 = model.fit(x,y,verbose=0,epochs=400)"
      ],
      "execution_count": 45,
      "outputs": []
    },
    {
      "cell_type": "code",
      "metadata": {
        "colab": {
          "base_uri": "https://localhost:8080/"
        },
        "id": "XVrdehpPam8w",
        "outputId": "f1814bcd-2678-411d-c636-7cd268ca26bf"
      },
      "source": [
        "history_dict2 = model_02.history\n",
        "history_dict2.keys()"
      ],
      "execution_count": 46,
      "outputs": [
        {
          "output_type": "execute_result",
          "data": {
            "text/plain": [
              "dict_keys(['loss'])"
            ]
          },
          "metadata": {},
          "execution_count": 46
        }
      ]
    },
    {
      "cell_type": "code",
      "metadata": {
        "colab": {
          "base_uri": "https://localhost:8080/",
          "height": 295
        },
        "id": "v5dgFNe-jpDG",
        "outputId": "23514db9-4a81-4d56-c963-16fdffc3290b"
      },
      "source": [
        "#Plotting the training and validation loss\n",
        "import matplotlib.pyplot as plt\n",
        "\n",
        "loss_values = history_dict2['loss']\n",
        "epochs = range(1, len(history_dict2['loss']) + 1)\n",
        "\n",
        "plt.plot(epochs, loss_values, 'bo', label='Training loss') #bo:blue-dot\n",
        "plt.title('Training loss')\n",
        "plt.xlabel('Epochs')\n",
        "plt.ylabel('Loss')\n",
        "plt.legend()\n",
        "\n",
        "plt.show()"
      ],
      "execution_count": 47,
      "outputs": [
        {
          "output_type": "display_data",
          "data": {
            "image/png": "[encoded data removed]",
            "text/plain": [
              "<Figure size 432x288 with 1 Axes>"
            ]
          },
          "metadata": {
            "needs_background": "light"
          }
        }
      ]
    },
    {
      "cell_type": "code",
      "metadata": {
        "id": "Si9HL7QMj2w8"
      },
      "source": [
        ""
      ],
      "execution_count": null,
      "outputs": []
    }
  ]
}