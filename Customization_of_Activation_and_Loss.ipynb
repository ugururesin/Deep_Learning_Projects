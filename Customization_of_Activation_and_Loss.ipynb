{
  "nbformat": 4,
  "nbformat_minor": 0,
  "metadata": {
    "colab": {
      "name": "Customization_of_Activation_and_Loss.ipynb",
      "provenance": [],
      "authorship_tag": "ABX9TyNrn+0jTpTdruTa4Gaj8HUz",
      "include_colab_link": true
    },
    "kernelspec": {
      "name": "python3",
      "display_name": "Python 3"
    },
    "language_info": {
      "name": "python"
    }
  },
  "cells": [
    {
      "cell_type": "markdown",
      "metadata": {
        "id": "view-in-github",
        "colab_type": "text"
      },
      "source": [
        "<a href=\"https://colab.research.google.com/github/ugururesin/Deep_Learning_Projects/blob/main/Customization_of_Activation_and_Loss.ipynb\" target=\"_parent\"><img src=\"https://colab.research.google.com/assets/colab-badge.svg\" alt=\"Open In Colab\"/></a>"
      ]
    },
    {
      "cell_type": "code",
      "metadata": {
        "id": "w7KUvfJ5AlFS"
      },
      "source": [
        "## Importing Libraries\n",
        "import tensorflow as tf\n",
        "import numpy as np"
      ],
      "execution_count": 3,
      "outputs": []
    },
    {
      "cell_type": "code",
      "metadata": {
        "colab": {
          "base_uri": "https://localhost:8080/"
        },
        "id": "994SNqTpMIzB",
        "outputId": "7d534dec-a549-43b6-88f0-21bb2ed81001"
      },
      "source": [
        "tf.version"
      ],
      "execution_count": 10,
      "outputs": [
        {
          "output_type": "execute_result",
          "data": {
            "text/plain": [
              "<module 'tensorflow._api.v2.version' from '/usr/local/lib/python3.7/dist-packages/tensorflow/_api/v2/version/__init__.py'>"
            ]
          },
          "metadata": {},
          "execution_count": 10
        }
      ]
    },
    {
      "cell_type": "code",
      "metadata": {
        "colab": {
          "base_uri": "https://localhost:8080/"
        },
        "id": "3NL03InWGQI-",
        "outputId": "e8e0e72f-e406-470c-9697-2307d4dd3632"
      },
      "source": [
        "## Testing Tensorflow Library\n",
        "c1 = tf.constant(2)\n",
        "c2 = tf.constant(5)\n",
        "tf.multiply(c1,c2)"
      ],
      "execution_count": 4,
      "outputs": [
        {
          "output_type": "execute_result",
          "data": {
            "text/plain": [
              "<tf.Tensor: shape=(), dtype=int32, numpy=10>"
            ]
          },
          "metadata": {},
          "execution_count": 4
        }
      ]
    },
    {
      "cell_type": "code",
      "metadata": {
        "colab": {
          "base_uri": "https://localhost:8080/"
        },
        "id": "sIx__EUOGaNY",
        "outputId": "9e4a0ae0-6ab4-47e0-dc97-d9b81a7fee68"
      },
      "source": [
        "## Creating an Sigmoid Function\n",
        "x = tf.constant(5.0)\n",
        "sigmoid_val = tf.divide(1.0, tf.add(1.0, tf.exp(tf.negative(x))))\n",
        "sigmoid_val"
      ],
      "execution_count": 15,
      "outputs": [
        {
          "output_type": "execute_result",
          "data": {
            "text/plain": [
              "<tf.Tensor: shape=(), dtype=float32, numpy=0.9933072>"
            ]
          },
          "metadata": {},
          "execution_count": 15
        }
      ]
    },
    {
      "cell_type": "code",
      "metadata": {
        "colab": {
          "base_uri": "https://localhost:8080/"
        },
        "id": "MFAXnmEELRc_",
        "outputId": "28d88ee5-3a84-4d87-bd0a-56b63319c25b"
      },
      "source": [
        "## Derivative Example\n",
        "x = tf.constant([5.0])\n",
        "\n",
        "with tf.GradientTape() as t:\n",
        "  t.watch(x)\n",
        "  y = tf.divide(1.0, tf.add(1.0, tf.exp(tf.negative(x))))\n",
        "\n",
        "# Derivative of y with respect to the original input tensor x\n",
        "dy_dx = t.gradient(y,x)\n",
        "print(\"The sigmoid value: \", y)\n",
        "print(\"The derivative of sigmoid: \", dy_dx)"
      ],
      "execution_count": 21,
      "outputs": [
        {
          "output_type": "stream",
          "name": "stdout",
          "text": [
            "The sigmoid value:  tf.Tensor([0.9933072], shape=(1,), dtype=float32)\n",
            "The derivative of sigmoid:  tf.Tensor([0.00664806], shape=(1,), dtype=float32)\n"
          ]
        }
      ]
    },
    {
      "cell_type": "code",
      "metadata": {
        "id": "mGXiWYmUSAhT"
      },
      "source": [
        ""
      ],
      "execution_count": null,
      "outputs": []
    }
  ]
}