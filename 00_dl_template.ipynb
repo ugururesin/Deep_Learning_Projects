{
 "cells": [
  {
   "cell_type": "markdown",
   "id": "a8c611d5",
   "metadata": {},
   "source": [
    "# Deep-Learning with Keras\n",
    "\n",
    "#### Ugur URESIN, AI Engineer | Data Scientist\n",
    "#### Mail: uresin.ugur@gmail.com"
   ]
  },
  {
   "cell_type": "markdown",
   "id": "34489f13",
   "metadata": {},
   "source": [
    "* STEP-1\n",
    "* STEP-2\n",
    "* STEP-3"
   ]
  },
  {
   "cell_type": "markdown",
   "id": "83aebaaa",
   "metadata": {},
   "source": [
    "## Chapter XX. The Chapter Title"
   ]
  },
  {
   "cell_type": "code",
   "execution_count": 1,
   "id": "b95b4fb5",
   "metadata": {},
   "outputs": [],
   "source": [
    "## IMPORTING LIBRARIES\n",
    "import numpy as np"
   ]
  },
  {
   "cell_type": "markdown",
   "id": "e63bdea8",
   "metadata": {},
   "source": [
    "#### Subsection"
   ]
  },
  {
   "cell_type": "code",
   "execution_count": null,
   "id": "bf25ef6a",
   "metadata": {},
   "outputs": [],
   "source": []
  }
 ],
 "metadata": {
  "kernelspec": {
   "display_name": "Python 3",
   "language": "python",
   "name": "python3"
  },
  "language_info": {
   "codemirror_mode": {
    "name": "ipython",
    "version": 3
   },
   "file_extension": ".py",
   "mimetype": "text/x-python",
   "name": "python",
   "nbconvert_exporter": "python",
   "pygments_lexer": "ipython3",
   "version": "3.8.8"
  }
 },
 "nbformat": 4,
 "nbformat_minor": 5
}
