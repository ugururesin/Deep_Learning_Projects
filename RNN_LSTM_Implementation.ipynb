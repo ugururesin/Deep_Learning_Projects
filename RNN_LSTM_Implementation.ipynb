{
  "nbformat": 4,
  "nbformat_minor": 0,
  "metadata": {
    "colab": {
      "name": "RNN_LSTM_Implementation.ipynb",
      "provenance": [],
      "collapsed_sections": [],
      "authorship_tag": "ABX9TyPGQLxgwofsSQqkmU+rN8Ql",
      "include_colab_link": true
    },
    "kernelspec": {
      "name": "python3",
      "display_name": "Python 3"
    },
    "language_info": {
      "name": "python"
    }
  },
  "cells": [
    {
      "cell_type": "markdown",
      "metadata": {
        "id": "view-in-github",
        "colab_type": "text"
      },
      "source": [
        "<a href=\"https://colab.research.google.com/github/ugururesin/Deep_Learning_Projects/blob/main/RNN_LSTM_Implementation.ipynb\" target=\"_parent\"><img src=\"https://colab.research.google.com/assets/colab-badge.svg\" alt=\"Open In Colab\"/></a>"
      ]
    },
    {
      "cell_type": "markdown",
      "metadata": {
        "id": "SLkU0g4UlyQR"
      },
      "source": [
        "### Content\n",
        "\n",
        "1. LSTM Implementation\n",
        "2. Visualize the results and convergence\n",
        "3. Multi layer LSTM implementation\n",
        "4. Variable sized inputs"
      ]
    },
    {
      "cell_type": "markdown",
      "metadata": {
        "id": "ftO5K4XkmCty"
      },
      "source": [
        "#### Toy Example"
      ]
    },
    {
      "cell_type": "code",
      "metadata": {
        "id": "3S8Wd7BomDFd"
      },
      "source": [
        "## IMPORTING LIBRARIRES\n",
        "from keras.models import Sequential\n",
        "from keras.layers import Dense\n",
        "from keras.layers import LSTM\n",
        "from sklearn.model_selection import train_test_split\n",
        "\n",
        "import numpy as np\n",
        "import matplotlib.pyplot as plt"
      ],
      "execution_count": 1,
      "outputs": []
    },
    {
      "cell_type": "code",
      "metadata": {
        "id": "1pzy_3hpmYxn"
      },
      "source": [
        "## DATA CREATION\n",
        "inputs = [[[i+j] for i in range(5)] for j in range(100)]\n",
        "target = [(i+5)  for i in range(100)]"
      ],
      "execution_count": 2,
      "outputs": []
    },
    {
      "cell_type": "code",
      "metadata": {
        "colab": {
          "base_uri": "https://localhost:8080/"
        },
        "id": "X1u8M-H3qCQS",
        "outputId": "43ff499c-b3f4-46cf-f541-7009d7423f35"
      },
      "source": [
        "inputs[0:5]"
      ],
      "execution_count": 3,
      "outputs": [
        {
          "output_type": "execute_result",
          "data": {
            "text/plain": [
              "[[[0], [1], [2], [3], [4]],\n",
              " [[1], [2], [3], [4], [5]],\n",
              " [[2], [3], [4], [5], [6]],\n",
              " [[3], [4], [5], [6], [7]],\n",
              " [[4], [5], [6], [7], [8]]]"
            ]
          },
          "metadata": {},
          "execution_count": 3
        }
      ]
    },
    {
      "cell_type": "code",
      "metadata": {
        "colab": {
          "base_uri": "https://localhost:8080/"
        },
        "id": "Ql1cyAMKqJjI",
        "outputId": "f7592a32-6e20-415b-f57e-8ded7ed752e4"
      },
      "source": [
        "target[0:5]"
      ],
      "execution_count": 4,
      "outputs": [
        {
          "output_type": "execute_result",
          "data": {
            "text/plain": [
              "[5, 6, 7, 8, 9]"
            ]
          },
          "metadata": {},
          "execution_count": 4
        }
      ]
    },
    {
      "cell_type": "markdown",
      "metadata": {
        "id": "0A8bG9etrUlz"
      },
      "source": [
        ""
      ]
    },
    {
      "cell_type": "code",
      "metadata": {
        "id": "lqVNjKI9q68C"
      },
      "source": [
        "# DATA SPLITTING\n",
        "x_train, x_test, y_train, y_test = train_test_split(inputs , target, test_size=.2, random_state=4)"
      ],
      "execution_count": 5,
      "outputs": []
    },
    {
      "cell_type": "code",
      "metadata": {
        "id": "dhLTF5Ybrc-q"
      },
      "source": [
        "# RNN MODEL\n",
        "model = Sequential()\n",
        "\n",
        "model.add(LSTM((1), batch_input_shape=(None,5,1), return_sequences=False))\n",
        "#1 is the OUTPUT-SIZE, batch_input_shape: #inputs, length_inputs, length_each vector\n",
        "\n",
        "model.compile(loss='mean_absolute_error', optimizer='adam', metrics=['accuracy'])"
      ],
      "execution_count": 6,
      "outputs": []
    },
    {
      "cell_type": "code",
      "metadata": {
        "colab": {
          "base_uri": "https://localhost:8080/"
        },
        "id": "0dZmbqjAsM67",
        "outputId": "23b7ab60-326f-4edc-98f8-ebd6cc4275d7"
      },
      "source": [
        "model.summary()"
      ],
      "execution_count": 7,
      "outputs": [
        {
          "output_type": "stream",
          "name": "stdout",
          "text": [
            "Model: \"sequential\"\n",
            "_________________________________________________________________\n",
            "Layer (type)                 Output Shape              Param #   \n",
            "=================================================================\n",
            "lstm (LSTM)                  (None, 1)                 12        \n",
            "=================================================================\n",
            "Total params: 12\n",
            "Trainable params: 12\n",
            "Non-trainable params: 0\n",
            "_________________________________________________________________\n"
          ]
        }
      ]
    },
    {
      "cell_type": "code",
      "metadata": {
        "id": "CNFxB1KRtHp7"
      },
      "source": [
        "history = model.fit(x_train, y_train, epochs=500, validation_data=(x_test, y_test), verbose=0)"
      ],
      "execution_count": 8,
      "outputs": []
    },
    {
      "cell_type": "code",
      "metadata": {
        "id": "UMDAilH5tSQc"
      },
      "source": [
        "results = model.predict(x_test)"
      ],
      "execution_count": 9,
      "outputs": []
    },
    {
      "cell_type": "code",
      "metadata": {
        "colab": {
          "base_uri": "https://localhost:8080/",
          "height": 264
        },
        "id": "NMLO2sIKtmr8",
        "outputId": "9c81cdf6-5bc8-48dc-c104-f70a00ceeaea"
      },
      "source": [
        "plt.scatter(range(20), y_test, c='g')\n",
        "plt.scatter(range(20), results, c='r')\n",
        "plt.show()"
      ],
      "execution_count": 10,
      "outputs": [
        {
          "output_type": "display_data",
          "data": {
            "image/png": "[encoded data removed]",
            "text/plain": [
              "<Figure size 432x288 with 1 Axes>"
            ]
          },
          "metadata": {
            "needs_background": "light"
          }
        }
      ]
    },
    {
      "cell_type": "code",
      "metadata": {
        "colab": {
          "base_uri": "https://localhost:8080/",
          "height": 264
        },
        "id": "0s7Uceb_tw7m",
        "outputId": "f222de25-4fdf-4da1-b248-97498be39eef"
      },
      "source": [
        "plt.plot(history.history['loss'])\n",
        "plt.show()"
      ],
      "execution_count": 11,
      "outputs": [
        {
          "output_type": "display_data",
          "data": {
            "image/png": "[encoded data removed]",
            "text/plain": [
              "<Figure size 432x288 with 1 Axes>"
            ]
          },
          "metadata": {
            "needs_background": "light"
          }
        }
      ]
    },
    {
      "cell_type": "markdown",
      "metadata": {
        "id": "uJfwT47zuW3u"
      },
      "source": [
        "As it can be seen on the plot, the loss is too high!  \n",
        "The main reason is that the data was not normalized!\n",
        "\n",
        "Thus, in order to increase the loss, **the data need to be normalized** first!"
      ]
    },
    {
      "cell_type": "code",
      "metadata": {
        "id": "KetT2FHnut1T"
      },
      "source": [
        "## DATA NORMALIZATION\n",
        "normal_inputs = [[[(i+j)/100] for i in range(5)] for j in range(100)]\n",
        "normal_target = [(i+5)/100    for i in range(100)]"
      ],
      "execution_count": 18,
      "outputs": []
    },
    {
      "cell_type": "code",
      "metadata": {
        "colab": {
          "base_uri": "https://localhost:8080/"
        },
        "id": "NAHk2JcHutwe",
        "outputId": "2d238bf4-b288-4d59-a938-92b2c9a58ab5"
      },
      "source": [
        "normal_inputs[0:5]"
      ],
      "execution_count": 19,
      "outputs": [
        {
          "output_type": "execute_result",
          "data": {
            "text/plain": [
              "[[[0.0], [0.01], [0.02], [0.03], [0.04]],\n",
              " [[0.01], [0.02], [0.03], [0.04], [0.05]],\n",
              " [[0.02], [0.03], [0.04], [0.05], [0.06]],\n",
              " [[0.03], [0.04], [0.05], [0.06], [0.07]],\n",
              " [[0.04], [0.05], [0.06], [0.07], [0.08]]]"
            ]
          },
          "metadata": {},
          "execution_count": 19
        }
      ]
    },
    {
      "cell_type": "code",
      "metadata": {
        "colab": {
          "base_uri": "https://localhost:8080/"
        },
        "id": "B137s9_Xt8Fn",
        "outputId": "20210ba1-db8b-4784-8700-074f46a57265"
      },
      "source": [
        "# DATA SPLITTING\n",
        "x_train, x_test, y_train, y_test = train_test_split(normal_inputs , normal_target, test_size=.2, random_state=4)\n",
        "\n",
        "# RNN MODEL\n",
        "model = Sequential()\n",
        "\n",
        "model.add(LSTM((1), batch_input_shape=(None,5,1), return_sequences=False))\n",
        "#1 is the OUTPUT-SIZE, batch_input_shape: #inputs, length_inputs, length_each vector\n",
        "\n",
        "model.compile(loss='mean_absolute_error', optimizer='adam', metrics=['accuracy'])\n",
        "model.summary()\n",
        "\n",
        "history = model.fit(x_train, y_train, epochs=500, validation_data=(x_test, y_test), verbose=0)\n",
        "\n",
        "results = model.predict(x_test)"
      ],
      "execution_count": 20,
      "outputs": [
        {
          "output_type": "stream",
          "name": "stdout",
          "text": [
            "Model: \"sequential_3\"\n",
            "_________________________________________________________________\n",
            "Layer (type)                 Output Shape              Param #   \n",
            "=================================================================\n",
            "lstm_3 (LSTM)                (None, 1)                 12        \n",
            "=================================================================\n",
            "Total params: 12\n",
            "Trainable params: 12\n",
            "Non-trainable params: 0\n",
            "_________________________________________________________________\n"
          ]
        }
      ]
    },
    {
      "cell_type": "code",
      "metadata": {
        "colab": {
          "base_uri": "https://localhost:8080/",
          "height": 264
        },
        "id": "W1kKcas_v3Dq",
        "outputId": "ddf6aafe-0c3d-48e7-98bd-b6b786a8274c"
      },
      "source": [
        "plt.scatter(range(20), y_test, c='g')\n",
        "plt.scatter(range(20), results, c='r')\n",
        "plt.show()"
      ],
      "execution_count": 21,
      "outputs": [
        {
          "output_type": "display_data",
          "data": {
            "image/png": "[encoded data removed]",
            "text/plain": [
              "<Figure size 432x288 with 1 Axes>"
            ]
          },
          "metadata": {
            "needs_background": "light"
          }
        }
      ]
    },
    {
      "cell_type": "code",
      "metadata": {
        "colab": {
          "base_uri": "https://localhost:8080/",
          "height": 264
        },
        "id": "23EcC8WLwEPm",
        "outputId": "f54f89cf-28c5-4ff2-b9d7-f15e557b6fd2"
      },
      "source": [
        "plt.plot(history.history['loss'])\n",
        "plt.show()"
      ],
      "execution_count": 22,
      "outputs": [
        {
          "output_type": "display_data",
          "data": {
            "image/png": "[encoded data removed]",
            "text/plain": [
              "<Figure size 432x288 with 1 Axes>"
            ]
          },
          "metadata": {
            "needs_background": "light"
          }
        }
      ]
    },
    {
      "cell_type": "markdown",
      "metadata": {
        "id": "-HexTdvBfDjz"
      },
      "source": [
        "### Variable Size Inputs  \n",
        "* Since the model is trained by inputs whose length is 5, we may padding zeros for the inputs whose length is less than 5.  \n",
        "\n",
        "* Another solution is to make the sequence **None** by making the **batch_input_size** (None, None, 1)"
      ]
    },
    {
      "cell_type": "code",
      "metadata": {
        "id": "ZxTT0w9sgQFr"
      },
      "source": [
        "## DATA NORMALIZATION\n",
        "normal_inputs = [[[(i+j)/100] for i in range(7)] for j in range(100)]\n",
        "normal_target = [(i+7)/100    for i in range(100)]\n",
        "\n",
        "# DATA SPLITTING\n",
        "x_train, x_test, y_train, y_test = train_test_split(normal_inputs , normal_target, test_size=.2, random_state=4)"
      ],
      "execution_count": 27,
      "outputs": []
    },
    {
      "cell_type": "code",
      "metadata": {
        "colab": {
          "base_uri": "https://localhost:8080/",
          "height": 480
        },
        "id": "RQmDKJMSfRiw",
        "outputId": "f4501c24-7057-4b9e-824a-b7c23f694ab1"
      },
      "source": [
        "# RNN MODEL\n",
        "model = Sequential()\n",
        "model.add(LSTM((1), batch_input_shape=(None,None,1), return_sequences=False))\n",
        "\n",
        "model.compile(loss='mean_absolute_error', optimizer='adam', metrics=['accuracy'])\n",
        "model.summary()\n",
        "\n",
        "history = model.fit(x_train, y_train, epochs=500, validation_data=(x_test, y_test), verbose=0)\n",
        "results = model.predict(x_test)"
      ],
      "execution_count": 29,
      "outputs": [
        {
          "output_type": "stream",
          "name": "stdout",
          "text": [
            "Model: \"sequential_8\"\n",
            "_________________________________________________________________\n",
            "Layer (type)                 Output Shape              Param #   \n",
            "=================================================================\n",
            "lstm_8 (LSTM)                (None, 1)                 12        \n",
            "=================================================================\n",
            "Total params: 12\n",
            "Trainable params: 12\n",
            "Non-trainable params: 0\n",
            "_________________________________________________________________\n",
            "WARNING:tensorflow:6 out of the last 6 calls to <function Model.make_predict_function.<locals>.predict_function at 0x7f3cf9f774d0> triggered tf.function retracing. Tracing is expensive and the excessive number of tracings could be due to (1) creating @tf.function repeatedly in a loop, (2) passing tensors with different shapes, (3) passing Python objects instead of tensors. For (1), please define your @tf.function outside of the loop. For (2), @tf.function has experimental_relax_shapes=True option that relaxes argument shapes that can avoid unnecessary retracing. For (3), please refer to https://www.tensorflow.org/guide/function#controlling_retracing and https://www.tensorflow.org/api_docs/python/tf/function for  more details.\n"
          ]
        },
        {
          "output_type": "display_data",
          "data": {
            "image/png": "[encoded data removed]",
            "text/plain": [
              "<Figure size 432x288 with 1 Axes>"
            ]
          },
          "metadata": {
            "needs_background": "light"
          }
        }
      ]
    },
    {
      "cell_type": "code",
      "metadata": {
        "colab": {
          "base_uri": "https://localhost:8080/",
          "height": 264
        },
        "id": "URcCOQFeiswM",
        "outputId": "de484239-4813-4922-93a6-568ac790f173"
      },
      "source": [
        "plt.scatter(range(20), y_test, c='g')\n",
        "plt.scatter(range(20), results, c='r')\n",
        "plt.show()"
      ],
      "execution_count": 30,
      "outputs": [
        {
          "output_type": "display_data",
          "data": {
            "image/png": "[encoded data removed]",
            "text/plain": [
              "<Figure size 432x288 with 1 Axes>"
            ]
          },
          "metadata": {
            "needs_background": "light"
          }
        }
      ]
    },
    {
      "cell_type": "code",
      "metadata": {
        "colab": {
          "base_uri": "https://localhost:8080/",
          "height": 264
        },
        "id": "L14DuUQPir9o",
        "outputId": "f6e70989-47d3-4d28-dd9a-3e7899e7913d"
      },
      "source": [
        "plt.plot(history.history['loss'])\n",
        "plt.show()"
      ],
      "execution_count": 31,
      "outputs": [
        {
          "output_type": "display_data",
          "data": {
            "image/png": "[encoded data removed]",
            "text/plain": [
              "<Figure size 432x288 with 1 Axes>"
            ]
          },
          "metadata": {
            "needs_background": "light"
          }
        }
      ]
    }
  ]
}