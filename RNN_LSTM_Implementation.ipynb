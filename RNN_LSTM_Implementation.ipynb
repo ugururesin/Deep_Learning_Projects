{
  "nbformat": 4,
  "nbformat_minor": 0,
  "metadata": {
    "colab": {
      "name": "RNN_LSTM_Implementation.ipynb",
      "provenance": [],
      "collapsed_sections": [],
      "authorship_tag": "ABX9TyOVjwQMxQiVfoFJWW9dXVoH",
      "include_colab_link": true
    },
    "kernelspec": {
      "name": "python3",
      "display_name": "Python 3"
    },
    "language_info": {
      "name": "python"
    }
  },
  "cells": [
    {
      "cell_type": "markdown",
      "metadata": {
        "id": "view-in-github",
        "colab_type": "text"
      },
      "source": [
        "<a href=\"https://colab.research.google.com/github/ugururesin/Deep_Learning_Projects/blob/main/RNN_LSTM_Implementation.ipynb\" target=\"_parent\"><img src=\"https://colab.research.google.com/assets/colab-badge.svg\" alt=\"Open In Colab\"/></a>"
      ]
    },
    {
      "cell_type": "markdown",
      "metadata": {
        "id": "SLkU0g4UlyQR"
      },
      "source": [
        "### Content\n",
        "\n",
        "1. LSTM Implementation\n",
        "2. Visualize the results and convergence\n",
        "3. Multi layer LSTM implementation\n",
        "4. Variable sized inputs"
      ]
    },
    {
      "cell_type": "markdown",
      "metadata": {
        "id": "ftO5K4XkmCty"
      },
      "source": [
        "#### Toy Example"
      ]
    },
    {
      "cell_type": "code",
      "metadata": {
        "id": "3S8Wd7BomDFd"
      },
      "source": [
        "## IMPORTING LIBRARIRES\n",
        "from keras.models import Sequential\n",
        "from keras.layers import Dense\n",
        "from keras.layers import LSTM\n",
        "from sklearn.model_selection import train_test_split\n",
        "\n",
        "import numpy as np\n",
        "import matplotlib.pyplot as plt"
      ],
      "execution_count": 1,
      "outputs": []
    },
    {
      "cell_type": "code",
      "metadata": {
        "id": "1pzy_3hpmYxn"
      },
      "source": [
        "## DATA CREATION\n",
        "inputs = [[[i+j] for i in range(5)] for j in range(100)]\n",
        "target = [(i+5)  for i in range(100)]"
      ],
      "execution_count": 2,
      "outputs": []
    },
    {
      "cell_type": "code",
      "metadata": {
        "colab": {
          "base_uri": "https://localhost:8080/"
        },
        "id": "X1u8M-H3qCQS",
        "outputId": "43ff499c-b3f4-46cf-f541-7009d7423f35"
      },
      "source": [
        "inputs[0:5]"
      ],
      "execution_count": 3,
      "outputs": [
        {
          "output_type": "execute_result",
          "data": {
            "text/plain": [
              "[[[0], [1], [2], [3], [4]],\n",
              " [[1], [2], [3], [4], [5]],\n",
              " [[2], [3], [4], [5], [6]],\n",
              " [[3], [4], [5], [6], [7]],\n",
              " [[4], [5], [6], [7], [8]]]"
            ]
          },
          "metadata": {},
          "execution_count": 3
        }
      ]
    },
    {
      "cell_type": "code",
      "metadata": {
        "colab": {
          "base_uri": "https://localhost:8080/"
        },
        "id": "Ql1cyAMKqJjI",
        "outputId": "f7592a32-6e20-415b-f57e-8ded7ed752e4"
      },
      "source": [
        "target[0:5]"
      ],
      "execution_count": 4,
      "outputs": [
        {
          "output_type": "execute_result",
          "data": {
            "text/plain": [
              "[5, 6, 7, 8, 9]"
            ]
          },
          "metadata": {},
          "execution_count": 4
        }
      ]
    },
    {
      "cell_type": "markdown",
      "metadata": {
        "id": "0A8bG9etrUlz"
      },
      "source": [
        ""
      ]
    },
    {
      "cell_type": "code",
      "metadata": {
        "id": "lqVNjKI9q68C"
      },
      "source": [
        "# DATA SPLITTING\n",
        "x_train, x_test, y_train, y_test = train_test_split(inputs , target, test_size=.2, random_state=4)"
      ],
      "execution_count": 5,
      "outputs": []
    },
    {
      "cell_type": "code",
      "metadata": {
        "id": "dhLTF5Ybrc-q"
      },
      "source": [
        "# RNN MODEL\n",
        "model = Sequential()\n",
        "\n",
        "model.add(LSTM((1), batch_input_shape=(None,5,1), return_sequences=False))\n",
        "#1 is the OUTPUT-SIZE, batch_input_shape: #inputs, length_inputs, length_each vector\n",
        "\n",
        "model.compile(loss='mean_absolute_error', optimizer='adam', metrics=['accuracy'])"
      ],
      "execution_count": 6,
      "outputs": []
    },
    {
      "cell_type": "code",
      "metadata": {
        "colab": {
          "base_uri": "https://localhost:8080/"
        },
        "id": "0dZmbqjAsM67",
        "outputId": "23b7ab60-326f-4edc-98f8-ebd6cc4275d7"
      },
      "source": [
        "model.summary()"
      ],
      "execution_count": 7,
      "outputs": [
        {
          "output_type": "stream",
          "name": "stdout",
          "text": [
            "Model: \"sequential\"\n",
            "_________________________________________________________________\n",
            "Layer (type)                 Output Shape              Param #   \n",
            "=================================================================\n",
            "lstm (LSTM)                  (None, 1)                 12        \n",
            "=================================================================\n",
            "Total params: 12\n",
            "Trainable params: 12\n",
            "Non-trainable params: 0\n",
            "_________________________________________________________________\n"
          ]
        }
      ]
    },
    {
      "cell_type": "code",
      "metadata": {
        "id": "CNFxB1KRtHp7"
      },
      "source": [
        "history = model.fit(x_train, y_train, epochs=500, validation_data=(x_test, y_test), verbose=0)"
      ],
      "execution_count": 8,
      "outputs": []
    },
    {
      "cell_type": "code",
      "metadata": {
        "id": "UMDAilH5tSQc"
      },
      "source": [
        "results = model.predict(x_test)"
      ],
      "execution_count": 9,
      "outputs": []
    },
    {
      "cell_type": "code",
      "metadata": {
        "colab": {
          "base_uri": "https://localhost:8080/",
          "height": 265
        },
        "id": "NMLO2sIKtmr8",
        "outputId": "9c81cdf6-5bc8-48dc-c104-f70a00ceeaea"
      },
      "source": [
        "plt.scatter(range(20), y_test, c='g')\n",
        "plt.scatter(range(20), results, c='r')\n",
        "plt.show()"
      ],
      "execution_count": 10,
      "outputs": [
        {
          "output_type": "display_data",
          "data": {
            "image/png": "[encoded data removed]",
            "text/plain": [
              "<Figure size 432x288 with 1 Axes>"
            ]
          },
          "metadata": {
            "needs_background": "light"
          }
        }
      ]
    },
    {
      "cell_type": "code",
      "metadata": {
        "colab": {
          "base_uri": "https://localhost:8080/",
          "height": 265
        },
        "id": "0s7Uceb_tw7m",
        "outputId": "f222de25-4fdf-4da1-b248-97498be39eef"
      },
      "source": [
        "plt.plot(history.history['loss'])\n",
        "plt.show()"
      ],
      "execution_count": 11,
      "outputs": [
        {
          "output_type": "display_data",
          "data": {
            "image/png": "[encoded data removed]",
            "text/plain": [
              "<Figure size 432x288 with 1 Axes>"
            ]
          },
          "metadata": {
            "needs_background": "light"
          }
        }
      ]
    },
    {
      "cell_type": "markdown",
      "metadata": {
        "id": "uJfwT47zuW3u"
      },
      "source": [
        "As it can be seen on the plot, the loss is too high!  \n",
        "The main reason is that the data was not normalized!\n",
        "\n",
        "Thus, in order to increase the loss, **the data need to be normalized** first!"
      ]
    },
    {
      "cell_type": "code",
      "metadata": {
        "id": "KetT2FHnut1T"
      },
      "source": [
        "## DATA NORMALIZATION\n",
        "normal_inputs = [[[(i+j)/100] for i in range(5)] for j in range(100)]\n",
        "normal_target = [(i+5)/100    for i in range(100)]"
      ],
      "execution_count": 12,
      "outputs": []
    },
    {
      "cell_type": "code",
      "metadata": {
        "colab": {
          "base_uri": "https://localhost:8080/"
        },
        "id": "NAHk2JcHutwe",
        "outputId": "a8b77e38-f8b5-4e9b-c050-61f5b58a42d7"
      },
      "source": [
        "normal_inputs[0:5]"
      ],
      "execution_count": 13,
      "outputs": [
        {
          "output_type": "execute_result",
          "data": {
            "text/plain": [
              "[[[0.0], [0.01], [0.02], [0.03], [0.04]],\n",
              " [[0.01], [0.02], [0.03], [0.04], [0.05]],\n",
              " [[0.02], [0.03], [0.04], [0.05], [0.06]],\n",
              " [[0.03], [0.04], [0.05], [0.06], [0.07]],\n",
              " [[0.04], [0.05], [0.06], [0.07], [0.08]]]"
            ]
          },
          "metadata": {},
          "execution_count": 13
        }
      ]
    },
    {
      "cell_type": "code",
      "metadata": {
        "colab": {
          "base_uri": "https://localhost:8080/"
        },
        "id": "B137s9_Xt8Fn",
        "outputId": "3583b49b-a467-4b99-f868-b896138381e2"
      },
      "source": [
        "# DATA SPLITTING\n",
        "x_train, x_test, y_train, y_test = train_test_split(normal_inputs , normal_target, test_size=.2, random_state=4)\n",
        "\n",
        "# RNN MODEL\n",
        "model = Sequential()\n",
        "\n",
        "model.add(LSTM((1), batch_input_shape=(None,5,1), return_sequences=False))\n",
        "#1 is the OUTPUT-SIZE, batch_input_shape: #inputs, length_inputs, length_each vector\n",
        "\n",
        "model.compile(loss='mean_absolute_error', optimizer='adam', metrics=['accuracy'])\n",
        "model.summary()\n",
        "\n",
        "history = model.fit(x_train, y_train, epochs=500, validation_data=(x_test, y_test), verbose=0)\n",
        "\n",
        "results = model.predict(x_test)"
      ],
      "execution_count": 14,
      "outputs": [
        {
          "output_type": "stream",
          "name": "stdout",
          "text": [
            "Model: \"sequential_1\"\n",
            "_________________________________________________________________\n",
            "Layer (type)                 Output Shape              Param #   \n",
            "=================================================================\n",
            "lstm_1 (LSTM)                (None, 1)                 12        \n",
            "=================================================================\n",
            "Total params: 12\n",
            "Trainable params: 12\n",
            "Non-trainable params: 0\n",
            "_________________________________________________________________\n"
          ]
        }
      ]
    },
    {
      "cell_type": "code",
      "metadata": {
        "colab": {
          "base_uri": "https://localhost:8080/",
          "height": 265
        },
        "id": "W1kKcas_v3Dq",
        "outputId": "83b19616-ea49-4ad8-9af9-39f7cb0be20c"
      },
      "source": [
        "plt.scatter(range(20), y_test, c='g')\n",
        "plt.scatter(range(20), results, c='r')\n",
        "plt.show()"
      ],
      "execution_count": 15,
      "outputs": [
        {
          "output_type": "display_data",
          "data": {
            "image/png": "[encoded data removed]",
            "text/plain": [
              "<Figure size 432x288 with 1 Axes>"
            ]
          },
          "metadata": {
            "needs_background": "light"
          }
        }
      ]
    },
    {
      "cell_type": "code",
      "metadata": {
        "colab": {
          "base_uri": "https://localhost:8080/",
          "height": 265
        },
        "id": "23EcC8WLwEPm",
        "outputId": "e19b8618-7fec-4858-e170-3beb333bbf91"
      },
      "source": [
        "plt.plot(history.history['loss'])\n",
        "plt.show()"
      ],
      "execution_count": 16,
      "outputs": [
        {
          "output_type": "display_data",
          "data": {
            "image/png": "[encoded data removed]",
            "text/plain": [
              "<Figure size 432x288 with 1 Axes>"
            ]
          },
          "metadata": {
            "needs_background": "light"
          }
        }
      ]
    },
    {
      "cell_type": "code",
      "metadata": {
        "id": "b9Y46QuxWZc7"
      },
      "source": [
        ""
      ],
      "execution_count": null,
      "outputs": []
    }
  ]
}